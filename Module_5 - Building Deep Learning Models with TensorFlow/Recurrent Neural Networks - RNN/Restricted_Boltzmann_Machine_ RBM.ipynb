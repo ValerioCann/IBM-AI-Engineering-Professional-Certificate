{
 "cells": [
  {
   "cell_type": "markdown",
   "metadata": {},
   "source": [
    "<img src=\"https://cf-courses-data.s3.us.cloud-object-storage.appdomain.cloud/IBMDeveloperSkillsNetwork-DL0120EN-SkillsNetwork/images/IDSN-logo.png\" width=\"300\" alt=\"cognitiveclass.ai logo\">\n",
    "\n",
    "<h1 align=\"center\"><font size=\"5\">RESTRICTED BOLTZMANN MACHINES</font></h1>\n"
   ]
  },
  {
   "cell_type": "markdown",
   "metadata": {},
   "source": [
    "Estimated time needed: **25** minutes\n"
   ]
  },
  {
   "cell_type": "markdown",
   "metadata": {},
   "source": [
    "<h3>Introduction</h3>\n",
    "<b>Restricted Boltzmann Machine (RBM):</b>  RBMs are shallow neural nets that learn to reconstruct data by themselves in an unsupervised fashion.  \n",
    "\n",
    "\n",
    "<h4>Why are RBMs important?</h4>\n",
    "An RBM are a basic form of autoencoder.  It can automatically extract <b>meaningful</b> features from a given input.\n",
    "\n",
    "\n",
    "<h4>How does it work?</h4>\n",
    "RBM is a 2 layer neural network. Simply, RBM takes the inputs and translates those into a set of binary values that represents them in the hidden layer. Then, these numbers can be translated back to reconstruct the inputs. Through several forward and backward passes, the RBM will be trained, and a trained RBM can reveal which features are the most important ones when detecting patterns.   \n",
    "\n",
    "\n",
    "<h4>What are the applications of an RBM?</h4>\n",
    "RBM is useful for <a href='http://www.cs.utoronto.ca/~hinton/absps/netflixICML.pdf'>  Collaborative Filtering</a>, dimensionality reduction, classification, regression, feature learning, topic modeling and even <b>Deep Belief Networks</b>.\n",
    "\n",
    "<h4>Is RBM a generative or Discriminative model?</h4>\n",
    "RBM is a generative model. Let me explain it by first, see what is different between discriminative and generative models: \n",
    "\n",
    "<b>Discriminative:</b> Consider a classification problem where we want to learn to distinguish between Sedan cars (y = 1) and SUV cars (y = 0), based on some features of cars. Given a training set, an algorithm like logistic regression tries to find a straight line, or <i>decision boundary</i>, that separates the suv and sedan.  \n",
    "\n",
    "<b>Generative:</b> looking at cars, we can build a model of what Sedan cars look like. Then, looking at SUVs, we can build a separate model of what SUV cars look like. Finally, to classify a new car, we can match the new car against the Sedan model, and match it against the SUV model, to see whether the new car looks more like the SUV or Sedan. \n",
    "\n",
    "Generative Models specify a probability distribution over a dataset of input vectors. We can carry out both supervised and unsupervised tasks with generative models:\n",
    "<ul>\n",
    "    <li>In an unsupervised task, we try to form a model for $P(x)$, where $P$ is the probability given $x$ as an input vector.</li>\n",
    "    <li>In the supervised task, we first form a model for $P(x|y)$, where $P$ is the probability of $x$ given $y$(the label for $x$). For example, if $y = 0$ indicates that a car is an SUV, and $y = 1$ indicates that a car is a sedan, then $p(x|y = 0)$ models the distribution of SUV features, and $p(x|y = 1)$ models the distribution of sedan features. If we manage to find $P(x|y)$ and $P(y)$, then we can use <b>Bayes rule</b> to estimate $P(y|x)$, because:   \n",
    "        $$p(y|x) = \\frac{p(x|y)p(y)}{p(x)}$$</li>\n",
    "</ul>\n",
    "Now the question is, can we build a generative model, and then use it to create synthetic data by directly sampling from the modeled probability distributions? Lets see. \n"
   ]
  },
  {
   "cell_type": "markdown",
   "metadata": {},
   "source": [
    "<h2>Table of Contents</h2>\n",
    "<ol>\n",
    "    <li><a href=\"#ref1\">Initialization</a></li>\n",
    "    <li><a href=\"#ref2\">RBM layers</a></li>\n",
    "    <li><a href=\"#ref3\">What RBM can do after training?</a></li>\n",
    "    <li><a href=\"#ref4\">How to train the model?</a></li>\n",
    "    <li><a href=\"#ref5\">Learned features</a></li>\n",
    "</ol>\n",
    "<p></p>\n",
    "</div>\n",
    "<br>\n",
    "\n",
    "<hr>\n"
   ]
  },
  {
   "cell_type": "markdown",
   "metadata": {},
   "source": [
    "<a id=\"ref1\"></a>\n",
    "<h3>Initialization</h3>\n",
    "\n",
    "First, we have to load the utility file which contains different utility functions that are not connected\n",
    "in any way to the networks presented in the tutorials, but rather help in\n",
    "processing the outputs into a more understandable way.\n"
   ]
  },
  {
   "cell_type": "code",
   "execution_count": 1,
   "metadata": {
    "tags": []
   },
   "outputs": [],
   "source": [
    "import urllib.request\n",
    "with urllib.request.urlopen(\"https://cf-courses-data.s3.us.cloud-object-storage.appdomain.cloud/IBMDeveloperSkillsNetwork-DL0120EN-SkillsNetwork/labs/Week4/data/utils.py\") as url:\n",
    "    response = url.read()\n",
    "target = open('utils.py', 'w')\n",
    "target.write(response.decode('utf-8'))\n",
    "target.close()"
   ]
  },
  {
   "cell_type": "markdown",
   "metadata": {},
   "source": [
    "<h2>Installing TensorFlow </h2>\n",
    "\n",
    "We will installing TensorFlow version 2.9.0 and its required prerequistes.  Also installing pillow...\n"
   ]
  },
  {
   "cell_type": "code",
   "execution_count": 2,
   "metadata": {
    "tags": []
   },
   "outputs": [
    {
     "name": "stdout",
     "output_type": "stream",
     "text": [
      "Collecting grpcio==1.24.3\n",
      "  Downloading grpcio-1.24.3-cp37-cp37m-manylinux2010_x86_64.whl (2.2 MB)\n",
      "\u001b[2K     \u001b[90m━━━━━━━━━━━━━━━━━━━━━━━━━━━━━━━━━━━━━━━━\u001b[0m \u001b[32m2.2/2.2 MB\u001b[0m \u001b[31m25.5 MB/s\u001b[0m eta \u001b[36m0:00:00\u001b[0m00:01\u001b[0m\n",
      "\u001b[?25hRequirement already satisfied: six>=1.5.2 in /home/jupyterlab/conda/envs/python/lib/python3.7/site-packages (from grpcio==1.24.3) (1.16.0)\n",
      "Installing collected packages: grpcio\n",
      "  Attempting uninstall: grpcio\n",
      "    Found existing installation: grpcio 1.48.1\n",
      "    Uninstalling grpcio-1.48.1:\n",
      "      Successfully uninstalled grpcio-1.48.1\n",
      "Successfully installed grpcio-1.24.3\n",
      "Requirement already satisfied: tensorflow==2.9.0 in /home/jupyterlab/conda/envs/python/lib/python3.7/site-packages (2.9.0)\n",
      "Requirement already satisfied: absl-py>=1.0.0 in /home/jupyterlab/conda/envs/python/lib/python3.7/site-packages (from tensorflow==2.9.0) (1.4.0)\n",
      "Requirement already satisfied: astunparse>=1.6.0 in /home/jupyterlab/conda/envs/python/lib/python3.7/site-packages (from tensorflow==2.9.0) (1.6.3)\n",
      "Requirement already satisfied: flatbuffers<2,>=1.12 in /home/jupyterlab/conda/envs/python/lib/python3.7/site-packages (from tensorflow==2.9.0) (1.12)\n",
      "Requirement already satisfied: gast<=0.4.0,>=0.2.1 in /home/jupyterlab/conda/envs/python/lib/python3.7/site-packages (from tensorflow==2.9.0) (0.4.0)\n",
      "Requirement already satisfied: google-pasta>=0.1.1 in /home/jupyterlab/conda/envs/python/lib/python3.7/site-packages (from tensorflow==2.9.0) (0.2.0)\n",
      "Requirement already satisfied: grpcio<2.0,>=1.24.3 in /home/jupyterlab/conda/envs/python/lib/python3.7/site-packages (from tensorflow==2.9.0) (1.24.3)\n",
      "Requirement already satisfied: h5py>=2.9.0 in /home/jupyterlab/conda/envs/python/lib/python3.7/site-packages (from tensorflow==2.9.0) (3.8.0)\n",
      "Requirement already satisfied: keras<2.10.0,>=2.9.0rc0 in /home/jupyterlab/conda/envs/python/lib/python3.7/site-packages (from tensorflow==2.9.0) (2.9.0)\n",
      "Requirement already satisfied: keras-preprocessing>=1.1.1 in /home/jupyterlab/conda/envs/python/lib/python3.7/site-packages (from tensorflow==2.9.0) (1.1.2)\n",
      "Requirement already satisfied: libclang>=13.0.0 in /home/jupyterlab/conda/envs/python/lib/python3.7/site-packages (from tensorflow==2.9.0) (16.0.6)\n",
      "Requirement already satisfied: numpy>=1.20 in /home/jupyterlab/conda/envs/python/lib/python3.7/site-packages (from tensorflow==2.9.0) (1.21.4)\n",
      "Requirement already satisfied: opt-einsum>=2.3.2 in /home/jupyterlab/conda/envs/python/lib/python3.7/site-packages (from tensorflow==2.9.0) (3.3.0)\n",
      "Requirement already satisfied: packaging in /home/jupyterlab/conda/envs/python/lib/python3.7/site-packages (from tensorflow==2.9.0) (23.1)\n",
      "Requirement already satisfied: protobuf>=3.9.2 in /home/jupyterlab/conda/envs/python/lib/python3.7/site-packages (from tensorflow==2.9.0) (3.19.6)\n",
      "Requirement already satisfied: setuptools in /home/jupyterlab/conda/envs/python/lib/python3.7/site-packages (from tensorflow==2.9.0) (67.7.2)\n",
      "Requirement already satisfied: six>=1.12.0 in /home/jupyterlab/conda/envs/python/lib/python3.7/site-packages (from tensorflow==2.9.0) (1.16.0)\n",
      "Requirement already satisfied: tensorboard<2.10,>=2.9 in /home/jupyterlab/conda/envs/python/lib/python3.7/site-packages (from tensorflow==2.9.0) (2.9.1)\n",
      "Requirement already satisfied: tensorflow-io-gcs-filesystem>=0.23.1 in /home/jupyterlab/conda/envs/python/lib/python3.7/site-packages (from tensorflow==2.9.0) (0.34.0)\n",
      "Requirement already satisfied: tensorflow-estimator<2.10.0,>=2.9.0rc0 in /home/jupyterlab/conda/envs/python/lib/python3.7/site-packages (from tensorflow==2.9.0) (2.9.0)\n",
      "Requirement already satisfied: termcolor>=1.1.0 in /home/jupyterlab/conda/envs/python/lib/python3.7/site-packages (from tensorflow==2.9.0) (2.3.0)\n",
      "Requirement already satisfied: typing-extensions>=3.6.6 in /home/jupyterlab/conda/envs/python/lib/python3.7/site-packages (from tensorflow==2.9.0) (4.5.0)\n",
      "Requirement already satisfied: wrapt>=1.11.0 in /home/jupyterlab/conda/envs/python/lib/python3.7/site-packages (from tensorflow==2.9.0) (1.14.1)\n",
      "Requirement already satisfied: wheel<1.0,>=0.23.0 in /home/jupyterlab/conda/envs/python/lib/python3.7/site-packages (from astunparse>=1.6.0->tensorflow==2.9.0) (0.40.0)\n",
      "Requirement already satisfied: google-auth<3,>=1.6.3 in /home/jupyterlab/conda/envs/python/lib/python3.7/site-packages (from tensorboard<2.10,>=2.9->tensorflow==2.9.0) (2.28.0)\n",
      "Requirement already satisfied: google-auth-oauthlib<0.5,>=0.4.1 in /home/jupyterlab/conda/envs/python/lib/python3.7/site-packages (from tensorboard<2.10,>=2.9->tensorflow==2.9.0) (0.4.6)\n",
      "Requirement already satisfied: markdown>=2.6.8 in /home/jupyterlab/conda/envs/python/lib/python3.7/site-packages (from tensorboard<2.10,>=2.9->tensorflow==2.9.0) (3.4.3)\n",
      "Requirement already satisfied: requests<3,>=2.21.0 in /home/jupyterlab/conda/envs/python/lib/python3.7/site-packages (from tensorboard<2.10,>=2.9->tensorflow==2.9.0) (2.29.0)\n",
      "Requirement already satisfied: tensorboard-data-server<0.7.0,>=0.6.0 in /home/jupyterlab/conda/envs/python/lib/python3.7/site-packages (from tensorboard<2.10,>=2.9->tensorflow==2.9.0) (0.6.1)\n",
      "Requirement already satisfied: tensorboard-plugin-wit>=1.6.0 in /home/jupyterlab/conda/envs/python/lib/python3.7/site-packages (from tensorboard<2.10,>=2.9->tensorflow==2.9.0) (1.8.1)\n",
      "Requirement already satisfied: werkzeug>=1.0.1 in /home/jupyterlab/conda/envs/python/lib/python3.7/site-packages (from tensorboard<2.10,>=2.9->tensorflow==2.9.0) (2.2.3)\n",
      "Requirement already satisfied: cachetools<6.0,>=2.0.0 in /home/jupyterlab/conda/envs/python/lib/python3.7/site-packages (from google-auth<3,>=1.6.3->tensorboard<2.10,>=2.9->tensorflow==2.9.0) (5.3.2)\n",
      "Requirement already satisfied: pyasn1-modules>=0.2.1 in /home/jupyterlab/conda/envs/python/lib/python3.7/site-packages (from google-auth<3,>=1.6.3->tensorboard<2.10,>=2.9->tensorflow==2.9.0) (0.3.0)\n",
      "Requirement already satisfied: rsa<5,>=3.1.4 in /home/jupyterlab/conda/envs/python/lib/python3.7/site-packages (from google-auth<3,>=1.6.3->tensorboard<2.10,>=2.9->tensorflow==2.9.0) (4.9)\n",
      "Requirement already satisfied: requests-oauthlib>=0.7.0 in /home/jupyterlab/conda/envs/python/lib/python3.7/site-packages (from google-auth-oauthlib<0.5,>=0.4.1->tensorboard<2.10,>=2.9->tensorflow==2.9.0) (1.3.1)\n",
      "Requirement already satisfied: importlib-metadata>=4.4 in /home/jupyterlab/conda/envs/python/lib/python3.7/site-packages (from markdown>=2.6.8->tensorboard<2.10,>=2.9->tensorflow==2.9.0) (4.11.4)\n",
      "Requirement already satisfied: charset-normalizer<4,>=2 in /home/jupyterlab/conda/envs/python/lib/python3.7/site-packages (from requests<3,>=2.21.0->tensorboard<2.10,>=2.9->tensorflow==2.9.0) (3.1.0)\n",
      "Requirement already satisfied: idna<4,>=2.5 in /home/jupyterlab/conda/envs/python/lib/python3.7/site-packages (from requests<3,>=2.21.0->tensorboard<2.10,>=2.9->tensorflow==2.9.0) (3.4)\n",
      "Requirement already satisfied: urllib3<1.27,>=1.21.1 in /home/jupyterlab/conda/envs/python/lib/python3.7/site-packages (from requests<3,>=2.21.0->tensorboard<2.10,>=2.9->tensorflow==2.9.0) (1.26.15)\n",
      "Requirement already satisfied: certifi>=2017.4.17 in /home/jupyterlab/conda/envs/python/lib/python3.7/site-packages (from requests<3,>=2.21.0->tensorboard<2.10,>=2.9->tensorflow==2.9.0) (2023.5.7)\n",
      "Requirement already satisfied: MarkupSafe>=2.1.1 in /home/jupyterlab/conda/envs/python/lib/python3.7/site-packages (from werkzeug>=1.0.1->tensorboard<2.10,>=2.9->tensorflow==2.9.0) (2.1.1)\n",
      "Requirement already satisfied: zipp>=0.5 in /home/jupyterlab/conda/envs/python/lib/python3.7/site-packages (from importlib-metadata>=4.4->markdown>=2.6.8->tensorboard<2.10,>=2.9->tensorflow==2.9.0) (3.15.0)\n",
      "Requirement already satisfied: pyasn1<0.6.0,>=0.4.6 in /home/jupyterlab/conda/envs/python/lib/python3.7/site-packages (from pyasn1-modules>=0.2.1->google-auth<3,>=1.6.3->tensorboard<2.10,>=2.9->tensorflow==2.9.0) (0.5.0)\n",
      "Requirement already satisfied: oauthlib>=3.0.0 in /home/jupyterlab/conda/envs/python/lib/python3.7/site-packages (from requests-oauthlib>=0.7.0->google-auth-oauthlib<0.5,>=0.4.1->tensorboard<2.10,>=2.9->tensorflow==2.9.0) (3.2.2)\n",
      "Requirement already satisfied: pillow==8.1.0 in /home/jupyterlab/conda/envs/python/lib/python3.7/site-packages (8.1.0)\n"
     ]
    }
   ],
   "source": [
    "!pip install grpcio==1.24.3\n",
    "!pip install tensorflow==2.9.0\n",
    "!pip install pillow==8.1.0"
   ]
  },
  {
   "cell_type": "markdown",
   "metadata": {},
   "source": [
    "**Restart kernel for latest version of TensorFlow to be activated, then continue to the next section.**\n"
   ]
  },
  {
   "cell_type": "markdown",
   "metadata": {},
   "source": [
    "<b>Notice:</b> This notebook has been created with TensorFlow version 2.9.0, and might not work with other versions. Therefore we check:\n"
   ]
  },
  {
   "cell_type": "code",
   "execution_count": 1,
   "metadata": {
    "tags": []
   },
   "outputs": [
    {
     "name": "stderr",
     "output_type": "stream",
     "text": [
      "2024-02-19 14:10:42.670625: I tensorflow/core/util/util.cc:169] oneDNN custom operations are on. You may see slightly different numerical results due to floating-point round-off errors from different computation orders. To turn them off, set the environment variable `TF_ENABLE_ONEDNN_OPTS=0`.\n",
      "2024-02-19 14:10:42.686546: W tensorflow/stream_executor/platform/default/dso_loader.cc:64] Could not load dynamic library 'libcudart.so.11.0'; dlerror: libcudart.so.11.0: cannot open shared object file: No such file or directory\n",
      "2024-02-19 14:10:42.686583: I tensorflow/stream_executor/cuda/cudart_stub.cc:29] Ignore above cudart dlerror if you do not have a GPU set up on your machine.\n"
     ]
    }
   ],
   "source": [
    "import tensorflow as tf\n",
    "from IPython.display import Markdown, display\n",
    "\n",
    "def printmd(string):\n",
    "    display(Markdown('# <span style=\"color:red\">'+string+'</span>'))\n",
    "\n",
    "\n",
    "if not tf.__version__ == '2.9.0':\n",
    "    printmd('<<<<<!!!!! ERROR !!!! please upgrade to TensorFlow 2.9.0, or restart your Kernel (Kernel->Restart & Clear Output)>>>>>')"
   ]
  },
  {
   "cell_type": "markdown",
   "metadata": {},
   "source": [
    "Now, we load in all the packages that we use to create the net including the TensorFlow package:\n"
   ]
  },
  {
   "cell_type": "code",
   "execution_count": 2,
   "metadata": {
    "tags": []
   },
   "outputs": [],
   "source": [
    "import tensorflow as tf\n",
    "import numpy as np\n",
    "\n",
    "from PIL import Image\n",
    "from utils import tile_raster_images\n",
    "import matplotlib.pyplot as plt\n",
    "%matplotlib inline"
   ]
  },
  {
   "cell_type": "markdown",
   "metadata": {},
   "source": [
    "<hr>\n"
   ]
  },
  {
   "cell_type": "markdown",
   "metadata": {},
   "source": [
    "<a id=\"ref2\"></a>\n",
    "<h3>RBM layers</h3>\n",
    "\n",
    "An RBM has two layers. The first layer of the RBM is called the <b>visible</b> (or input layer). Imagine that our toy example, has only vectors with 7 values, so the visible layer must have $V=7$ input nodes. \n",
    "The second layer is the <b>hidden</b> layer, which has $H$ neurons in our case. Each hidden node takes on values of either 0 or 1 (i.e., $h_i = 1$ or $h_i$ = 0), with a probability that is a logistic function of the inputs it receives from the other $V$ visible units, called for example, $p(h_i = 1)$. For our toy sample, we'll use 2 nodes in the hidden layer, so $H = 2$.\n",
    "\n",
    "<center><img src=\"https://ibm.box.com/shared/static/eu26opvcefgls6vnwuo29uwp0nudmokh.png\" alt=\"RBM Model\" style=\"width: 400px;\"></center>\n"
   ]
  },
  {
   "cell_type": "markdown",
   "metadata": {},
   "source": [
    "     \n",
    "\n",
    "Each node in the first layer also has a <b>bias</b>. We will denote the bias as $v_{bias}$, and this single value is shared among the $V$ visible units.\n",
    "\n",
    "The <b>bias</b> of the second is defined similarly as $h_{bias}$, and this single value among the $H$ hidden units.\n"
   ]
  },
  {
   "cell_type": "code",
   "execution_count": 3,
   "metadata": {
    "tags": []
   },
   "outputs": [
    {
     "name": "stderr",
     "output_type": "stream",
     "text": [
      "2024-02-19 14:10:58.806532: W tensorflow/stream_executor/platform/default/dso_loader.cc:64] Could not load dynamic library 'libcuda.so.1'; dlerror: libcuda.so.1: cannot open shared object file: No such file or directory\n",
      "2024-02-19 14:10:58.806615: W tensorflow/stream_executor/cuda/cuda_driver.cc:269] failed call to cuInit: UNKNOWN ERROR (303)\n",
      "2024-02-19 14:10:58.806661: I tensorflow/stream_executor/cuda/cuda_diagnostics.cc:156] kernel driver does not appear to be running on this host (jupyterlab-valeriocanna): /proc/driver/nvidia/version does not exist\n",
      "2024-02-19 14:10:58.807125: I tensorflow/core/platform/cpu_feature_guard.cc:193] This TensorFlow binary is optimized with oneAPI Deep Neural Network Library (oneDNN) to use the following CPU instructions in performance-critical operations:  AVX2 AVX512F AVX512_VNNI FMA\n",
      "To enable them in other operations, rebuild TensorFlow with the appropriate compiler flags.\n"
     ]
    }
   ],
   "source": [
    "v_bias = tf.Variable(tf.zeros([7]), tf.float32)\n",
    "h_bias = tf.Variable(tf.zeros([2]), tf.float32)"
   ]
  },
  {
   "cell_type": "markdown",
   "metadata": {},
   "source": [
    "We have to define weights among the input layer and hidden layer nodes. In the weight matrix, the number of rows are equal to the input nodes, and the number of columns are equal to the output nodes. We define a tensor $\\mathbf{W}$ of shape = (7,2), where the number of visible neurons = 7, and the number of hidden neurons = 2. \n"
   ]
  },
  {
   "cell_type": "code",
   "execution_count": 4,
   "metadata": {
    "tags": []
   },
   "outputs": [],
   "source": [
    "W = tf.constant(np.random.normal(loc=0.0, scale=1.0, size=(7, 2)).astype(np.float32))"
   ]
  },
  {
   "cell_type": "markdown",
   "metadata": {},
   "source": [
    "<hr>\n"
   ]
  },
  {
   "cell_type": "markdown",
   "metadata": {},
   "source": [
    "<a id=\"ref3\"></a>\n",
    "<h3>What RBM can do after training?</h3>\n",
    "Think of RBM as a model that has been trained based on images of a dataset of many SUV and sedan cars. Also, imagine that the RBM network has only two hidden nodes, where one node encodes the weight and, and the other encodes the size.  \n",
    "In a sense, the different configurations represent different cars, where one is an SUV and the other is Sedan.  In a training process, through many forward and backward passes, the RBM adjust its weights to send a stronger signal to either the SUV node (0, 1) or the sedan node (1, 0) in the hidden layer, given the pixels of images. Now, given an SUV in hidden layer, which distribution of pixels should we expect? RBM can give you 2 things. First, it encodes your images in hidden layer. Second, it gives you the probability of observing a case, given some hidden values.\n",
    "\n",
    "\n",
    "<h3>The Inference Process</h3>\n",
    "\n",
    "RBM has two phases:\n",
    "<ul>\n",
    "    <li>Forward Pass</li>  \n",
    "    <li>Backward Pass or Reconstruction</li>\n",
    "</ul>\n",
    "\n",
    "<b>Phase 1) Forward pass:</b>  \n",
    "\n",
    "Input one training sample (one image) $\\mathbf{x}$ through all visible nodes, and pass it to all hidden nodes. Processing happens in each node in the hidden layer. This computation begins by making stochastic decisions about whether to transmit that input or not (i.e. to determine the state of each hidden layer).  First, the probability vector is computed using the input feature vector $\\mathbf{x}$, the weight matrix $\\mathbf{W}$, and the bias term $h_{bias}$, as \n",
    "\n",
    "\n",
    "$$p({h_j}|\\mathbf x)= \\sigma( \\sum_{i=1}^V W_{ij} x_i + h_{bias} )$$, \n",
    "\n",
    "where $\\sigma(z) = (1+e^{-z})^{-1}$ is the logistic function.\n",
    "\n",
    "\n",
    "So, what does $p({h_j})$ represent? It is the <b>probability distribution</b> of the hidden units. That is, RBM uses inputs $x_i$ to make predictions about hidden node activations. For example, imagine that the hidden node activation values are [0.51 0.84] for the first training item. It tells you that the conditional probability for each hidden neuron for Phase 1 is: \n",
    "\n",
    "$$p(h_{1} = 1|\\mathbf{v}) = 0.51$$\n",
    "$$p(h_{2} = 1|\\mathbf{v}) = 0.84$$\n",
    "\n",
    "As a result, for each row in the training set, vector of probabilities is generated.  In TensorFlow, this is referred to as a `tensor` with a shape of (1,2). \n",
    "\n",
    "We then turn unit $j$ with probability $p(h_{j}|\\mathbf{v})$, and turn it off with probability $1 - p(h_{j}|\\mathbf{v})$ by generating a uniform random number vector $\\mathbf{\\xi}$, and comparing it to the activation probability as \n",
    "\n",
    "<center>If $\\xi_j>p(h_{j}|\\mathbf{v})$, then $h_j=1$, else $h_j=0$.</center>\n",
    "\n",
    "\n",
    "Therefore, the conditional probability of a configuration of $\\mathbf{h}$ given $\\mathbf{v}$ (for a training sample) is:\n",
    "\n",
    "$$p(\\mathbf{h} \\mid \\mathbf{v}) = \\prod_{j=1}^H p(h_j \\mid \\mathbf{v})$$\n",
    "\n",
    "\n",
    "where $H$ is the number of hidden units.\n",
    "\n"
   ]
  },
  {
   "cell_type": "markdown",
   "metadata": {},
   "source": [
    "Before we go further, let's look at a toy example for one case out of all input. Assume that we have a trained RBM, and a very simple input vector, such as [1.0, 0.0, 0.0, 1.0, 0.0, 0.0, 0.0].   \n",
    "Let's see what the output of forward pass would look like:\n"
   ]
  },
  {
   "cell_type": "code",
   "execution_count": 5,
   "metadata": {
    "tags": []
   },
   "outputs": [
    {
     "name": "stdout",
     "output_type": "stream",
     "text": [
      "Input:  tf.Tensor([[1. 0. 0. 1. 0. 0. 0.]], shape=(1, 7), dtype=float32)\n",
      "hb:  tf.Tensor([0.1 0.1], shape=(2,), dtype=float32)\n",
      "w:  tf.Tensor(\n",
      "[[-0.12649573  0.9142717 ]\n",
      " [ 0.2980629   0.04856773]\n",
      " [ 0.6217127   0.3174584 ]\n",
      " [-0.4451342   1.2840245 ]\n",
      " [ 1.9081228  -2.6321542 ]\n",
      " [ 0.25013474 -0.77032083]\n",
      " [-0.5348875   0.23110473]], shape=(7, 2), dtype=float32)\n",
      "p(h|v):  tf.Tensor([[0.38423055 0.9087358 ]], shape=(1, 2), dtype=float32)\n",
      "h0 states: tf.Tensor([[0. 1.]], shape=(1, 2), dtype=float32)\n"
     ]
    }
   ],
   "source": [
    "X = tf.constant([[1.0, 0.0, 0.0, 1.0, 0.0, 0.0, 0.0]], tf.float32)\n",
    "\n",
    "v_state = X\n",
    "print (\"Input: \", v_state)\n",
    "\n",
    "h_bias = tf.constant([0.1, 0.1])\n",
    "print (\"hb: \", h_bias)\n",
    "print (\"w: \", W)\n",
    "\n",
    "# Calculate the probabilities of turning the hidden units on:\n",
    "h_prob = tf.nn.sigmoid(tf.matmul(v_state, W) + h_bias)  #probabilities of the hidden units\n",
    "print (\"p(h|v): \", h_prob)\n",
    "\n",
    "# Draw samples from the distribution:\n",
    "h_state = tf.nn.relu(tf.sign(h_prob - tf.random.uniform(tf.shape(h_prob)))) #states\n",
    "print (\"h0 states:\", h_state)"
   ]
  },
  {
   "cell_type": "markdown",
   "metadata": {},
   "source": [
    "<b>Phase 2) Backward Pass (Reconstruction):</b>\n",
    "The RBM reconstructs data by making several forward and backward passes between the visible and hidden layers.\n",
    "\n",
    "So, in the second phase (i.e. reconstruction phase), the samples from the hidden layer (i.e. $\\mathbf h$) becomes the input in the backward pass. The same weight matrix and visible layer biases are used to passed to the sigmoid function. The reproduced output is a reconstruction which is an approximation of the original input.\n"
   ]
  },
  {
   "cell_type": "code",
   "execution_count": 6,
   "metadata": {
    "tags": []
   },
   "outputs": [
    {
     "name": "stdout",
     "output_type": "stream",
     "text": [
      "b:  tf.Tensor([0.1 0.2 0.1 0.1 0.1 0.2 0.1], shape=(7,), dtype=float32)\n",
      "p(vi∣h):  tf.Tensor(\n",
      "[[0.7338553  0.56182396 0.6028749  0.7996366  0.07363456 0.36116278\n",
      "  0.58202815]], shape=(1, 7), dtype=float32)\n",
      "v probability states:  tf.Tensor([[1. 0. 1. 1. 0. 0. 1.]], shape=(1, 7), dtype=float32)\n"
     ]
    }
   ],
   "source": [
    "vb = tf.constant([0.1, 0.2, 0.1, 0.1, 0.1, 0.2, 0.1])\n",
    "print (\"b: \", vb)\n",
    "v_prob = tf.nn.sigmoid(tf.matmul(h_state, tf.transpose(W)) + vb)\n",
    "print (\"p(vi∣h): \", v_prob)\n",
    "v_state = tf.nn.relu(tf.sign(v_prob - tf.random.uniform(tf.shape(v_prob))))\n",
    "print (\"v probability states: \", v_state)"
   ]
  },
  {
   "cell_type": "markdown",
   "metadata": {},
   "source": [
    "RBM learns a probability distribution over the input, and then, after being trained, the RBM can generate new samples from the learned probability distribution. As you know, <b>probability distribution</b>, is a mathematical function that provides the probabilities of occurrence of different possible outcomes in an experiment.\n",
    "\n",
    "The (conditional) probability distribution over the visible units v is given by\n",
    "\n",
    "$$p(\\mathbf{v} \\mid \\mathbf{h}) = \\prod_{i=1}^V p(v_i \\mid \\mathbf{h}),$$\n",
    "\n",
    "\n",
    "where,\n",
    "\n",
    "$$p(v_i \\mid \\mathbf{h}) = \\sigma\\left(\\sum_{j=1}^H W_{ji} h_j + v_{bias} \\right)$$\n",
    "\n",
    "so, given current state of hidden units and weights, what is the probability of generating [1. 0. 0. 1. 0. 0. 0.] in reconstruction phase, based on the above <b>probability distribution</b> function?\n"
   ]
  },
  {
   "cell_type": "code",
   "execution_count": 7,
   "metadata": {
    "tags": []
   },
   "outputs": [
    {
     "name": "stdout",
     "output_type": "stream",
     "text": [
      "input X: [[1. 0. 0. 1. 0. 0. 0.]]\n",
      "probablity vector: [0.7338553  0.56182396 0.6028749  0.7996366  0.07363456 0.36116278\n",
      " 0.58202815]\n",
      "probability of generating X:  0.025257984\n"
     ]
    }
   ],
   "source": [
    "inp = X\n",
    "print(\"input X:\" , inp.numpy())\n",
    "\n",
    "print(\"probablity vector:\" , v_prob[0].numpy())\n",
    "v_probability = 1\n",
    "\n",
    "for elm, p in zip(inp[0],v_prob[0]) :\n",
    "    if elm ==1:\n",
    "        v_probability *= p\n",
    "    else:\n",
    "        v_probability *= (1-p)\n",
    "\n",
    "print(\"probability of generating X: \" , v_probability.numpy())"
   ]
  },
  {
   "cell_type": "markdown",
   "metadata": {},
   "source": [
    "How similar are vectors $\\mathbf{x}$ and $\\mathbf{v}$? Of course, the reconstructed values most likely will not look anything like the input vector, because our network has not been trained yet. Our objective is to train the model in such a way that the input vector and reconstructed vector to be same. Therefore, based on how different the input values look to the ones that we just reconstructed, the weights are adjusted. \n"
   ]
  },
  {
   "cell_type": "markdown",
   "metadata": {},
   "source": [
    "<hr>\n"
   ]
  },
  {
   "cell_type": "markdown",
   "metadata": {},
   "source": [
    "\n",
    "<h2>MNIST</h2>\n"
   ]
  },
  {
   "cell_type": "markdown",
   "metadata": {},
   "source": [
    "We will be using the MNIST dataset to practice the usage of RBMs. The following cell loads the MNIST dataset.\n"
   ]
  },
  {
   "cell_type": "code",
   "execution_count": 8,
   "metadata": {
    "tags": []
   },
   "outputs": [
    {
     "name": "stdout",
     "output_type": "stream",
     "text": [
      "Downloading data from https://storage.googleapis.com/tensorflow/tf-keras-datasets/mnist.npz\n",
      "11490434/11490434 [==============================] - 0s 0us/step\n"
     ]
    }
   ],
   "source": [
    "#loading training and test data\n",
    "mnist = tf.keras.datasets.mnist\n",
    "(trX, trY), (teX, teY) = mnist.load_data()\n",
    "\n",
    "# showing an example of the Flatten class and operation\n",
    "from tensorflow.keras.layers import Flatten\n",
    "flatten = Flatten(dtype='float32')\n",
    "trX = flatten(trX/255.0)\n",
    "trY = flatten(trY/255.0)"
   ]
  },
  {
   "cell_type": "markdown",
   "metadata": {},
   "source": [
    "Lets look at the dimension of the images.\n"
   ]
  },
  {
   "cell_type": "markdown",
   "metadata": {},
   "source": [
    "MNIST images have 784 pixels, so the visible layer must have 784 input nodes.  For our case, we'll use 50 nodes in the hidden layer, so i = 50.\n"
   ]
  },
  {
   "cell_type": "code",
   "execution_count": 9,
   "metadata": {
    "tags": []
   },
   "outputs": [],
   "source": [
    "vb = tf.Variable(tf.zeros([784]), tf.float32)\n",
    "hb = tf.Variable(tf.zeros([50]), tf.float32)"
   ]
  },
  {
   "cell_type": "markdown",
   "metadata": {},
   "source": [
    "Let $\\mathbf W$ be the Tensor of 784x50 (784 - number of visible neurons, 50 - number of hidden neurons) that represents weights between the neurons. \n"
   ]
  },
  {
   "cell_type": "code",
   "execution_count": 10,
   "metadata": {
    "tags": []
   },
   "outputs": [],
   "source": [
    "W = tf.Variable(tf.zeros([784,50]), tf.float32)"
   ]
  },
  {
   "cell_type": "markdown",
   "metadata": {},
   "source": [
    "Lets define the visible layer:\n"
   ]
  },
  {
   "cell_type": "code",
   "execution_count": 11,
   "metadata": {
    "tags": []
   },
   "outputs": [
    {
     "data": {
      "text/plain": [
       "<tf.Tensor: shape=(1, 50), dtype=float32, numpy=\n",
       "array([[0., 0., 0., 0., 0., 0., 0., 0., 0., 0., 0., 0., 0., 0., 0., 0.,\n",
       "        0., 0., 0., 0., 0., 0., 0., 0., 0., 0., 0., 0., 0., 0., 0., 0.,\n",
       "        0., 0., 0., 0., 0., 0., 0., 0., 0., 0., 0., 0., 0., 0., 0., 0.,\n",
       "        0., 0.]], dtype=float32)>"
      ]
     },
     "execution_count": 11,
     "metadata": {},
     "output_type": "execute_result"
    }
   ],
   "source": [
    "v0_state = tf.Variable(tf.zeros([784]), tf.float32)\n",
    "\n",
    "#testing to see if the matrix product works\n",
    "tf.matmul( [v0_state], W)"
   ]
  },
  {
   "cell_type": "markdown",
   "metadata": {},
   "source": [
    "Now, we can define hidden layer:\n"
   ]
  },
  {
   "cell_type": "code",
   "execution_count": 12,
   "metadata": {
    "tags": []
   },
   "outputs": [
    {
     "name": "stdout",
     "output_type": "stream",
     "text": [
      "h0_state shape:  tf.Tensor([ 1 50], shape=(2,), dtype=int32)\n",
      "first 15 hidden states:  tf.Tensor([0. 1. 1. 0. 1. 1. 1. 0. 0. 1. 1. 1. 0. 0. 0.], shape=(15,), dtype=float32)\n"
     ]
    }
   ],
   "source": [
    "#computing the hidden nodes probability vector and checking shape\n",
    "h0_prob = tf.nn.sigmoid(tf.matmul([v0_state], W) + hb)  #probabilities of the hidden units\n",
    "print(\"h0_state shape: \" , tf.shape(h0_prob))\n",
    "\n",
    "#defining a function to return only the generated hidden states \n",
    "def hidden_layer(v0_state, W, hb):\n",
    "    h0_prob = tf.nn.sigmoid(tf.matmul([v0_state], W) + hb)  #probabilities of the hidden units\n",
    "    h0_state = tf.nn.relu(tf.sign(h0_prob - tf.random.uniform(tf.shape(h0_prob)))) #sample_h_given_X\n",
    "    return h0_state\n",
    "\n",
    "\n",
    "h0_state = hidden_layer(v0_state, W, hb)\n",
    "print(\"first 15 hidden states: \", h0_state[0][0:15])"
   ]
  },
  {
   "cell_type": "markdown",
   "metadata": {},
   "source": [
    "Now, we define reconstruction part:\n"
   ]
  },
  {
   "cell_type": "code",
   "execution_count": 13,
   "metadata": {
    "tags": []
   },
   "outputs": [
    {
     "name": "stdout",
     "output_type": "stream",
     "text": [
      "hidden state shape:  (1, 50)\n",
      "v0 state shape:   (784,)\n",
      "v1 state shape:   (784,)\n"
     ]
    }
   ],
   "source": [
    "def reconstructed_output(h0_state, W, vb):\n",
    "    v1_prob = tf.nn.sigmoid(tf.matmul(h0_state, tf.transpose(W)) + vb) \n",
    "    v1_state = tf.nn.relu(tf.sign(v1_prob - tf.random.uniform(tf.shape(v1_prob)))) #sample_v_given_h\n",
    "    return v1_state[0]\n",
    "\n",
    "v1_state = reconstructed_output(h0_state, W, vb)\n",
    "print(\"hidden state shape: \", h0_state.shape)\n",
    "print(\"v0 state shape:  \", v0_state.shape)\n",
    "print(\"v1 state shape:  \", v1_state.shape)"
   ]
  },
  {
   "cell_type": "markdown",
   "metadata": {},
   "source": [
    "<h3>What is the objective function?</h3>\n",
    "\n",
    "<b>Goal</b>: Maximize the likelihood of our data being drawn from that distribution\n",
    "\n",
    "<b>Calculate error:</b>  \n",
    "In each epoch, we compute the \"error\" as a sum of the squared difference between step 1 and step n,\n",
    "e.g the error shows the difference between the data and its reconstruction.\n",
    "\n",
    "<b>Note:</b> tf.reduce_mean computes the mean of elements across dimensions of a tensor.\n"
   ]
  },
  {
   "cell_type": "code",
   "execution_count": 14,
   "metadata": {
    "tags": []
   },
   "outputs": [
    {
     "name": "stdout",
     "output_type": "stream",
     "text": [
      "error 0.5153061\n"
     ]
    }
   ],
   "source": [
    "def error(v0_state, v1_state):\n",
    "    return tf.reduce_mean(tf.square(v0_state - v1_state))\n",
    "\n",
    "err = tf.reduce_mean(tf.square(v0_state - v1_state))\n",
    "print(\"error\" , err.numpy())"
   ]
  },
  {
   "cell_type": "markdown",
   "metadata": {},
   "source": [
    "<a id=\"ref4\"></a>\n",
    "<h3>Training the Model</h3>\n",
    "<b>Warning...</b> The following part is math-heavy, but you can skip it if you just want to run the cells in the next section.\n",
    "\n",
    "As mentioned, we want to give a high probability to the input data we train on. So, in order to train an RBM, we have to maximize the product of probabilities assigned to all rows $\\mathbf{v}$ (images) in the training set $\\mathbf{V}$ (a matrix, where each row of it is treated as a visible vector $\\mathbf{v}$)\n",
    "\n",
    "$$\\arg \\max_W \\prod_{\\mathbf{v}\\in\\mathbf{V}_T} p(\\mathbf{v})$$\n",
    "\n",
    "\n",
    "which is equivalent to maximizing the expectation of the log probability, given as\n",
    "\n",
    "$$\\arg\\max_W\\left[ \\mathbb{E} \\left(\\prod_{\\mathbf v\\in \\mathbf V}\\text{log} \\left(p(\\mathbf v)\\right) \\right) \\right].$$\n",
    "\n",
    "\n",
    "So, we have to update the weights $W_{ij}$  to increase $p(\\mathbf{v})$ for all $\\mathbf{v}$ in our training data during training. So we have to calculate the derivative:\n",
    "\n",
    "\n",
    "$$\\frac{\\partial \\log p(\\mathbf v)}{\\partial W_{ij}}$$\n",
    "\n",
    "This cannot be easily done by typical <b>gradient descent (SGD)</b>, so we can use another approach, which has 2 steps:\n",
    "<ol>\n",
    "    <li>Gibbs Sampling</li>\n",
    "    <li>Contrastive Divergence</li>\n",
    "</ol>    \n",
    "    \n",
    "<h3>Gibbs Sampling</h3>   \n",
    "\n",
    "<h4>Gibbs Sampling Step 1</h4> \n",
    "Given an input vector $\\mathbf{v}$, we are using $p(\\mathbf{h}|\\mathbf{v})$ to predict the hidden values $\\mathbf{h}$. \n",
    "  $$p({h_j}|\\mathbf v)= \\sigma\\left(\\sum_{i=1}^V W_{ij} v_i + h_{bias} \\right)$$\n",
    "The samples are generated from this distribution by generating the uniform random variate vector $\\mathbf{\\xi} \\sim U[0,1]$ of length $H$ and comparing to the computed probabilities as\n",
    "\n",
    "\n",
    "<center>If $\\xi_j>p(h_{j}|\\mathbf{v})$, then $h_j=1$, else $h_j=0$.</center>\n",
    "\n",
    "\n",
    "<h4>Gibbs Sampling Step 2</h4> \n",
    "Then, knowing the hidden values, we use $p(\\mathbf v| \\mathbf h)$ for reconstructing of new input values v. \n",
    "\n",
    "   $$p({v_i}|\\mathbf h)= \\sigma\\left(\\sum_{j=1}^H W^{T}_{ij} h_j + v_{bias} \\right)$$\n",
    "\n",
    "\n",
    "The samples are generated from this distribution by generating a uniform random variate vector $\\mathbf{\\xi} \\sim U[0,1]$ of length $V$ and comparing to the computed probabilities as\n",
    "\n",
    "<center>If $\\xi_i>p(v_{i}|\\mathbf{h})$, then $v_i=1$, else $v_i=0$.</center>\n",
    "\n",
    "Let vectors $\\mathbf v_k$ and $\\mathbf h_k$ be for the $k$th iteration.  In general, the $kth$ state is generrated as: \n",
    "\n",
    "\n",
    "    \n",
    "<b>Iteration</b> $k$: \n",
    "\n",
    "$$\\mathbf v_{k-1} \\Rightarrow p(\\mathbf h_{k-1}|\\mathbf v_{k-1})\\Rightarrow \\mathbf h_{k-1}\\Rightarrow p(\\mathbf v_{k}|\\mathbf h_{k-1})\\Rightarrow \\mathbf v_k$$       \n",
    "    \n",
    "<h3>Contrastive Divergence (CD-k)</h3>\n",
    "The update of the weight matrix is done during the Contrastive Divergence step. \n",
    "\n",
    "Vectors v0 and vk are used to calculate the activation probabilities for hidden values h0 and hk. The difference between the outer products of those probabilities with input vectors v0 and vk results in the update matrix:\n",
    "\n",
    "\n",
    "$$\\Delta \\mathbf W_k =\\mathbf v_k \\otimes \\mathbf h_k - \\mathbf v_{k-1} \\otimes \\mathbf h_{k-1}$$\n",
    "\n",
    "Contrastive Divergence is actually matrix of values that is computed and used to adjust values of the $\\mathbf W$ matrix. Changing $\\mathbf W$ incrementally leads to training of the  $\\mathbf W$ values. Then, on each step (epoch), $\\mathbf W$ is updated using the following:\n",
    "\n",
    "$$\\mathbf W_k = \\mathbf W_{k-1} + \\alpha * \\Delta \\mathbf W_k$$\n",
    "\n",
    "\n",
    "\n",
    "Reconstruction steps:\n",
    "<ul>\n",
    "    <li> Get one data point from data set, like <i>x</i>, and pass it through the following steps:</li>\n",
    "    \n",
    "<b>Iteration</b> $k=1$: \n",
    "    \n",
    "Sampling (starting with input image)\n",
    "    $$\\mathbf x = \\mathbf v_0 \\Rightarrow p(\\mathbf h_0|\\mathbf v_0)\\Rightarrow \\mathbf h_0 \\Rightarrow p(\\mathbf v_1|\\mathbf h_0)\\Rightarrow \\mathbf v_1$$   \n",
    "    followed by the CD-k step\n",
    "$$\\Delta \\mathbf W_1 =\\mathbf v_1 \\otimes \\mathbf h_1 - \\mathbf v_{0} \\otimes \\mathbf h_{0}$$     \n",
    "$$\\mathbf W_1 = \\mathbf W_{0} + \\alpha * \\Delta \\mathbf W_1$$ \n",
    " \n",
    "<li> $\\mathbf v_1$ is the reconstruction of $\\mathbf x$ sent to the next iteration).</li>\n",
    "\n",
    "<b>Iteration</b> $k=2$: \n",
    "\n",
    "Sampling (starting with $\\mathbf v_1$)\n",
    "\n",
    "$$\\mathbf v_1 \\Rightarrow p(\\mathbf h_1|\\mathbf v_1)\\Rightarrow \\mathbf h_1\\Rightarrow p(\\mathbf v_2|\\mathbf h_1)\\Rightarrow \\mathbf v_2$$   \n",
    "\n",
    "followed by the CD-k step\n",
    "$$\\Delta \\mathbf W_2 =\\mathbf v_2 \\otimes \\mathbf h_2 - \\mathbf v_{1} \\otimes \\mathbf h_{1}$$     \n",
    "$$\\mathbf W_2 = \\mathbf W_{1} + \\alpha * \\Delta \\mathbf W_2$$ \n",
    "\n",
    "<li> $\\mathbf v_2$ is the reconstruction of $\\mathbf v_1$ sent to the next iteration).</li>    \n",
    "      \n",
    "<b>Iteration</b> $k=K$:\n",
    "    \n",
    "Sampling (starting with $\\mathbf v_{K-1}$)\n",
    "\n",
    "$$\\mathbf v_{K-1} \\Rightarrow p(\\mathbf h_{K-1}|\\mathbf v_{K-1})\\Rightarrow \\mathbf h_{K-1}\\Rightarrow p(\\mathbf v_K|\\mathbf h_{K-1})\\Rightarrow \\mathbf v_K$$   \n",
    "\n",
    "followed by the CD-k step\n",
    "$$\\Delta \\mathbf W_K =\\mathbf v_K \\otimes \\mathbf h_K - \\mathbf v_{K-1} \\otimes \\mathbf h_{K-1}$$     \n",
    "$$\\mathbf W_K = \\mathbf W_{K-1} + \\alpha * \\Delta \\mathbf W_K$$ \n",
    "    \n",
    "<b>What is $\\alpha$?</b>  \n",
    "Here, alpha is some small step size, and is also known as the \"learning rate\".\n"
   ]
  },
  {
   "cell_type": "markdown",
   "metadata": {},
   "source": [
    "$K$ is adjustable, and good performance can be achieved with $K=1$, so that we just take one set of sampling steps per image.\n"
   ]
  },
  {
   "cell_type": "code",
   "execution_count": 15,
   "metadata": {
    "tags": []
   },
   "outputs": [],
   "source": [
    "h1_prob = tf.nn.sigmoid(tf.matmul([v1_state], W) + hb)\n",
    "h1_state = tf.nn.relu(tf.sign(h1_prob - tf.random.uniform(tf.shape(h1_prob)))) #sample_h_given_X"
   ]
  },
  {
   "cell_type": "markdown",
   "metadata": {},
   "source": [
    "Lets look at the error of the first run:\n"
   ]
  },
  {
   "cell_type": "code",
   "execution_count": 16,
   "metadata": {
    "tags": []
   },
   "outputs": [
    {
     "name": "stdout",
     "output_type": "stream",
     "text": [
      "error:  tf.Tensor(0.5153061, shape=(), dtype=float32)\n"
     ]
    }
   ],
   "source": [
    "print(\"error: \", error(v0_state, v1_state))"
   ]
  },
  {
   "cell_type": "code",
   "execution_count": 17,
   "metadata": {
    "tags": []
   },
   "outputs": [
    {
     "name": "stdout",
     "output_type": "stream",
     "text": [
      "Epoch: 0 batch #: 1  of 300 sample #: 199 reconstruction error: 0.175913\n",
      "Epoch: 0 batch #: 2  of 300 sample #: 199 reconstruction error: 0.223072\n",
      "Epoch: 0 batch #: 3  of 300 sample #: 199 reconstruction error: 0.103563\n",
      "Epoch: 0 batch #: 4  of 300 sample #: 199 reconstruction error: 0.132504\n",
      "Epoch: 0 batch #: 5  of 300 sample #: 199 reconstruction error: 0.102389\n",
      "Epoch: 0 batch #: 6  of 300 sample #: 199 reconstruction error: 0.174999\n",
      "Epoch: 0 batch #: 7  of 300 sample #: 199 reconstruction error: 0.078440\n",
      "Epoch: 0 batch #: 8  of 300 sample #: 199 reconstruction error: 0.122560\n",
      "Epoch: 0 batch #: 9  of 300 sample #: 199 reconstruction error: 0.109941\n",
      "Epoch: 0 batch #: 10  of 300 sample #: 199 reconstruction error: 0.176146\n",
      "Epoch: 0 batch #: 11  of 300 sample #: 199 reconstruction error: 0.083653\n",
      "Epoch: 0 batch #: 12  of 300 sample #: 199 reconstruction error: 0.146515\n",
      "Epoch: 0 batch #: 13  of 300 sample #: 199 reconstruction error: 0.059317\n",
      "Epoch: 0 batch #: 14  of 300 sample #: 199 reconstruction error: 0.087571\n",
      "Epoch: 0 batch #: 15  of 300 sample #: 199 reconstruction error: 0.101286\n",
      "Epoch: 0 batch #: 16  of 300 sample #: 199 reconstruction error: 0.114815\n",
      "Epoch: 0 batch #: 17  of 300 sample #: 199 reconstruction error: 0.082345\n",
      "Epoch: 0 batch #: 18  of 300 sample #: 199 reconstruction error: 0.137747\n",
      "Epoch: 0 batch #: 19  of 300 sample #: 199 reconstruction error: 0.157342\n",
      "Epoch: 0 batch #: 20  of 300 sample #: 199 reconstruction error: 0.108204\n",
      "Epoch: 0 batch #: 21  of 300 sample #: 199 reconstruction error: 0.079734\n",
      "Epoch: 0 batch #: 22  of 300 sample #: 199 reconstruction error: 0.076954\n",
      "Epoch: 0 batch #: 23  of 300 sample #: 199 reconstruction error: 0.109684\n",
      "Epoch: 0 batch #: 24  of 300 sample #: 199 reconstruction error: 0.133428\n",
      "Epoch: 0 batch #: 25  of 300 sample #: 199 reconstruction error: 0.098964\n",
      "Epoch: 0 batch #: 26  of 300 sample #: 199 reconstruction error: 0.096120\n",
      "Epoch: 0 batch #: 27  of 300 sample #: 199 reconstruction error: 0.101090\n",
      "Epoch: 0 batch #: 28  of 300 sample #: 199 reconstruction error: 0.085021\n",
      "Epoch: 0 batch #: 29  of 300 sample #: 199 reconstruction error: 0.095514\n",
      "Epoch: 0 batch #: 30  of 300 sample #: 199 reconstruction error: 0.080345\n",
      "Epoch: 0 batch #: 31  of 300 sample #: 199 reconstruction error: 0.095340\n",
      "Epoch: 0 batch #: 32  of 300 sample #: 199 reconstruction error: 0.121575\n",
      "Epoch: 0 batch #: 33  of 300 sample #: 199 reconstruction error: 0.070732\n",
      "Epoch: 0 batch #: 34  of 300 sample #: 199 reconstruction error: 0.073655\n",
      "Epoch: 0 batch #: 35  of 300 sample #: 199 reconstruction error: 0.071499\n",
      "Epoch: 0 batch #: 36  of 300 sample #: 199 reconstruction error: 0.083778\n",
      "Epoch: 0 batch #: 37  of 300 sample #: 199 reconstruction error: 0.055150\n",
      "Epoch: 0 batch #: 38  of 300 sample #: 199 reconstruction error: 0.066466\n",
      "Epoch: 0 batch #: 39  of 300 sample #: 199 reconstruction error: 0.084889\n",
      "Epoch: 0 batch #: 40  of 300 sample #: 199 reconstruction error: 0.113770\n",
      "Epoch: 0 batch #: 41  of 300 sample #: 199 reconstruction error: 0.077723\n",
      "Epoch: 0 batch #: 42  of 300 sample #: 199 reconstruction error: 0.068541\n",
      "Epoch: 0 batch #: 43  of 300 sample #: 199 reconstruction error: 0.121532\n",
      "Epoch: 0 batch #: 44  of 300 sample #: 199 reconstruction error: 0.058755\n",
      "Epoch: 0 batch #: 45  of 300 sample #: 199 reconstruction error: 0.071851\n",
      "Epoch: 0 batch #: 46  of 300 sample #: 199 reconstruction error: 0.029155\n",
      "Epoch: 0 batch #: 47  of 300 sample #: 199 reconstruction error: 0.036329\n",
      "Epoch: 0 batch #: 48  of 300 sample #: 199 reconstruction error: 0.046204\n",
      "Epoch: 0 batch #: 49  of 300 sample #: 199 reconstruction error: 0.103139\n",
      "Epoch: 0 batch #: 50  of 300 sample #: 199 reconstruction error: 0.054234\n",
      "Epoch: 0 batch #: 51  of 300 sample #: 199 reconstruction error: 0.067943\n",
      "Epoch: 0 batch #: 52  of 300 sample #: 199 reconstruction error: 0.035620\n",
      "Epoch: 0 batch #: 53  of 300 sample #: 199 reconstruction error: 0.107112\n",
      "Epoch: 0 batch #: 54  of 300 sample #: 199 reconstruction error: 0.052229\n",
      "Epoch: 0 batch #: 55  of 300 sample #: 199 reconstruction error: 0.120059\n",
      "Epoch: 0 batch #: 56  of 300 sample #: 199 reconstruction error: 0.053229\n",
      "Epoch: 0 batch #: 57  of 300 sample #: 199 reconstruction error: 0.052096\n",
      "Epoch: 0 batch #: 58  of 300 sample #: 199 reconstruction error: 0.074407\n",
      "Epoch: 0 batch #: 59  of 300 sample #: 199 reconstruction error: 0.058117\n",
      "Epoch: 0 batch #: 60  of 300 sample #: 199 reconstruction error: 0.077678\n",
      "Epoch: 0 batch #: 61  of 300 sample #: 199 reconstruction error: 0.066541\n",
      "Epoch: 0 batch #: 62  of 300 sample #: 199 reconstruction error: 0.085230\n",
      "Epoch: 0 batch #: 63  of 300 sample #: 199 reconstruction error: 0.052155\n",
      "Epoch: 0 batch #: 64  of 300 sample #: 199 reconstruction error: 0.094436\n",
      "Epoch: 0 batch #: 65  of 300 sample #: 199 reconstruction error: 0.089711\n",
      "Epoch: 0 batch #: 66  of 300 sample #: 199 reconstruction error: 0.051932\n",
      "Epoch: 0 batch #: 67  of 300 sample #: 199 reconstruction error: 0.053531\n",
      "Epoch: 0 batch #: 68  of 300 sample #: 199 reconstruction error: 0.066190\n",
      "Epoch: 0 batch #: 69  of 300 sample #: 199 reconstruction error: 0.078050\n",
      "Epoch: 0 batch #: 70  of 300 sample #: 199 reconstruction error: 0.073454\n",
      "Epoch: 0 batch #: 71  of 300 sample #: 199 reconstruction error: 0.088630\n",
      "Epoch: 0 batch #: 72  of 300 sample #: 199 reconstruction error: 0.076516\n",
      "Epoch: 0 batch #: 73  of 300 sample #: 199 reconstruction error: 0.083717\n",
      "Epoch: 0 batch #: 74  of 300 sample #: 199 reconstruction error: 0.100707\n",
      "Epoch: 0 batch #: 75  of 300 sample #: 199 reconstruction error: 0.048423\n",
      "Epoch: 0 batch #: 76  of 300 sample #: 199 reconstruction error: 0.082023\n",
      "Epoch: 0 batch #: 77  of 300 sample #: 199 reconstruction error: 0.102845\n",
      "Epoch: 0 batch #: 78  of 300 sample #: 199 reconstruction error: 0.097432\n",
      "Epoch: 0 batch #: 79  of 300 sample #: 199 reconstruction error: 0.131251\n",
      "Epoch: 0 batch #: 80  of 300 sample #: 199 reconstruction error: 0.036318\n",
      "Epoch: 0 batch #: 81  of 300 sample #: 199 reconstruction error: 0.067921\n",
      "Epoch: 0 batch #: 82  of 300 sample #: 199 reconstruction error: 0.066896\n",
      "Epoch: 0 batch #: 83  of 300 sample #: 199 reconstruction error: 0.077895\n",
      "Epoch: 0 batch #: 84  of 300 sample #: 199 reconstruction error: 0.100847\n",
      "Epoch: 0 batch #: 85  of 300 sample #: 199 reconstruction error: 0.043162\n",
      "Epoch: 0 batch #: 86  of 300 sample #: 199 reconstruction error: 0.092436\n",
      "Epoch: 0 batch #: 87  of 300 sample #: 199 reconstruction error: 0.072814\n",
      "Epoch: 0 batch #: 88  of 300 sample #: 199 reconstruction error: 0.031608\n",
      "Epoch: 0 batch #: 89  of 300 sample #: 199 reconstruction error: 0.060124\n",
      "Epoch: 0 batch #: 90  of 300 sample #: 199 reconstruction error: 0.083033\n",
      "Epoch: 0 batch #: 91  of 300 sample #: 199 reconstruction error: 0.062487\n",
      "Epoch: 0 batch #: 92  of 300 sample #: 199 reconstruction error: 0.066039\n",
      "Epoch: 0 batch #: 93  of 300 sample #: 199 reconstruction error: 0.115127\n",
      "Epoch: 0 batch #: 94  of 300 sample #: 199 reconstruction error: 0.101655\n",
      "Epoch: 0 batch #: 95  of 300 sample #: 199 reconstruction error: 0.066981\n",
      "Epoch: 0 batch #: 96  of 300 sample #: 199 reconstruction error: 0.041215\n",
      "Epoch: 0 batch #: 97  of 300 sample #: 199 reconstruction error: 0.109842\n",
      "Epoch: 0 batch #: 98  of 300 sample #: 199 reconstruction error: 0.075194\n",
      "Epoch: 0 batch #: 99  of 300 sample #: 199 reconstruction error: 0.066449\n",
      "Epoch: 0 batch #: 100  of 300 sample #: 199 reconstruction error: 0.099489\n",
      "Epoch: 0 batch #: 101  of 300 sample #: 199 reconstruction error: 0.082561\n",
      "Epoch: 0 batch #: 102  of 300 sample #: 199 reconstruction error: 0.073213\n",
      "Epoch: 0 batch #: 103  of 300 sample #: 199 reconstruction error: 0.073988\n",
      "Epoch: 0 batch #: 104  of 300 sample #: 199 reconstruction error: 0.072093\n",
      "Epoch: 0 batch #: 105  of 300 sample #: 199 reconstruction error: 0.054969\n",
      "Epoch: 0 batch #: 106  of 300 sample #: 199 reconstruction error: 0.118907\n",
      "Epoch: 0 batch #: 107  of 300 sample #: 199 reconstruction error: 0.147126\n",
      "Epoch: 0 batch #: 108  of 300 sample #: 199 reconstruction error: 0.062804\n",
      "Epoch: 0 batch #: 109  of 300 sample #: 199 reconstruction error: 0.105803\n",
      "Epoch: 0 batch #: 110  of 300 sample #: 199 reconstruction error: 0.054295\n",
      "Epoch: 0 batch #: 111  of 300 sample #: 199 reconstruction error: 0.107655\n",
      "Epoch: 0 batch #: 112  of 300 sample #: 199 reconstruction error: 0.040511\n",
      "Epoch: 0 batch #: 113  of 300 sample #: 199 reconstruction error: 0.077010\n",
      "Epoch: 0 batch #: 114  of 300 sample #: 199 reconstruction error: 0.068167\n",
      "Epoch: 0 batch #: 115  of 300 sample #: 199 reconstruction error: 0.056754\n",
      "Epoch: 0 batch #: 116  of 300 sample #: 199 reconstruction error: 0.052231\n",
      "Epoch: 0 batch #: 117  of 300 sample #: 199 reconstruction error: 0.045018\n",
      "Epoch: 0 batch #: 118  of 300 sample #: 199 reconstruction error: 0.079448\n",
      "Epoch: 0 batch #: 119  of 300 sample #: 199 reconstruction error: 0.103550\n",
      "Epoch: 0 batch #: 120  of 300 sample #: 199 reconstruction error: 0.078312\n",
      "Epoch: 0 batch #: 121  of 300 sample #: 199 reconstruction error: 0.038811\n",
      "Epoch: 0 batch #: 122  of 300 sample #: 199 reconstruction error: 0.109031\n",
      "Epoch: 0 batch #: 123  of 300 sample #: 199 reconstruction error: 0.070851\n",
      "Epoch: 0 batch #: 124  of 300 sample #: 199 reconstruction error: 0.076740\n",
      "Epoch: 0 batch #: 125  of 300 sample #: 199 reconstruction error: 0.047312\n",
      "Epoch: 0 batch #: 126  of 300 sample #: 199 reconstruction error: 0.075243\n",
      "Epoch: 0 batch #: 127  of 300 sample #: 199 reconstruction error: 0.085708\n",
      "Epoch: 0 batch #: 128  of 300 sample #: 199 reconstruction error: 0.064630\n",
      "Epoch: 0 batch #: 129  of 300 sample #: 199 reconstruction error: 0.064065\n",
      "Epoch: 0 batch #: 130  of 300 sample #: 199 reconstruction error: 0.078285\n",
      "Epoch: 0 batch #: 131  of 300 sample #: 199 reconstruction error: 0.064653\n",
      "Epoch: 0 batch #: 132  of 300 sample #: 199 reconstruction error: 0.054969\n",
      "Epoch: 0 batch #: 133  of 300 sample #: 199 reconstruction error: 0.037167\n",
      "Epoch: 0 batch #: 134  of 300 sample #: 199 reconstruction error: 0.100514\n",
      "Epoch: 0 batch #: 135  of 300 sample #: 199 reconstruction error: 0.112506\n",
      "Epoch: 0 batch #: 136  of 300 sample #: 199 reconstruction error: 0.102444\n",
      "Epoch: 0 batch #: 137  of 300 sample #: 199 reconstruction error: 0.064799\n",
      "Epoch: 0 batch #: 138  of 300 sample #: 199 reconstruction error: 0.064784\n",
      "Epoch: 0 batch #: 139  of 300 sample #: 199 reconstruction error: 0.116152\n",
      "Epoch: 0 batch #: 140  of 300 sample #: 199 reconstruction error: 0.093008\n",
      "Epoch: 0 batch #: 141  of 300 sample #: 199 reconstruction error: 0.085301\n",
      "Epoch: 0 batch #: 142  of 300 sample #: 199 reconstruction error: 0.071105\n",
      "Epoch: 0 batch #: 143  of 300 sample #: 199 reconstruction error: 0.061078\n",
      "Epoch: 0 batch #: 144  of 300 sample #: 199 reconstruction error: 0.058839\n",
      "Epoch: 0 batch #: 145  of 300 sample #: 199 reconstruction error: 0.088530\n",
      "Epoch: 0 batch #: 146  of 300 sample #: 199 reconstruction error: 0.111223\n",
      "Epoch: 0 batch #: 147  of 300 sample #: 199 reconstruction error: 0.077128\n",
      "Epoch: 0 batch #: 148  of 300 sample #: 199 reconstruction error: 0.069612\n",
      "Epoch: 0 batch #: 149  of 300 sample #: 199 reconstruction error: 0.062610\n",
      "Epoch: 0 batch #: 150  of 300 sample #: 199 reconstruction error: 0.052508\n",
      "Epoch: 0 batch #: 151  of 300 sample #: 199 reconstruction error: 0.104956\n",
      "Epoch: 0 batch #: 152  of 300 sample #: 199 reconstruction error: 0.090237\n",
      "Epoch: 0 batch #: 153  of 300 sample #: 199 reconstruction error: 0.053830\n",
      "Epoch: 0 batch #: 154  of 300 sample #: 199 reconstruction error: 0.066489\n",
      "Epoch: 0 batch #: 155  of 300 sample #: 199 reconstruction error: 0.054890\n",
      "Epoch: 0 batch #: 156  of 300 sample #: 199 reconstruction error: 0.063282\n",
      "Epoch: 0 batch #: 157  of 300 sample #: 199 reconstruction error: 0.083015\n",
      "Epoch: 0 batch #: 158  of 300 sample #: 199 reconstruction error: 0.053153\n",
      "Epoch: 0 batch #: 159  of 300 sample #: 199 reconstruction error: 0.070671\n",
      "Epoch: 0 batch #: 160  of 300 sample #: 199 reconstruction error: 0.073659\n",
      "Epoch: 0 batch #: 161  of 300 sample #: 199 reconstruction error: 0.085986\n",
      "Epoch: 0 batch #: 162  of 300 sample #: 199 reconstruction error: 0.093500\n",
      "Epoch: 0 batch #: 163  of 300 sample #: 199 reconstruction error: 0.039847\n",
      "Epoch: 0 batch #: 164  of 300 sample #: 199 reconstruction error: 0.080726\n",
      "Epoch: 0 batch #: 165  of 300 sample #: 199 reconstruction error: 0.070056\n",
      "Epoch: 0 batch #: 166  of 300 sample #: 199 reconstruction error: 0.052782\n",
      "Epoch: 0 batch #: 167  of 300 sample #: 199 reconstruction error: 0.098209\n",
      "Epoch: 0 batch #: 168  of 300 sample #: 199 reconstruction error: 0.051317\n",
      "Epoch: 0 batch #: 169  of 300 sample #: 199 reconstruction error: 0.036826\n",
      "Epoch: 0 batch #: 170  of 300 sample #: 199 reconstruction error: 0.055307\n",
      "Epoch: 0 batch #: 171  of 300 sample #: 199 reconstruction error: 0.029545\n",
      "Epoch: 0 batch #: 172  of 300 sample #: 199 reconstruction error: 0.051757\n",
      "Epoch: 0 batch #: 173  of 300 sample #: 199 reconstruction error: 0.071478\n",
      "Epoch: 0 batch #: 174  of 300 sample #: 199 reconstruction error: 0.106638\n",
      "Epoch: 0 batch #: 175  of 300 sample #: 199 reconstruction error: 0.063580\n",
      "Epoch: 0 batch #: 176  of 300 sample #: 199 reconstruction error: 0.048893\n",
      "Epoch: 0 batch #: 177  of 300 sample #: 199 reconstruction error: 0.038958\n",
      "Epoch: 0 batch #: 178  of 300 sample #: 199 reconstruction error: 0.087368\n",
      "Epoch: 0 batch #: 179  of 300 sample #: 199 reconstruction error: 0.073379\n",
      "Epoch: 0 batch #: 180  of 300 sample #: 199 reconstruction error: 0.090174\n",
      "Epoch: 0 batch #: 181  of 300 sample #: 199 reconstruction error: 0.097068\n",
      "Epoch: 0 batch #: 182  of 300 sample #: 199 reconstruction error: 0.069053\n",
      "Epoch: 0 batch #: 183  of 300 sample #: 199 reconstruction error: 0.119643\n",
      "Epoch: 0 batch #: 184  of 300 sample #: 199 reconstruction error: 0.058051\n",
      "Epoch: 0 batch #: 185  of 300 sample #: 199 reconstruction error: 0.075829\n",
      "Epoch: 0 batch #: 186  of 300 sample #: 199 reconstruction error: 0.095446\n",
      "Epoch: 0 batch #: 187  of 300 sample #: 199 reconstruction error: 0.069328\n",
      "Epoch: 0 batch #: 188  of 300 sample #: 199 reconstruction error: 0.101701\n",
      "Epoch: 0 batch #: 189  of 300 sample #: 199 reconstruction error: 0.078192\n",
      "Epoch: 0 batch #: 190  of 300 sample #: 199 reconstruction error: 0.060432\n",
      "Epoch: 0 batch #: 191  of 300 sample #: 199 reconstruction error: 0.108474\n",
      "Epoch: 0 batch #: 192  of 300 sample #: 199 reconstruction error: 0.126211\n",
      "Epoch: 0 batch #: 193  of 300 sample #: 199 reconstruction error: 0.098252\n",
      "Epoch: 0 batch #: 194  of 300 sample #: 199 reconstruction error: 0.082610\n",
      "Epoch: 0 batch #: 195  of 300 sample #: 199 reconstruction error: 0.043957\n",
      "Epoch: 0 batch #: 196  of 300 sample #: 199 reconstruction error: 0.050549\n",
      "Epoch: 0 batch #: 197  of 300 sample #: 199 reconstruction error: 0.054455\n",
      "Epoch: 0 batch #: 198  of 300 sample #: 199 reconstruction error: 0.117425\n",
      "Epoch: 0 batch #: 199  of 300 sample #: 199 reconstruction error: 0.079309\n",
      "Epoch: 0 batch #: 200  of 300 sample #: 199 reconstruction error: 0.103947\n",
      "Epoch: 0 batch #: 201  of 300 sample #: 199 reconstruction error: 0.087826\n",
      "Epoch: 0 batch #: 202  of 300 sample #: 199 reconstruction error: 0.029514\n",
      "Epoch: 0 batch #: 203  of 300 sample #: 199 reconstruction error: 0.085009\n",
      "Epoch: 0 batch #: 204  of 300 sample #: 199 reconstruction error: 0.044307\n",
      "Epoch: 0 batch #: 205  of 300 sample #: 199 reconstruction error: 0.023121\n",
      "Epoch: 0 batch #: 206  of 300 sample #: 199 reconstruction error: 0.052828\n",
      "Epoch: 0 batch #: 207  of 300 sample #: 199 reconstruction error: 0.093933\n",
      "Epoch: 0 batch #: 208  of 300 sample #: 199 reconstruction error: 0.053710\n",
      "Epoch: 0 batch #: 209  of 300 sample #: 199 reconstruction error: 0.026714\n",
      "Epoch: 0 batch #: 210  of 300 sample #: 199 reconstruction error: 0.091979\n",
      "Epoch: 0 batch #: 211  of 300 sample #: 199 reconstruction error: 0.108341\n",
      "Epoch: 0 batch #: 212  of 300 sample #: 199 reconstruction error: 0.081921\n",
      "Epoch: 0 batch #: 213  of 300 sample #: 199 reconstruction error: 0.085557\n",
      "Epoch: 0 batch #: 214  of 300 sample #: 199 reconstruction error: 0.102269\n",
      "Epoch: 0 batch #: 215  of 300 sample #: 199 reconstruction error: 0.025035\n",
      "Epoch: 0 batch #: 216  of 300 sample #: 199 reconstruction error: 0.106074\n",
      "Epoch: 0 batch #: 217  of 300 sample #: 199 reconstruction error: 0.080036\n",
      "Epoch: 0 batch #: 218  of 300 sample #: 199 reconstruction error: 0.067801\n",
      "Epoch: 0 batch #: 219  of 300 sample #: 199 reconstruction error: 0.073607\n",
      "Epoch: 0 batch #: 220  of 300 sample #: 199 reconstruction error: 0.052013\n",
      "Epoch: 0 batch #: 221  of 300 sample #: 199 reconstruction error: 0.105450\n",
      "Epoch: 0 batch #: 222  of 300 sample #: 199 reconstruction error: 0.089382\n",
      "Epoch: 0 batch #: 223  of 300 sample #: 199 reconstruction error: 0.081942\n",
      "Epoch: 0 batch #: 224  of 300 sample #: 199 reconstruction error: 0.054897\n",
      "Epoch: 0 batch #: 225  of 300 sample #: 199 reconstruction error: 0.071999\n",
      "Epoch: 0 batch #: 226  of 300 sample #: 199 reconstruction error: 0.131264\n",
      "Epoch: 0 batch #: 227  of 300 sample #: 199 reconstruction error: 0.081533\n",
      "Epoch: 0 batch #: 228  of 300 sample #: 199 reconstruction error: 0.067326\n",
      "Epoch: 0 batch #: 229  of 300 sample #: 199 reconstruction error: 0.088590\n",
      "Epoch: 0 batch #: 230  of 300 sample #: 199 reconstruction error: 0.034098\n",
      "Epoch: 0 batch #: 231  of 300 sample #: 199 reconstruction error: 0.021918\n",
      "Epoch: 0 batch #: 232  of 300 sample #: 199 reconstruction error: 0.070659\n",
      "Epoch: 0 batch #: 233  of 300 sample #: 199 reconstruction error: 0.089623\n",
      "Epoch: 0 batch #: 234  of 300 sample #: 199 reconstruction error: 0.065622\n",
      "Epoch: 0 batch #: 235  of 300 sample #: 199 reconstruction error: 0.065013\n",
      "Epoch: 0 batch #: 236  of 300 sample #: 199 reconstruction error: 0.105934\n",
      "Epoch: 0 batch #: 237  of 300 sample #: 199 reconstruction error: 0.089439\n",
      "Epoch: 0 batch #: 238  of 300 sample #: 199 reconstruction error: 0.101860\n",
      "Epoch: 0 batch #: 239  of 300 sample #: 199 reconstruction error: 0.028801\n",
      "Epoch: 0 batch #: 240  of 300 sample #: 199 reconstruction error: 0.091899\n",
      "Epoch: 0 batch #: 241  of 300 sample #: 199 reconstruction error: 0.091614\n",
      "Epoch: 0 batch #: 242  of 300 sample #: 199 reconstruction error: 0.072451\n",
      "Epoch: 0 batch #: 243  of 300 sample #: 199 reconstruction error: 0.068264\n",
      "Epoch: 0 batch #: 244  of 300 sample #: 199 reconstruction error: 0.109235\n",
      "Epoch: 0 batch #: 245  of 300 sample #: 199 reconstruction error: 0.082386\n",
      "Epoch: 0 batch #: 246  of 300 sample #: 199 reconstruction error: 0.092727\n",
      "Epoch: 0 batch #: 247  of 300 sample #: 199 reconstruction error: 0.057124\n",
      "Epoch: 0 batch #: 248  of 300 sample #: 199 reconstruction error: 0.071448\n",
      "Epoch: 0 batch #: 249  of 300 sample #: 199 reconstruction error: 0.045756\n",
      "Epoch: 0 batch #: 250  of 300 sample #: 199 reconstruction error: 0.091383\n",
      "Epoch: 0 batch #: 251  of 300 sample #: 199 reconstruction error: 0.050997\n",
      "Epoch: 0 batch #: 252  of 300 sample #: 199 reconstruction error: 0.077555\n",
      "Epoch: 0 batch #: 253  of 300 sample #: 199 reconstruction error: 0.044325\n",
      "Epoch: 0 batch #: 254  of 300 sample #: 199 reconstruction error: 0.030453\n",
      "Epoch: 0 batch #: 255  of 300 sample #: 199 reconstruction error: 0.060295\n",
      "Epoch: 0 batch #: 256  of 300 sample #: 199 reconstruction error: 0.059638\n",
      "Epoch: 0 batch #: 257  of 300 sample #: 199 reconstruction error: 0.089203\n",
      "Epoch: 0 batch #: 258  of 300 sample #: 199 reconstruction error: 0.086188\n",
      "Epoch: 0 batch #: 259  of 300 sample #: 199 reconstruction error: 0.088499\n",
      "Epoch: 0 batch #: 260  of 300 sample #: 199 reconstruction error: 0.088124\n",
      "Epoch: 0 batch #: 261  of 300 sample #: 199 reconstruction error: 0.034207\n",
      "Epoch: 0 batch #: 262  of 300 sample #: 199 reconstruction error: 0.062086\n",
      "Epoch: 0 batch #: 263  of 300 sample #: 199 reconstruction error: 0.070264\n",
      "Epoch: 0 batch #: 264  of 300 sample #: 199 reconstruction error: 0.071969\n",
      "Epoch: 0 batch #: 265  of 300 sample #: 199 reconstruction error: 0.058669\n",
      "Epoch: 0 batch #: 266  of 300 sample #: 199 reconstruction error: 0.035774\n",
      "Epoch: 0 batch #: 267  of 300 sample #: 199 reconstruction error: 0.060723\n",
      "Epoch: 0 batch #: 268  of 300 sample #: 199 reconstruction error: 0.017577\n",
      "Epoch: 0 batch #: 269  of 300 sample #: 199 reconstruction error: 0.090954\n",
      "Epoch: 0 batch #: 270  of 300 sample #: 199 reconstruction error: 0.082682\n",
      "Epoch: 0 batch #: 271  of 300 sample #: 199 reconstruction error: 0.050895\n",
      "Epoch: 0 batch #: 272  of 300 sample #: 199 reconstruction error: 0.045664\n",
      "Epoch: 0 batch #: 273  of 300 sample #: 199 reconstruction error: 0.042137\n",
      "Epoch: 0 batch #: 274  of 300 sample #: 199 reconstruction error: 0.064841\n",
      "Epoch: 0 batch #: 275  of 300 sample #: 199 reconstruction error: 0.086566\n",
      "Epoch: 0 batch #: 276  of 300 sample #: 199 reconstruction error: 0.061572\n",
      "Epoch: 0 batch #: 277  of 300 sample #: 199 reconstruction error: 0.075125\n",
      "Epoch: 0 batch #: 278  of 300 sample #: 199 reconstruction error: 0.058279\n",
      "Epoch: 0 batch #: 279  of 300 sample #: 199 reconstruction error: 0.050726\n",
      "Epoch: 0 batch #: 280  of 300 sample #: 199 reconstruction error: 0.074568\n",
      "Epoch: 0 batch #: 281  of 300 sample #: 199 reconstruction error: 0.080607\n",
      "Epoch: 0 batch #: 282  of 300 sample #: 199 reconstruction error: 0.091485\n",
      "Epoch: 0 batch #: 283  of 300 sample #: 199 reconstruction error: 0.053259\n",
      "Epoch: 0 batch #: 284  of 300 sample #: 199 reconstruction error: 0.048041\n",
      "Epoch: 0 batch #: 285  of 300 sample #: 199 reconstruction error: 0.067501\n",
      "Epoch: 0 batch #: 286  of 300 sample #: 199 reconstruction error: 0.089641\n",
      "Epoch: 0 batch #: 287  of 300 sample #: 199 reconstruction error: 0.084510\n",
      "Epoch: 0 batch #: 288  of 300 sample #: 199 reconstruction error: 0.028062\n",
      "Epoch: 0 batch #: 289  of 300 sample #: 199 reconstruction error: 0.084577\n",
      "Epoch: 0 batch #: 290  of 300 sample #: 199 reconstruction error: 0.086599\n",
      "Epoch: 0 batch #: 291  of 300 sample #: 199 reconstruction error: 0.096168\n",
      "Epoch: 0 batch #: 292  of 300 sample #: 199 reconstruction error: 0.065570\n",
      "Epoch: 0 batch #: 293  of 300 sample #: 199 reconstruction error: 0.063113\n",
      "Epoch: 0 batch #: 294  of 300 sample #: 199 reconstruction error: 0.084577\n",
      "Epoch: 0 batch #: 295  of 300 sample #: 199 reconstruction error: 0.074142\n",
      "Epoch: 0 batch #: 296  of 300 sample #: 199 reconstruction error: 0.026683\n",
      "Epoch: 0 batch #: 297  of 300 sample #: 199 reconstruction error: 0.102296\n",
      "Epoch: 0 batch #: 298  of 300 sample #: 199 reconstruction error: 0.052197\n",
      "Epoch: 0 batch #: 299  of 300 sample #: 199 reconstruction error: 0.042652\n",
      "Epoch: 0 batch #: 300  of 300 sample #: 199 reconstruction error: 0.073766\n"
     ]
    }
   ],
   "source": [
    "#Parameters\n",
    "alpha = 0.01\n",
    "epochs = 1\n",
    "batchsize = 200\n",
    "weights = []\n",
    "errors = []\n",
    "batch_number = 0\n",
    "K = 1\n",
    "\n",
    "#creating datasets\n",
    "train_ds = \\\n",
    "    tf.data.Dataset.from_tensor_slices((trX, trY)).batch(batchsize)\n",
    "\n",
    "for epoch in range(epochs):\n",
    "    for batch_x, batch_y in train_ds:\n",
    "        batch_number += 1\n",
    "        for i_sample in range(batchsize):           \n",
    "            for k in range(K):\n",
    "                v0_state = batch_x[i_sample]\n",
    "                h0_state = hidden_layer(v0_state, W, hb)\n",
    "                v1_state = reconstructed_output(h0_state, W, vb)\n",
    "                h1_state = hidden_layer(v1_state, W, hb)\n",
    "\n",
    "                delta_W = tf.matmul(tf.transpose([v0_state]), h0_state) - tf.matmul(tf.transpose([v1_state]), h1_state)\n",
    "                W = W + alpha * delta_W\n",
    "\n",
    "                vb = vb + alpha * tf.reduce_mean(v0_state - v1_state, 0)\n",
    "                hb = hb + alpha * tf.reduce_mean(h0_state - h1_state, 0) \n",
    "\n",
    "                v0_state = v1_state\n",
    "\n",
    "            if i_sample == batchsize-1:\n",
    "                err = error(batch_x[i_sample], v1_state)\n",
    "                errors.append(err)\n",
    "                weights.append(W)\n",
    "                print ( 'Epoch: %d' % epoch, \n",
    "                       \"batch #: %i \" % batch_number, \"of %i\" % int(60e3/batchsize), \n",
    "                       \"sample #: %i\" % i_sample,\n",
    "                       'reconstruction error: %f' % err)\n",
    "\n"
   ]
  },
  {
   "cell_type": "markdown",
   "metadata": {},
   "source": [
    "Let's take a look at the errors at the end of each batch:\n"
   ]
  },
  {
   "cell_type": "code",
   "execution_count": 18,
   "metadata": {
    "tags": []
   },
   "outputs": [
    {
     "data": {
      "image/png": "[encoded data removed]",
      "text/plain": [
       "<Figure size 640x480 with 1 Axes>"
      ]
     },
     "metadata": {},
     "output_type": "display_data"
    }
   ],
   "source": [
    "plt.plot(errors)\n",
    "plt.xlabel(\"Batch Number\")\n",
    "plt.ylabel(\"Error\")\n",
    "plt.show()"
   ]
  },
  {
   "cell_type": "markdown",
   "metadata": {},
   "source": [
    "What is the final weight matrix $W$ after training?\n"
   ]
  },
  {
   "cell_type": "code",
   "execution_count": 19,
   "metadata": {
    "tags": []
   },
   "outputs": [
    {
     "name": "stdout",
     "output_type": "stream",
     "text": [
      "[[-0.35999992 -0.29999998 -0.26000002 ... -0.22000003 -0.41999987\n",
      "  -0.46999982]\n",
      " [-0.29999998 -0.31999996 -0.28       ... -0.28       -0.42999986\n",
      "  -0.4899998 ]\n",
      " [-0.36999992 -0.29999998 -0.31999996 ... -0.25000003 -0.3799999\n",
      "  -0.45999983]\n",
      " ...\n",
      " [-0.31999996 -0.3799999  -0.31999996 ... -0.3999999  -0.41999987\n",
      "  -0.5099998 ]\n",
      " [-0.35999992 -0.33999994 -0.30999997 ... -0.26000002 -0.3899999\n",
      "  -0.5199998 ]\n",
      " [-0.3799999  -0.34999993 -0.31999996 ... -0.29999998 -0.32999995\n",
      "  -0.4999998 ]]\n"
     ]
    }
   ],
   "source": [
    "print(W.numpy()) # a weight matrix of shape (50,784)"
   ]
  },
  {
   "cell_type": "markdown",
   "metadata": {},
   "source": [
    "<a id=\"ref5\"></a>\n",
    "<h3>Learned features</h3> \n"
   ]
  },
  {
   "cell_type": "markdown",
   "metadata": {},
   "source": [
    "We can take each hidden unit and visualize the connections between that hidden unit and each element in the input vector. In our case, we have 50 hidden units. Lets visualize those.\n"
   ]
  },
  {
   "cell_type": "markdown",
   "metadata": {},
   "source": [
    "Let's plot the current weights:\n",
    "<b>tile_raster_images</b> helps in generating an easy to grasp image from a set of samples or weights. It transforms the <b>uw</b> (with one flattened image per row of size 784), into an array (of size $28\\times28$) in which images are reshaped and laid out like tiles on a floor.\n"
   ]
  },
  {
   "cell_type": "code",
   "execution_count": 20,
   "metadata": {
    "tags": []
   },
   "outputs": [
    {
     "data": {
      "image/png": "[encoded data removed]",
      "text/plain": [
       "<Figure size 1800x1800 with 1 Axes>"
      ]
     },
     "metadata": {},
     "output_type": "display_data"
    }
   ],
   "source": [
    "tile_raster_images(X=W.numpy().T, img_shape=(28, 28), tile_shape=(5, 10), tile_spacing=(1, 1))\n",
    "import matplotlib.pyplot as plt\n",
    "from PIL import Image\n",
    "%matplotlib inline\n",
    "image = Image.fromarray(tile_raster_images(X=W.numpy().T, img_shape=(28, 28) ,tile_shape=(5, 10), tile_spacing=(1, 1)))\n",
    "### Plot image\n",
    "plt.rcParams['figure.figsize'] = (18.0, 18.0)\n",
    "imgplot = plt.imshow(image)\n",
    "imgplot.set_cmap('gray')  "
   ]
  },
  {
   "cell_type": "markdown",
   "metadata": {},
   "source": [
    "Each tile in the above visualization corresponds to a vector of connections between a hidden unit and visible layer's units. \n"
   ]
  },
  {
   "cell_type": "markdown",
   "metadata": {},
   "source": [
    "Let's look at one of the learned weights corresponding to one of hidden units for example. In this particular square, the gray color represents weight = 0, and the whiter it is, the more positive the weights are (closer to 1). Conversely, the darker pixels are, the more negative the weights. The positive pixels will increase the probability of activation in hidden units (after multiplying by input/visible pixels), and negative pixels will decrease the probability of a unit hidden to be 1 (activated). So, why is this important?  So we can see that this specific square (hidden unit) can detect a feature (e.g. a \"/\" shape) and if it exists in the input.\n"
   ]
  },
  {
   "cell_type": "code",
   "execution_count": 21,
   "metadata": {
    "tags": []
   },
   "outputs": [
    {
     "data": {
      "image/png": "[encoded data removed]",
      "text/plain": [
       "<Figure size 400x400 with 1 Axes>"
      ]
     },
     "metadata": {},
     "output_type": "display_data"
    }
   ],
   "source": [
    "from PIL import Image\n",
    "image = Image.fromarray(tile_raster_images(X =W.numpy().T[10:11], img_shape=(28, 28),tile_shape=(1, 1), tile_spacing=(1, 1)))\n",
    "### Plot image\n",
    "plt.rcParams['figure.figsize'] = (4.0, 4.0)\n",
    "imgplot = plt.imshow(image)\n",
    "imgplot.set_cmap('gray')  "
   ]
  },
  {
   "cell_type": "markdown",
   "metadata": {},
   "source": [
    "Let's look at the reconstruction of an image now. Imagine that we have a destructed image of figure 3. Lets see if our trained network can fix it:\n",
    "\n",
    "First we plot the image:\n"
   ]
  },
  {
   "cell_type": "code",
   "execution_count": 22,
   "metadata": {
    "tags": []
   },
   "outputs": [
    {
     "name": "stdout",
     "output_type": "stream",
     "text": [
      "--2024-02-19 14:23:43--  https://ibm.box.com/shared/static/vvm1b63uvuxq88vbw9znpwu5ol380mco.jpg\n",
      "Resolving ibm.box.com (ibm.box.com)... 74.112.186.144, 74.112.186.144\n",
      "Connecting to ibm.box.com (ibm.box.com)|74.112.186.144|:443... connected.\n",
      "HTTP request sent, awaiting response... 301 Moved Permanently\n",
      "Location: /public/static/vvm1b63uvuxq88vbw9znpwu5ol380mco.jpg [following]\n",
      "--2024-02-19 14:23:44--  https://ibm.box.com/public/static/vvm1b63uvuxq88vbw9znpwu5ol380mco.jpg\n",
      "Reusing existing connection to ibm.box.com:443.\n",
      "HTTP request sent, awaiting response... 301 Moved Permanently\n",
      "Location: https://ibm.ent.box.com/public/static/vvm1b63uvuxq88vbw9znpwu5ol380mco.jpg [following]\n",
      "--2024-02-19 14:23:44--  https://ibm.ent.box.com/public/static/vvm1b63uvuxq88vbw9znpwu5ol380mco.jpg\n",
      "Resolving ibm.ent.box.com (ibm.ent.box.com)... 74.112.186.144, 74.112.186.144\n",
      "Connecting to ibm.ent.box.com (ibm.ent.box.com)|74.112.186.144|:443... connected.\n",
      "HTTP request sent, awaiting response... 302 Found\n",
      "Location: https://public.boxcloud.com/d/1/b1!syt5mMgAgvxxLgirUlS_UhtLLRcDjmd9vUNmurI1ndncIK8UN2znV1wYZp4nqJoWKvIaqNWcQJ0TJI-tuvS5qiBkjh47cf0woSjstiV_UOcU_nC4d3rR9uzPIdPrKhfhVVuUE9_RqdqKB4SH6djbHGLtj_zEc7oNl3ifL25mexAumwKpozV-mJlfPOF0rAiTN6_IuCADjgWshgyPfA8pGQPgTsoUD90GIQ2jeKv1mZPma04cCMJemUL-cYe2GTMyF0ncfarQjMGmAO_yZuxY7ayN2FaFBzrRhpaM7ZCezooPfukxPHDAq17EfiNYOh9011nNHj4T2ZPLvVW5aLOrhHDevzNgL7eTrxK7ANF-1CsajtYudUjNfG3KTBcrvMBWVlzTnklvEMDXArONzB0ygLKaLeC8qy1gy46hdbnzTqRwZKZWt_bNTu4BAg6Dx8PIiGBCl-WqQxOyXYFhC806cUMHNzGxccogErlMDv5wMWIoTdMV3XVZpq7Vknr9ikkq2wg_SzOCsr2DrW2djmyfemCExnVV5CROpYhAvmRM8HrMIQYx6KubSk6GLKF3OOXXpVu-VKI0IO46BY-h9QhYAQ-RzFn2u2v_e2f4igsnWnGcQaFuHLqT2D-o2f8gWCXfH9owxemOSMieWstbN1_yekUMMjJYO8-eHj3Q8ggh6okvtoRbhsSS3nzHD8KlN82UGzgovSeLJ60b9R1GSC_GqYZPht1but_MCp2SIzYV36HpXPh7xSPjYAaRmfE-V-goQcJpqbBGG3iK3BVBDvAKezMGs3prgbiuyyUdkxFZQS08Uaeu5Hzt4Z6oiz2o_vcfUq1hM3eyXWUTW9wH8vF7iflyMd7PoytB3R27ZYAs4aRdio5bj8vDNGdnwoPuA9clGAVsGN_jyCAwxjugbvVTNl4YTtJOMe9nVeDKxZTrZmrO_vr5BGAOc6Gq28_Pykna27rZui2Pb_coJhK-iM2yiXGJ2TdM--d4OdG5kX4ZPfl9YNd3ULrxBidO60B_tcRElAHXTvBaPf5p_Dc9Ru-QCK1sgm1ZYm0rHbrMo4_76a1smDQ30M9_rE4Xi8UtEsMl3sy4ldCOkDQXsN8dA8eeJ2viG4i2BHjIndtIPpLzZPKgVdgv8o1GybEUOO3BYXR72xEeEPGOZWmHVR74dhlmsOKlhd38VvNljeVvpx-lrf8iw9WcPEG50pzhWceVh7705hf1rV5SoYINaITg7fiab9hv8UlHKhm-FUoR6FXCMa7oSOqvGTdBduNhvbaYdCRqy2V7K-GoCBLvV0cqJMjtWCYADOIetccdPOqC0MboHXpjDORxA2CyaOXXqKEGFY9M-4qbhc_hLdsU2Jd27ZtzmxkxKdMTG59D4L7AWGwc6q_JKVFlT7dHKH3PxghSeRKZVpfw2a0wkcp7DwpyvSTzlWI./download [following]\n",
      "--2024-02-19 14:23:45--  https://public.boxcloud.com/d/1/b1!syt5mMgAgvxxLgirUlS_UhtLLRcDjmd9vUNmurI1ndncIK8UN2znV1wYZp4nqJoWKvIaqNWcQJ0TJI-tuvS5qiBkjh47cf0woSjstiV_UOcU_nC4d3rR9uzPIdPrKhfhVVuUE9_RqdqKB4SH6djbHGLtj_zEc7oNl3ifL25mexAumwKpozV-mJlfPOF0rAiTN6_IuCADjgWshgyPfA8pGQPgTsoUD90GIQ2jeKv1mZPma04cCMJemUL-cYe2GTMyF0ncfarQjMGmAO_yZuxY7ayN2FaFBzrRhpaM7ZCezooPfukxPHDAq17EfiNYOh9011nNHj4T2ZPLvVW5aLOrhHDevzNgL7eTrxK7ANF-1CsajtYudUjNfG3KTBcrvMBWVlzTnklvEMDXArONzB0ygLKaLeC8qy1gy46hdbnzTqRwZKZWt_bNTu4BAg6Dx8PIiGBCl-WqQxOyXYFhC806cUMHNzGxccogErlMDv5wMWIoTdMV3XVZpq7Vknr9ikkq2wg_SzOCsr2DrW2djmyfemCExnVV5CROpYhAvmRM8HrMIQYx6KubSk6GLKF3OOXXpVu-VKI0IO46BY-h9QhYAQ-RzFn2u2v_e2f4igsnWnGcQaFuHLqT2D-o2f8gWCXfH9owxemOSMieWstbN1_yekUMMjJYO8-eHj3Q8ggh6okvtoRbhsSS3nzHD8KlN82UGzgovSeLJ60b9R1GSC_GqYZPht1but_MCp2SIzYV36HpXPh7xSPjYAaRmfE-V-goQcJpqbBGG3iK3BVBDvAKezMGs3prgbiuyyUdkxFZQS08Uaeu5Hzt4Z6oiz2o_vcfUq1hM3eyXWUTW9wH8vF7iflyMd7PoytB3R27ZYAs4aRdio5bj8vDNGdnwoPuA9clGAVsGN_jyCAwxjugbvVTNl4YTtJOMe9nVeDKxZTrZmrO_vr5BGAOc6Gq28_Pykna27rZui2Pb_coJhK-iM2yiXGJ2TdM--d4OdG5kX4ZPfl9YNd3ULrxBidO60B_tcRElAHXTvBaPf5p_Dc9Ru-QCK1sgm1ZYm0rHbrMo4_76a1smDQ30M9_rE4Xi8UtEsMl3sy4ldCOkDQXsN8dA8eeJ2viG4i2BHjIndtIPpLzZPKgVdgv8o1GybEUOO3BYXR72xEeEPGOZWmHVR74dhlmsOKlhd38VvNljeVvpx-lrf8iw9WcPEG50pzhWceVh7705hf1rV5SoYINaITg7fiab9hv8UlHKhm-FUoR6FXCMa7oSOqvGTdBduNhvbaYdCRqy2V7K-GoCBLvV0cqJMjtWCYADOIetccdPOqC0MboHXpjDORxA2CyaOXXqKEGFY9M-4qbhc_hLdsU2Jd27ZtzmxkxKdMTG59D4L7AWGwc6q_JKVFlT7dHKH3PxghSeRKZVpfw2a0wkcp7DwpyvSTzlWI./download\n",
      "Resolving public.boxcloud.com (public.boxcloud.com)... 74.112.186.128, 74.112.186.128\n",
      "Connecting to public.boxcloud.com (public.boxcloud.com)|74.112.186.128|:443... connected.\n",
      "HTTP request sent, awaiting response... 200 OK\n",
      "Length: 24383 (24K) [image/jpeg]\n",
      "Saving to: ‘destructed3.jpg’\n",
      "\n",
      "destructed3.jpg     100%[===================>]  23.81K  --.-KB/s    in 0.003s  \n",
      "\n",
      "2024-02-19 14:23:45 (9.00 MB/s) - ‘destructed3.jpg’ saved [24383/24383]\n",
      "\n"
     ]
    },
    {
     "data": {
      "image/png": "[encoded data removed]",
      "text/plain": [
       "<PIL.JpegImagePlugin.JpegImageFile image mode=RGB size=181x181 at 0x7FB9CDE50F90>"
      ]
     },
     "execution_count": 22,
     "metadata": {},
     "output_type": "execute_result"
    }
   ],
   "source": [
    "!wget -O destructed3.jpg  https://ibm.box.com/shared/static/vvm1b63uvuxq88vbw9znpwu5ol380mco.jpg\n",
    "img = Image.open('destructed3.jpg')\n",
    "img"
   ]
  },
  {
   "cell_type": "markdown",
   "metadata": {},
   "source": [
    "Now let's pass this image through the neural net:\n"
   ]
  },
  {
   "cell_type": "code",
   "execution_count": 23,
   "metadata": {
    "tags": []
   },
   "outputs": [],
   "source": [
    "# convert the image to a 1d numpy array\n",
    "sample_case = np.array(img.convert('I').resize((28,28))).ravel().reshape((1, -1))/255.0\n",
    "\n",
    "sample_case = tf.cast(sample_case, dtype=tf.float32)"
   ]
  },
  {
   "cell_type": "markdown",
   "metadata": {},
   "source": [
    "Feed the sample case into the network and reconstruct the output:\n"
   ]
  },
  {
   "cell_type": "code",
   "execution_count": 24,
   "metadata": {
    "tags": []
   },
   "outputs": [
    {
     "name": "stdout",
     "output_type": "stream",
     "text": [
      "Probability nodes in hidden layer: tf.Tensor(\n",
      "[[9.4737887e-01 2.2850871e-12 9.6633458e-01 8.9846263e-03 7.6337461e-09\n",
      "  9.1707075e-01 9.9987066e-01 1.8776986e-07 9.9690640e-01 2.0895310e-09\n",
      "  5.4297556e-12 9.6565956e-05 3.5274198e-07 1.1693818e-11 3.4266780e-03\n",
      "  1.0000000e+00 2.0318115e-10 5.2093257e-10 8.4780931e-01 5.2017923e-03\n",
      "  1.3729962e-08 9.8729426e-01 8.2549835e-11 4.4828329e-12 1.0072237e-02\n",
      "  2.7586296e-01 1.8099305e-15 9.9998045e-01 2.9935227e-05 9.9923778e-01\n",
      "  7.7509520e-18 1.0000000e+00 9.9999124e-01 1.4663516e-03 1.3546880e-06\n",
      "  1.0000000e+00 2.2452393e-07 3.8767535e-02 2.5166196e-06 1.0000000e+00\n",
      "  3.6284175e-02 2.7557454e-04 1.0000000e+00 2.7040607e-01 9.9986005e-01\n",
      "  1.0000000e+00 5.6019922e-10 1.3011350e-15 9.9998683e-01 8.0909349e-06]], shape=(1, 50), dtype=float32)\n",
      "activated nodes in hidden layer: tf.Tensor(\n",
      "[[1. 0. 1. 0. 0. 1. 1. 0. 1. 0. 0. 0. 0. 0. 0. 1. 0. 0. 1. 0. 0. 1. 0. 0.\n",
      "  0. 0. 0. 1. 0. 1. 0. 1. 1. 0. 0. 1. 0. 0. 0. 1. 0. 0. 1. 0. 1. 1. 0. 0.\n",
      "  1. 0.]], shape=(1, 50), dtype=float32)\n",
      "tf.Tensor(\n",
      "[[2.56254774e-04 1.86092293e-04 1.47862287e-04 2.20568487e-04\n",
      "  3.67256813e-04 2.27284429e-04 2.38934590e-04 1.95631626e-04\n",
      "  2.20568691e-04 3.16116697e-04 1.99582923e-04 2.86043243e-04\n",
      "  1.99770846e-04 2.29370198e-04 3.09641036e-04 1.68802871e-04\n",
      "  3.19293089e-04 2.22784816e-04 1.65052697e-04 2.72096513e-04\n",
      "  1.82408185e-04 1.16316405e-04 1.63410630e-04 1.58581926e-04\n",
      "  1.93685570e-04 3.19293089e-04 2.16201995e-04 2.09813472e-04\n",
      "  1.93685381e-04 2.27284225e-04 1.61784905e-04 1.42065357e-04\n",
      "  2.00335460e-04 1.92021980e-04 1.64355239e-04 1.58345749e-04\n",
      "  2.89404968e-04 1.29890672e-04 3.23666609e-04 1.61398610e-04\n",
      "  1.94340042e-04 3.35842720e-04 2.55793711e-04 1.81658877e-04\n",
      "  3.94958392e-04 2.68557371e-04 5.04957163e-04 2.93898309e-04\n",
      "  2.63405789e-04 2.00477065e-04 1.81558979e-04 3.00822518e-04\n",
      "  2.74830440e-04 2.03613861e-04 2.36557884e-04 1.66711092e-04\n",
      "  2.66709947e-04 1.63410630e-04 1.26324274e-04 2.61666137e-04\n",
      "  1.68294035e-04 1.91300671e-04 2.94474972e-04 1.85146841e-04\n",
      "  1.43656580e-04 1.72787593e-04 5.27311167e-05 4.42563323e-05\n",
      "  4.86620265e-05 1.45722574e-04 7.25734426e-05 1.43527854e-04\n",
      "  3.99147830e-04 2.18410030e-04 1.12331865e-04 8.03719231e-05\n",
      "  1.38219417e-04 2.59633089e-04 4.36581322e-04 2.85886752e-04\n",
      "  2.72288802e-04 2.12587547e-04 2.56255036e-04 2.18374247e-04\n",
      "  2.25023381e-04 1.86092293e-04 3.21075466e-04 2.35715401e-04\n",
      "  1.88036080e-04 3.43162392e-04 2.30063873e-04 1.56500813e-04\n",
      "  9.27576184e-05 5.30320758e-05 5.36449916e-05 3.61893217e-05\n",
      "  5.56749183e-05 1.19658587e-04 5.99254505e-04 1.72765437e-03\n",
      "  2.74041272e-03 5.53723378e-03 3.33479838e-03 3.84693500e-04\n",
      "  1.29733104e-04 1.86780424e-04 2.25536744e-04 4.41036158e-04\n",
      "  5.06185577e-04 2.89302610e-04 3.02703469e-04 2.25023381e-04\n",
      "  1.65052697e-04 1.58246577e-04 2.34287232e-04 2.36437700e-04\n",
      "  2.54592742e-04 7.08044390e-04 3.40310740e-04 1.72964632e-04\n",
      "  1.47163213e-04 1.18110060e-04 1.98323163e-04 2.22089191e-04\n",
      "  3.85172898e-04 1.64987019e-03 9.38998070e-03 5.96680753e-02\n",
      "  1.04895197e-01 1.23752810e-01 6.07450306e-02 1.42569244e-02\n",
      "  2.91779824e-03 1.54168298e-03 1.58276549e-03 8.51363176e-04\n",
      "  2.28917180e-03 1.10681751e-03 3.17919214e-04 2.35530519e-04\n",
      "  2.46209587e-04 2.69389770e-04 3.15807614e-04 2.96083861e-04\n",
      "  9.90280067e-04 6.88886677e-04 5.08655678e-04 1.50076498e-03\n",
      "  9.54190618e-04 1.34570082e-03 2.44188798e-03 2.80581368e-03\n",
      "  1.65654290e-02 1.46022275e-01 4.14055526e-01 8.44770670e-01\n",
      "  9.06695485e-01 9.14093554e-01 7.41977692e-01 3.50292504e-01\n",
      "  7.22098202e-02 1.74516328e-02 1.29036997e-02 2.82371766e-03\n",
      "  1.26369891e-03 1.36270234e-03 1.02718722e-03 1.88501013e-04\n",
      "  2.03613861e-04 2.47729797e-04 2.48488446e-04 6.62695849e-04\n",
      "  1.18011679e-03 3.58872279e-03 1.83207518e-03 4.01483057e-03\n",
      "  5.02585201e-03 5.96416928e-03 1.58031359e-02 8.10847655e-02\n",
      "  4.43484962e-01 8.38157058e-01 9.50827062e-01 9.64884579e-01\n",
      "  9.50579405e-01 9.32416081e-01 8.37519109e-01 6.97585762e-01\n",
      "  2.48463556e-01 5.31544499e-02 1.86670125e-02 7.93649629e-03\n",
      "  2.24379846e-03 7.86912045e-04 1.18465465e-03 3.84523679e-04\n",
      "  1.94965512e-04 1.64871817e-04 5.99410734e-04 1.81356317e-03\n",
      "  3.07798060e-03 4.36393358e-03 7.73980701e-03 9.39972699e-03\n",
      "  1.19786374e-02 4.44913991e-02 1.13706104e-01 6.03517771e-01\n",
      "  8.97999763e-01 9.76892889e-01 9.78976607e-01 9.60637927e-01\n",
      "  8.90253663e-01 8.87625396e-01 7.75989294e-01 8.08177471e-01\n",
      "  4.99245763e-01 1.39307827e-01 1.54788857e-02 2.37601250e-03\n",
      "  1.38657680e-03 3.55002267e-04 6.20640814e-04 1.77532726e-04\n",
      "  1.99223388e-04 3.89927707e-04 8.57585575e-04 2.25000968e-03\n",
      "  2.57003424e-03 8.53326172e-03 8.00707657e-03 9.00046807e-03\n",
      "  1.98575873e-02 4.47468422e-02 2.51428246e-01 7.58817971e-01\n",
      "  9.61008549e-01 9.80606854e-01 7.98247278e-01 6.51198804e-01\n",
      "  4.75076556e-01 5.30867100e-01 6.61955118e-01 8.20300341e-01\n",
      "  4.74386692e-01 1.53885290e-01 1.91499852e-02 2.29943520e-03\n",
      "  5.15507883e-04 3.30127223e-04 8.34844017e-04 2.51684949e-04\n",
      "  1.62096039e-04 4.17746021e-04 6.04674278e-04 9.94014670e-04\n",
      "  3.29499110e-03 4.76791477e-03 8.43381975e-03 1.02202240e-02\n",
      "  3.10564470e-02 4.72435765e-02 2.76994020e-01 7.12016463e-01\n",
      "  7.78065264e-01 5.24693668e-01 1.10450074e-01 4.05304469e-02\n",
      "  1.01770490e-01 2.63056397e-01 7.58536518e-01 8.73314559e-01\n",
      "  3.98168266e-01 1.96768120e-01 9.17405635e-03 2.01747613e-03\n",
      "  6.40969723e-04 2.76485633e-04 3.90188565e-04 2.60193396e-04\n",
      "  2.08714075e-04 4.10538487e-04 6.19714905e-04 1.79428374e-03\n",
      "  2.73811095e-03 3.46067781e-03 3.94645659e-03 2.26657046e-03\n",
      "  1.00386031e-02 5.13435826e-02 2.94156730e-01 4.32327807e-01\n",
      "  3.11084628e-01 4.71816994e-02 7.08508817e-03 2.33838279e-02\n",
      "  1.62746578e-01 5.85400939e-01 8.73066366e-01 8.53344381e-01\n",
      "  5.19111991e-01 8.56646076e-02 5.92304533e-03 1.34153035e-03\n",
      "  5.15383319e-04 5.90644253e-04 4.16961673e-04 2.20378686e-04\n",
      "  1.80458868e-04 4.95545159e-04 5.47356380e-04 6.20396633e-04\n",
      "  7.58485054e-04 9.39541846e-04 8.55826074e-04 1.97804347e-03\n",
      "  7.62956636e-03 4.13116105e-02 1.80188030e-01 2.12341547e-01\n",
      "  8.07777494e-02 2.26139706e-02 1.89395901e-02 9.17910039e-02\n",
      "  6.04477704e-01 9.21023250e-01 9.06310916e-01 6.84004426e-01\n",
      "  1.75695807e-01 8.15301295e-03 2.89029139e-03 9.23304295e-04\n",
      "  3.21017287e-04 2.97843158e-04 2.53179547e-04 2.63539929e-04\n",
      "  2.09378195e-04 2.83153786e-04 6.50193717e-04 5.36102860e-04\n",
      "  2.78138352e-04 3.39340593e-04 3.20048886e-04 2.93674530e-03\n",
      "  1.09628700e-02 3.09822634e-02 1.35955796e-01 3.06596816e-01\n",
      "  1.07205294e-01 1.74022898e-01 2.77697414e-01 6.31041884e-01\n",
      "  9.43978667e-01 9.64878142e-01 7.27251172e-01 2.64240891e-01\n",
      "  2.60410495e-02 1.78804994e-03 1.18555757e-03 2.75913946e-04\n",
      "  1.83559183e-04 2.57575564e-04 2.20145565e-04 2.88295152e-04\n",
      "  1.78362796e-04 2.68377917e-04 5.42889757e-04 3.73822899e-04\n",
      "  2.25954078e-04 2.84393493e-04 3.25256871e-04 2.10483489e-03\n",
      "  1.11164441e-02 2.96376627e-02 1.14338465e-01 4.21328723e-01\n",
      "  5.97001076e-01 6.63269758e-01 7.53918111e-01 8.96340132e-01\n",
      "  9.57610548e-01 9.04717803e-01 3.70227486e-01 4.80277538e-02\n",
      "  3.65301804e-03 7.25037535e-04 6.53626455e-04 2.53311155e-04\n",
      "  1.26947241e-04 2.17700042e-04 2.20119735e-04 4.11360001e-04\n",
      "  2.47807533e-04 1.66117490e-04 2.32093022e-04 5.71963494e-04\n",
      "  3.46761837e-04 2.84972135e-04 7.09450920e-04 4.20102710e-03\n",
      "  9.16020852e-03 1.21022109e-02 7.95213878e-02 3.54368120e-01\n",
      "  6.77057028e-01 8.06347609e-01 7.51863539e-01 9.32281315e-01\n",
      "  9.19099867e-01 8.37577999e-01 2.16270983e-01 1.49442218e-02\n",
      "  1.55816658e-03 6.76024822e-04 4.88054822e-04 1.34005240e-04\n",
      "  1.20054145e-04 2.02174939e-04 3.13636498e-04 2.67254451e-04\n",
      "  1.76000802e-04 3.18368111e-04 4.64892772e-04 9.83513077e-04\n",
      "  6.77011267e-04 3.97496857e-04 9.56602395e-04 2.94704083e-03\n",
      "  4.61429358e-03 6.87247841e-03 1.58677511e-02 5.69510646e-02\n",
      "  3.09231788e-01 5.24480104e-01 5.99914730e-01 6.60682619e-01\n",
      "  7.85050511e-01 6.55899405e-01 2.09020585e-01 1.67990327e-02\n",
      "  1.68355403e-03 9.08754650e-04 4.09160450e-04 1.17449796e-04\n",
      "  9.92854766e-05 1.13964816e-04 3.93074093e-04 3.13070952e-04\n",
      "  1.77748370e-04 2.61738023e-04 7.04142207e-04 1.60994346e-03\n",
      "  3.34325177e-03 2.61454191e-03 2.31125811e-03 3.28008668e-03\n",
      "  2.01094989e-03 1.39591843e-03 2.35055224e-03 1.50096714e-02\n",
      "  8.67798775e-02 1.06165007e-01 1.77187622e-01 3.24603379e-01\n",
      "  7.03118861e-01 7.28741765e-01 3.19785058e-01 6.06183335e-02\n",
      "  1.28932763e-02 2.73362012e-03 1.08949549e-03 3.99416575e-04\n",
      "  1.42273435e-04 2.26912016e-04 3.57765501e-04 2.03223244e-04\n",
      "  3.12972523e-04 2.46344629e-04 1.11924240e-03 4.51587653e-03\n",
      "  1.11866724e-02 2.66302004e-02 7.34759727e-03 5.66550111e-03\n",
      "  7.08920474e-04 7.31844630e-04 1.82940357e-03 6.31588511e-03\n",
      "  4.65540253e-02 4.60026786e-02 7.73698837e-02 1.70495391e-01\n",
      "  5.05524457e-01 5.95615625e-01 5.06529510e-01 2.29236990e-01\n",
      "  8.09607208e-02 9.20955837e-03 2.26176833e-03 5.06091455e-04\n",
      "  5.34404768e-04 1.89875049e-04 2.98438652e-04 2.40994865e-04\n",
      "  2.44650932e-04 2.00901850e-04 2.14839191e-03 9.49476752e-03\n",
      "  4.96546291e-02 7.65903518e-02 7.36643523e-02 1.39397029e-02\n",
      "  1.43472501e-03 1.28765916e-03 4.99984762e-03 1.14639122e-02\n",
      "  2.46443655e-02 2.11373102e-02 3.18563432e-02 1.56801060e-01\n",
      "  3.76985222e-01 9.01134908e-01 5.73455393e-01 4.58501726e-01\n",
      "  7.92003572e-02 1.31734060e-02 2.32312409e-03 1.54131628e-03\n",
      "  1.20091694e-03 4.04596853e-04 6.84365048e-04 2.61871290e-04\n",
      "  3.05876893e-04 2.41695321e-04 2.29571015e-03 7.12560564e-02\n",
      "  2.95307130e-01 2.94372320e-01 1.64434552e-01 8.04484710e-02\n",
      "  5.59696648e-03 8.53070524e-03 1.29548050e-02 1.71791557e-02\n",
      "  1.15162022e-02 1.03751700e-02 1.20952968e-02 1.07912675e-01\n",
      "  6.89324021e-01 8.94283891e-01 8.54867816e-01 5.12791872e-01\n",
      "  4.11644652e-02 5.41433133e-03 2.65141740e-03 2.20022118e-03\n",
      "  2.08668597e-03 8.40158900e-04 4.58756782e-04 1.69618783e-04\n",
      "  1.99582923e-04 2.43741742e-04 5.32780681e-03 1.13496982e-01\n",
      "  5.59544504e-01 6.20163381e-01 4.22580957e-01 2.32960954e-01\n",
      "  7.42655545e-02 4.13151570e-02 3.69848311e-02 7.01636001e-02\n",
      "  4.09846790e-02 2.19152719e-02 2.98958328e-02 1.63528740e-01\n",
      "  7.51118660e-01 8.93276274e-01 7.50910699e-01 2.08376288e-01\n",
      "  4.16805781e-02 6.88293995e-03 3.21059930e-03 1.89850153e-03\n",
      "  1.41652406e-03 8.81226559e-04 3.65448184e-04 2.49572331e-04\n",
      "  1.25539300e-04 3.17036029e-04 5.19279577e-03 9.52424556e-02\n",
      "  6.38956666e-01 6.24940217e-01 8.26205969e-01 6.71086550e-01\n",
      "  4.37392175e-01 2.59068280e-01 1.89079538e-01 3.47042382e-01\n",
      "  2.13734448e-01 1.23606235e-01 2.74854898e-01 3.39499086e-01\n",
      "  7.87790716e-01 5.48815608e-01 2.56991208e-01 9.50090289e-02\n",
      "  2.22145431e-02 1.53522016e-02 5.31979464e-03 3.84851894e-03\n",
      "  1.84847263e-03 6.37327263e-04 3.33494303e-04 3.36923753e-04\n",
      "  2.47642427e-04 2.16159533e-04 2.72613484e-03 5.10316826e-02\n",
      "  2.90418744e-01 7.45943785e-01 8.71078551e-01 9.36220407e-01\n",
      "  8.62580895e-01 7.17207670e-01 6.24532104e-01 6.39059126e-01\n",
      "  3.85258347e-01 4.03160274e-01 4.91739988e-01 2.97280610e-01\n",
      "  3.39662343e-01 2.08605617e-01 1.06089935e-01 9.15863514e-02\n",
      "  4.55704890e-02 9.60392598e-03 3.80829512e-03 1.44639739e-03\n",
      "  8.97992810e-04 5.75583836e-04 2.38167893e-04 2.47545162e-04\n",
      "  1.99582733e-04 4.26665996e-04 6.30840834e-04 1.30915614e-02\n",
      "  7.79694840e-02 4.02007937e-01 5.60706377e-01 8.15670133e-01\n",
      "  9.13966298e-01 9.09411311e-01 8.57845426e-01 8.47891390e-01\n",
      "  4.74277258e-01 3.34770322e-01 1.20826311e-01 1.03306547e-01\n",
      "  6.69167936e-02 3.44957449e-02 2.87926458e-02 2.62063574e-02\n",
      "  2.47492716e-02 8.68164748e-03 3.79048148e-03 9.26732726e-04\n",
      "  1.14120415e-03 5.58340573e-04 2.25579963e-04 2.64057016e-04\n",
      "  3.25741305e-04 1.57004077e-04 3.71077738e-04 1.69307680e-03\n",
      "  1.63185131e-02 6.74401969e-02 2.57031113e-01 5.04889071e-01\n",
      "  6.49862945e-01 7.40904629e-01 7.07366228e-01 3.92249256e-01\n",
      "  2.17157677e-01 9.76661369e-02 4.64398600e-02 1.36935282e-02\n",
      "  1.93680897e-02 4.63642180e-02 2.87800599e-02 9.70220286e-03\n",
      "  7.08769169e-03 9.58938908e-04 6.51316077e-04 6.04745117e-04\n",
      "  2.86122347e-04 2.49229925e-04 3.08465707e-04 1.89850965e-04\n",
      "  1.97597401e-04 3.03725916e-04 2.04983851e-04 2.26439559e-04\n",
      "  1.03311858e-03 2.73682503e-03 1.07426802e-02 3.50349583e-02\n",
      "  3.73307429e-02 3.31469402e-02 9.69185159e-02 4.02591340e-02\n",
      "  8.08280054e-03 2.13785842e-03 8.87555419e-04 1.49606704e-03\n",
      "  1.04985386e-02 8.68817046e-03 4.70875250e-03 2.72223027e-03\n",
      "  1.93660066e-03 4.22871322e-04 4.77901020e-04 3.54067568e-04\n",
      "  3.36884375e-04 2.14892047e-04 8.45320028e-05 1.86092293e-04\n",
      "  2.74830440e-04 2.01588424e-04 2.03613861e-04 1.99457747e-04\n",
      "  3.06560920e-04 1.26706215e-03 1.64647214e-03 1.64087350e-03\n",
      "  7.92977342e-04 1.91986887e-03 2.67838361e-03 1.22630422e-03\n",
      "  8.52538215e-04 1.48166015e-04 2.43851449e-04 8.28949909e-04\n",
      "  1.81534397e-03 1.14192127e-03 1.32642454e-03 5.74300473e-04\n",
      "  6.31658128e-04 3.72550159e-04 2.83376081e-04 1.72990534e-04\n",
      "  1.63205710e-04 2.27998520e-04 1.91758678e-04 2.83197820e-04\n",
      "  4.01829107e-04 2.41335409e-04 2.11921724e-04 2.36557884e-04\n",
      "  1.50878550e-04 1.83685770e-04 2.90849392e-04 3.10979143e-04\n",
      "  6.18017395e-04 7.37351656e-04 9.64323874e-04 7.62834214e-04\n",
      "  2.81836779e-04 5.02648298e-04 2.66982941e-04 6.19182712e-04\n",
      "  1.33963116e-03 7.64329510e-04 4.49253595e-04 2.72855075e-04\n",
      "  2.07775302e-04 1.88900638e-04 2.61625246e-04 1.70265164e-04\n",
      "  2.11921724e-04 1.53895729e-04 1.78796981e-04 2.11921724e-04]], shape=(1, 784), dtype=float32)\n"
     ]
    }
   ],
   "source": [
    "hh0_p = tf.nn.sigmoid(tf.matmul(sample_case, W) + hb)\n",
    "hh0_s = tf.round(hh0_p)\n",
    "\n",
    "print(\"Probability nodes in hidden layer:\" ,hh0_p)\n",
    "print(\"activated nodes in hidden layer:\" ,hh0_s)\n",
    "\n",
    "# reconstruct\n",
    "vv1_p = tf.nn.sigmoid(tf.matmul(hh0_s, tf.transpose(W)) + vb)\n",
    "\n",
    "print(vv1_p)\n",
    "#rec_prob = sess.run(vv1_p, feed_dict={ hh0_s: hh0_s_val, W: prv_w, vb: prv_vb})"
   ]
  },
  {
   "cell_type": "markdown",
   "metadata": {},
   "source": [
    "Here we plot the reconstructed image:\n"
   ]
  },
  {
   "cell_type": "code",
   "execution_count": 25,
   "metadata": {
    "tags": []
   },
   "outputs": [
    {
     "data": {
      "image/png": "[encoded data removed]",
      "text/plain": [
       "<Figure size 400x400 with 1 Axes>"
      ]
     },
     "metadata": {},
     "output_type": "display_data"
    }
   ],
   "source": [
    "img = Image.fromarray(tile_raster_images(X=vv1_p.numpy(), img_shape=(28, 28),tile_shape=(1, 1), tile_spacing=(1, 1)))\n",
    "plt.rcParams['figure.figsize'] = (4.0, 4.0)\n",
    "imgplot = plt.imshow(img)\n",
    "imgplot.set_cmap('gray') "
   ]
  },
  {
   "cell_type": "markdown",
   "metadata": {},
   "source": [
    "<hr>\n",
    "\n",
    "## Want to learn more?\n",
    "\n",
    "Also, you can use __Watson Studio__ to run these notebooks faster with bigger datasets.__Watson Studio__ is IBM’s leading cloud solution for data scientists, built by data scientists. With Jupyter notebooks, RStudio, Apache Spark and popular libraries pre-packaged in the cloud, __Watson Studio__ enables data scientists to collaborate on their projects without having to install anything. Join the fast-growing community of __Watson Studio__ users today with a free account at [Watson Studio](https://cocl.us/ML0120EN_DSX).This is the end of this lesson. Thank you for reading this notebook, and good luck on your studies.\n"
   ]
  },
  {
   "cell_type": "markdown",
   "metadata": {},
   "source": [
    "### Thanks for completing this lesson!\n",
    "\n",
    "Notebook created by: <a href = \"https://ca.linkedin.com/in/saeedaghabozorgi\">Saeed Aghabozorgi</a>\n",
    "\n",
    "Updated to TF 2.X by  <a href=\"https://ca.linkedin.com/in/nilmeier\"> Jerome Nilmeier</a><br />\n"
   ]
  },
  {
   "cell_type": "markdown",
   "metadata": {},
   "source": [
    "### References:\n",
    "https://en.wikipedia.org/wiki/Restricted_Boltzmann_machine  \n",
    "http://deeplearning.net/tutorial/rbm.html  \n",
    "http://www.cs.utoronto.ca/~hinton/absps/netflixICML.pdf<br>\n",
    "http://imonad.com/rbm/restricted-boltzmann-machine/  \n"
   ]
  },
  {
   "cell_type": "markdown",
   "metadata": {},
   "source": [
    "<hr>\n",
    "\n",
    "Copyright &copy; 2018 [Cognitive Class](https://cocl.us/DX0108EN_CC). This notebook and its source code are released under the terms of the [MIT License](https://bigdatauniversity.com/mit-license/).\n"
   ]
  }
 ],
 "metadata": {
  "kernelspec": {
   "display_name": "Python",
   "language": "python",
   "name": "conda-env-python-py"
  },
  "language_info": {
   "codemirror_mode": {
    "name": "ipython",
    "version": 3
   },
   "file_extension": ".py",
   "mimetype": "text/x-python",
   "name": "python",
   "nbconvert_exporter": "python",
   "pygments_lexer": "ipython3",
   "version": "3.7.12"
  }
 },
 "nbformat": 4,
 "nbformat_minor": 4
}
