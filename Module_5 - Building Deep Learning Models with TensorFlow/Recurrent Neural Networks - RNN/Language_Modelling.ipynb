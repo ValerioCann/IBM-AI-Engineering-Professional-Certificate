{
 "cells": [
  {
   "cell_type": "markdown",
   "metadata": {},
   "source": [
    "<img src=\"https://cf-courses-data.s3.us.cloud-object-storage.appdomain.cloud/IBMDeveloperSkillsNetwork-DL0120EN-SkillsNetwork/images/IDSN-logo.png\" width=\"300\" alt=\"cognitiveclass.ai logo\">\n",
    "\n",
    "<h1 align=\"center\"><font size=\"5\">RECURRENT NETWORKS and LSTM IN DEEP LEARNING</font></h1>\n"
   ]
  },
  {
   "cell_type": "markdown",
   "metadata": {},
   "source": [
    "Estimated time needed: **30** minutes\n"
   ]
  },
  {
   "cell_type": "markdown",
   "metadata": {},
   "source": [
    "<h2>Applying Recurrent Neural Networks/LSTM for Language Modeling</h2>\n",
    "Hello and welcome to this part. In this notebook, we will go over the topic of Language Modelling, and create a Recurrent Neural Network model based on the Long Short-Term Memory unit to train and benchmark on the Penn Treebank dataset. By the end of this notebook, you should be able to understand how TensorFlow builds and executes a RNN model for Language Modelling.\n"
   ]
  },
  {
   "cell_type": "markdown",
   "metadata": {},
   "source": [
    "<h2>The Objective</h2>\n",
    "By now, you should have an understanding of how Recurrent Networks work -- a specialized model to process sequential data by keeping track of the \"state\" or context. In this notebook, we go over a TensorFlow code snippet for creating a model focused on <b>Language Modelling</b> -- a very relevant task that is the cornerstone of many different linguistic problems such as <b>Speech Recognition, Machine Translation and Image Captioning</b>. For this, we will be using the Penn Treebank dataset, which is an often-used dataset for benchmarking Language Modelling models.\n"
   ]
  },
  {
   "cell_type": "markdown",
   "metadata": {},
   "source": [
    "\n",
    "<h2>Table of Contents</h2>\n",
    "<ol>\n",
    "    <li><a href=\"#language_modelling\">What exactly is Language Modelling?</a></li>\n",
    "    <li><a href=\"#treebank_dataset\">The Penn Treebank dataset</a></li>\n",
    "    <li><a href=\"#word_embedding\">Word Embedding</a></li>\n",
    "    <li><a href=\"#building_lstm_model\">Building the LSTM model for Language Modeling</a></li>\n",
    "    <li><a href=\"#ltsm\">LTSM</a></li>\n",
    "</ol>\n",
    "<p></p>\n",
    "</div>\n",
    "<br>\n"
   ]
  },
  {
   "cell_type": "markdown",
   "metadata": {},
   "source": [
    "--------\n"
   ]
  },
  {
   "cell_type": "markdown",
   "metadata": {},
   "source": [
    "<a id=\"language_modelling\"></a>\n",
    "<h2>What exactly is Language Modelling?</h2>\n",
    "Language Modelling, to put it simply, <b>is the task of assigning probabilities to sequences of words</b>. This means that, given a context of one or a sequence of words in the language the model was trained on, the model should provide the next most probable words or sequence of words that follows from the given sequence of words the sentence. Language Modelling is one of the most important tasks in Natural Language Processing.\n",
    "\n",
    "<img src=\"https://ibm.box.com/shared/static/1d1i5gub6wljby2vani2vzxp0xsph702.png\" width=\"1080\">\n",
    "<center><i>Example of a sentence being predicted</i></center>\n",
    "<br><br>\n",
    "In this example, one can see the predictions for the next word of a sentence, given the context \"This is an\". As you can see, this boils down to a sequential data analysis task -- you are given a word or a sequence of words (the input data), and, given the context (the state), you need to find out what is the next word (the prediction). This kind of analysis is very important for language-related tasks such as <b>Speech Recognition, Machine Translation, Image Captioning, Text Correction</b> and many other very relevant problems. \n",
    "\n",
    "<img src=\"https://ibm.box.com/shared/static/az39idf9ipfdpc5ugifpgxnydelhyf3i.png\" width=\"1080\">\n",
    "<center><i>The above example is a schema of an RNN in execution</i></center>\n",
    "<br><br>\n",
    "As the above image shows, Recurrent Network models fit this problem like a glove. Alongside LSTM and its capacity to maintain the model's state for over one thousand time steps, we have all the tools we need to undertake this problem. The goal for this notebook is to create a model that can reach <b>low levels of perplexity</b> on our desired dataset.\n",
    "\n",
    "For Language Modelling problems, <b>perplexity</b> is the way to gauge efficiency. Perplexity is simply a measure of how well a probabilistic model is able to predict its sample. A higher-level way to explain this would be saying that <b>low perplexity means a higher degree of trust in the predictions the model makes</b>. Therefore, the lower perplexity is, the better.\n"
   ]
  },
  {
   "cell_type": "markdown",
   "metadata": {},
   "source": [
    "<a id=\"treebank_dataset\"></a>\n",
    "<h2>The Penn Treebank dataset</h2>\n",
    "Historically, datasets big enough for Natural Language Processing are hard to come by. This is in part due to the necessity of the sentences to be broken down and tagged with a certain degree of correctness -- or else the models trained on it won't be able to be correct at all. This means that we need a <b>large amount of data, annotated by or at least corrected by humans</b>. This is, of course, not an easy task at all.\n",
    "\n",
    "The Penn Treebank, or PTB for short, is a dataset maintained by the University of Pennsylvania. It is <i>huge</i> -- there are over <b>four million and eight hundred thousand</b> annotated words in it, all corrected by humans. It is composed of many different sources, from abstracts of Department of Energy papers to texts from the Library of America. Since it is verifiably correct and of such a huge size, the Penn Treebank is commonly used as a benchmark dataset for Language Modelling.\n",
    "\n",
    "The dataset is divided in different kinds of annotations, such as Piece-of-Speech, Syntactic and Semantic skeletons. For this example, we will simply use a sample of clean, non-annotated words (with the exception of one tag --<code>&lt;unk&gt;</code>\n",
    ", which is used for rare words such as uncommon proper nouns) for our model. This means that we just want to predict what the next words would be, not what they mean in context or their classes on a given sentence.\n",
    "\n",
    "<center>Example of text from the dataset we are going to use, <b>ptb.train</b></center>\n",
    "<br><br>\n",
    "\n",
    "<div class=\"alert alert-block alert-info\" style=\"margin-top: 20px\">\n",
    "    <center>the percentage of lung cancer deaths among the workers at the west <code>&lt;unk&gt;</code> mass. paper factory appears to be the highest for any asbestos workers studied in western industrialized countries he said \n",
    " the plant which is owned by <code>&lt;unk&gt;</code> & <code>&lt;unk&gt;</code> co. was under contract with <code>&lt;unk&gt;</code> to make the cigarette filters \n",
    " the finding probably will support those who argue that the U.S. should regulate the class of asbestos including <code>&lt;unk&gt;</code> more <code>&lt;unk&gt;</code> than the common kind of asbestos <code>&lt;unk&gt;</code> found in most schools and other buildings dr. <code>&lt;unk&gt;</code> said</center>\n",
    "</div>\n"
   ]
  },
  {
   "cell_type": "markdown",
   "metadata": {},
   "source": [
    "<a id=\"word_embedding\"></a>\n",
    "<h2>Word Embeddings</h2><br/>\n",
    "\n",
    "For better processing, in this example, we will make use of <a href=\"https://www.tensorflow.org/tutorials/word2vec/?utm_medium=Exinfluencer&utm_source=Exinfluencer&utm_content=000026UJ&utm_term=10006555&utm_id=NA-SkillsNetwork-Channel-SkillsNetworkCoursesIBMDeveloperSkillsNetworkDL0120ENSkillsNetwork954-2023-01-01\"><b>word embeddings</b></a>, which is <b>a way of representing sentence structures or words as n-dimensional vectors (where n is a reasonably high number, such as 200 or 500) of real numbers</b>. Basically, we will assign each word a randomly-initialized vector, and input those into the network to be processed. After a number of iterations, these vectors are expected to assume values that help the network to correctly predict what it needs to -- in our case, the probable next word in the sentence. This is shown to be a very effective task in Natural Language Processing, and is a commonplace practice.\n",
    "<br><br>\n",
    "<font size=\"4\"><strong>\n",
    "$$Vec(\"Example\") = [0.02, 0.00, 0.00, 0.92, 0.30, \\ldots]$$\n",
    "</strong></font>\n",
    "<br>\n",
    "Word Embedding tends to group up similarly used words <i>reasonably</i> close together in the vectorial space. For example, if we use T-SNE (a dimensional reduction visualization algorithm) to flatten the dimensions of our vectors into a 2-dimensional space and plot these words in a 2-dimensional space, we might see something like this:\n",
    "\n",
    "<img src=\"https://ibm.box.com/shared/static/bqhc5dg879gcoabzhxra1w8rkg3od1cu.png\" width=\"800\">\n",
    "<center><i>T-SNE Mockup with clusters marked for easier visualization</i></center>\n",
    "<br><br>\n",
    "As you can see, words that are frequently used together, in place of each other, or in the same places as them tend to be grouped together -- being closer together the higher they are correlated. For example, \"None\" is pretty semantically close to \"Zero\", while a phrase that uses \"Italy\", you could probably also fit \"Germany\" in it, with little damage to the sentence structure. The vectorial \"closeness\" for similar words like this is a great indicator of a well-built model.\n",
    "\n",
    "<hr>\n",
    " \n"
   ]
  },
  {
   "cell_type": "markdown",
   "metadata": {},
   "source": [
    "We need to import the necessary modules for our code. We need <b><code>numpy</code></b> and <b><code>tensorflow</code></b>, obviously. Additionally, we can import directly the <b><code>tensorflow.models.rnn</code></b> model, which includes the function for building RNNs, and <b><code>tensorflow.models.rnn.ptb.reader</code></b> which is the helper module for getting the input data from the dataset we just downloaded.\n",
    "\n",
    "If you want to learn more take a look at https://github.com/tensorflow/models/blob/master/tutorials/rnn/ptb/reader.py\n"
   ]
  },
  {
   "cell_type": "code",
   "execution_count": null,
   "metadata": {
    "tags": []
   },
   "outputs": [],
   "source": [
    "!pip install tensorflow==2.9.0\n",
    "!pip install numpy==1.21.4\n"
   ]
  },
  {
   "cell_type": "code",
   "execution_count": 1,
   "metadata": {
    "tags": []
   },
   "outputs": [
    {
     "name": "stderr",
     "output_type": "stream",
     "text": [
      "2024-02-19 13:24:01.007973: I tensorflow/core/util/util.cc:169] oneDNN custom operations are on. You may see slightly different numerical results due to floating-point round-off errors from different computation orders. To turn them off, set the environment variable `TF_ENABLE_ONEDNN_OPTS=0`.\n",
      "2024-02-19 13:24:01.016677: W tensorflow/stream_executor/platform/default/dso_loader.cc:64] Could not load dynamic library 'libcudart.so.11.0'; dlerror: libcudart.so.11.0: cannot open shared object file: No such file or directory\n",
      "2024-02-19 13:24:01.016724: I tensorflow/stream_executor/cuda/cudart_stub.cc:29] Ignore above cudart dlerror if you do not have a GPU set up on your machine.\n"
     ]
    }
   ],
   "source": [
    "import time\n",
    "import numpy as np\n",
    "import tensorflow as tf\n",
    "if not tf.__version__ == '2.9.0':\n",
    "    print(tf.__version__)\n",
    "    raise ValueError('please upgrade to TensorFlow 2.9.0, or restart your Kernel (Kernel->Restart & Clear Output)')"
   ]
  },
  {
   "cell_type": "markdown",
   "metadata": {},
   "source": [
    "IMPORTANT! => Please restart the kernel by clicking on \"Kernel\"->\"Restart and Clear Outout\" and wait until all output disapears. Then your changes are beeing picked up\n"
   ]
  },
  {
   "cell_type": "code",
   "execution_count": 8,
   "metadata": {
    "tags": []
   },
   "outputs": [],
   "source": [
    "!mkdir data\n",
    "!mkdir data/ptb\n",
    "!wget -q -O data/ptb/reader.py https://cf-courses-data.s3.us.cloud-object-storage.appdomain.cloud/IBMDeveloperSkillsNetwork-DL0120EN-SkillsNetwork/labs/Week3/data/ptb/reader.py\n",
    "!cp data/ptb/reader.py .\n",
    "\n"
   ]
  },
  {
   "cell_type": "code",
   "execution_count": 9,
   "metadata": {
    "tags": []
   },
   "outputs": [
    {
     "ename": "IndentationError",
     "evalue": "unexpected indent (1519322783.py, line 70)",
     "output_type": "error",
     "traceback": [
      "\u001b[0;36m  File \u001b[0;32m\"/tmp/ipykernel_1041/1519322783.py\"\u001b[0;36m, line \u001b[0;32m70\u001b[0m\n\u001b[0;31m    train_path = os.path.join(data_path, \"ptb.train.txt\")\u001b[0m\n\u001b[0m    ^\u001b[0m\n\u001b[0;31mIndentationError\u001b[0m\u001b[0;31m:\u001b[0m unexpected indent\n"
     ]
    }
   ],
   "source": [
    "# Copyright 2015 The TensorFlow Authors. All Rights Reserved.\n",
    "#\n",
    "# Licensed under the Apache License, Version 2.0 (the \"License\");\n",
    "# you may not use this file except in compliance with the License.\n",
    "# You may obtain a copy of the License at\n",
    "#\n",
    "#     http://www.apache.org/licenses/LICENSE-2.0\n",
    "#\n",
    "# Unless required by applicable law or agreed to in writing, software\n",
    "# distributed under the License is distributed on an \"AS IS\" BASIS,\n",
    "# WITHOUT WARRANTIES OR CONDITIONS OF ANY KIND, either express or implied.\n",
    "# See the License for the specific language governing permissions and\n",
    "# limitations under the License.\n",
    "# ==============================================================================\n",
    "\n",
    "\n",
    "\"\"\"Utilities for parsing PTB text files.\"\"\"\n",
    "from __future__ import absolute_import\n",
    "from __future__ import division\n",
    "from __future__ import print_function\n",
    "\n",
    "import collections\n",
    "import os\n",
    "\n",
    "import numpy as np\n",
    "import tensorflow as tf\n",
    "\n",
    "\n",
    "def _read_words(filename):\n",
    "  with tf.io.gfile.GFile(filename, \"r\") as f:\n",
    "    return f.read().replace(\"\\n\", \"<eos>\").split()\n",
    "\n",
    "\n",
    "def _build_vocab(filename):\n",
    "  data = _read_words(filename)\n",
    "\n",
    "  counter = collections.Counter(data)\n",
    "  count_pairs = sorted(counter.items(), key=lambda x: (-x[1], x[0]))\n",
    "\n",
    "  words, _ = list(zip(*count_pairs))\n",
    "  word_to_id = dict(zip(words, range(len(words))))\n",
    "\n",
    "  return word_to_id\n",
    "\n",
    "\n",
    "def _file_to_word_ids(filename, word_to_id):\n",
    "  data = _read_words(filename)\n",
    "  return [word_to_id[word] for word in data if word in word_to_id]\n",
    "\n",
    "\n",
    "def ptb_raw_data(data_path=None):\n",
    "  \"\"\"Load PTB raw data from data directory \"data_path\".\n",
    "\n",
    "  Reads PTB text files, converts strings to integer ids,\n",
    "  and performs mini-batching of the inputs.\n",
    "\n",
    "  The PTB dataset comes from Tomas Mikolov's webpage:\n",
    "\n",
    "  http://www.fit.vutbr.cz/~imikolov/rnnlm/simple-examples.tgz\n",
    "\n",
    "  Args:\n",
    "    data_path: string path to the directory where simple-examples.tgz has\n",
    "      been extracted.\n",
    "\n",
    "  Returns:\n",
    "    tuple (train_data, valid_data, test_data, vocabulary)\n",
    "    where each of the data objects can be passed to PTBIterator.\n",
    "  \"\"\"\n",
    "\n",
    "    train_path = os.path.join(data_path, \"ptb.train.txt\")\n",
    "    valid_path = os.path.join(data_path, \"ptb.valid.txt\")\n",
    "    test_path = os.path.join(data_path, \"ptb.test.txt\")\n",
    "\n",
    "    word_to_id = _build_vocab(train_path)\n",
    "    train_data = _file_to_word_ids(train_path, word_to_id)\n",
    "    valid_data = _file_to_word_ids(valid_path, word_to_id)\n",
    "    test_data = _file_to_word_ids(test_path, word_to_id)\n",
    "    vocabulary = len(word_to_id)\n",
    "    return train_data, valid_data, test_data, vocabulary, word_to_id\n",
    "\n",
    "\n",
    "def ptb_iterator(raw_data, batch_size, num_steps):\n",
    "  \"\"\"Iterate on the raw PTB data.\n",
    "\n",
    "  This generates batch_size pointers into the raw PTB data, and allows\n",
    "  minibatch iteration along these pointers.\n",
    "\n",
    "  Args:\n",
    "    raw_data: one of the raw data outputs from ptb_raw_data.\n",
    "    batch_size: int, the batch size.\n",
    "    num_steps: int, the number of unrolls.\n",
    "\n",
    "  Yields:\n",
    "    Pairs of the batched data, each a matrix of shape [batch_size, num_steps].\n",
    "    The second element of the tuple is the same data time-shifted to the\n",
    "    right by one.\n",
    "\n",
    "  Raises:\n",
    "    ValueError: if batch_size or num_steps are too high.\n",
    "  \"\"\"\n",
    "    raw_data = np.array(raw_data, dtype=np.int32)\n",
    "    data_len = len(raw_data)\n",
    "    batch_len = data_len // batch_size\n",
    "    data = np.zeros([batch_size, batch_len], dtype=np.int32)\n",
    "    for i in range(batch_size):\n",
    "        data[i] = raw_data[batch_len * i:batch_len * (i + 1)]\n",
    "\n",
    "        epoch_size = (batch_len - 1) // num_steps\n",
    "\n",
    "    if epoch_size == 0:\n",
    "        raise ValueError(\"epoch_size == 0, decrease batch_size or num_steps\")\n",
    "\n",
    "    for i in range(epoch_size):\n",
    "        x = data[:, i*num_steps:(i+1)*num_steps]\n",
    "        y = data[:, i*num_steps+1:(i+1)*num_steps+1]\n",
    "    yield (x, y)"
   ]
  },
  {
   "cell_type": "markdown",
   "metadata": {},
   "source": [
    "<a id=\"building_lstm_model\"></a>\n",
    "<h2>Building the LSTM model for Language Modeling</h2>\n",
    "Now that we know exactly what we are doing, we can start building our model using TensorFlow. The very first thing we need to do is download and extract the <code>simple-examples</code> dataset, which can be done by executing the code cell below.\n"
   ]
  },
  {
   "cell_type": "code",
   "execution_count": 10,
   "metadata": {
    "tags": []
   },
   "outputs": [
    {
     "name": "stdout",
     "output_type": "stream",
     "text": [
      "--2024-02-19 13:34:16--  http://www.fit.vutbr.cz/~imikolov/rnnlm/simple-examples.tgz\n",
      "Resolving www.fit.vutbr.cz (www.fit.vutbr.cz)... 147.229.9.23, 147.229.9.23\n",
      "Connecting to www.fit.vutbr.cz (www.fit.vutbr.cz)|147.229.9.23|:80... connected.\n",
      "HTTP request sent, awaiting response... 200 OK\n",
      "Length: 34869662 (33M) [application/x-gtar]\n",
      "Saving to: ‘simple-examples.tgz.1’\n",
      "\n",
      "simple-examples.tgz 100%[===================>]  33.25M  8.50MB/s    in 4.1s    \n",
      "\n",
      "2024-02-19 13:34:21 (8.11 MB/s) - ‘simple-examples.tgz.1’ saved [34869662/34869662]\n",
      "\n"
     ]
    }
   ],
   "source": [
    "!wget http://www.fit.vutbr.cz/~imikolov/rnnlm/simple-examples.tgz \n",
    "!tar xzf simple-examples.tgz -C data/"
   ]
  },
  {
   "cell_type": "markdown",
   "metadata": {},
   "source": [
    "Additionally, for the sake of making it easy to play around with the model's hyperparameters, we can declare them beforehand. Feel free to change these -- you will see a difference in performance each time you change those!  \n"
   ]
  },
  {
   "cell_type": "code",
   "execution_count": 11,
   "metadata": {
    "tags": []
   },
   "outputs": [],
   "source": [
    "#Initial weight scale\n",
    "init_scale = 0.1\n",
    "\n",
    "#Initial learning rate\n",
    "learning_rate = 1.0\n",
    "\n",
    "#Maximum permissible norm for the gradient (For gradient clipping -- another measure against Exploding Gradients)\n",
    "max_grad_norm = 5\n",
    "\n",
    "#The number of layers in our model\n",
    "num_layers = 2\n",
    "\n",
    "#The total number of recurrence steps, also known as the number of layers when our RNN is \"unfolded\"\n",
    "num_steps = 20\n",
    "#The number of processing units (neurons) in the hidden layers\n",
    "hidden_size_l1 = 256\n",
    "hidden_size_l2 = 128\n",
    "\n",
    "#The maximum number of epochs trained with the initial learning rate\n",
    "max_epoch_decay_lr = 4\n",
    "\n",
    "#The total number of epochs in training\n",
    "max_epoch = 15\n",
    "\n",
    "#The probability for keeping data in the Dropout Layer (This is an optimization, but is outside our scope for this notebook!)\n",
    "#At 1, we ignore the Dropout Layer wrapping.\n",
    "keep_prob = 1\n",
    "\n",
    "#The decay for the learning rate\n",
    "decay = 0.5\n",
    "\n",
    "#The size for each batch of data\n",
    "batch_size = 30\n",
    "\n",
    "#The size of our vocabulary\n",
    "vocab_size = 10000\n",
    "\n",
    "embeding_vector_size= 200\n",
    "\n",
    "#Training flag to separate training from testing\n",
    "is_training = 1\n",
    "\n",
    "#Data directory for our dataset\n",
    "data_dir = \"data/simple-examples/data/\""
   ]
  },
  {
   "cell_type": "markdown",
   "metadata": {},
   "source": [
    "Some clarifications for LSTM architecture based on the arguments:\n",
    "\n",
    "Network structure:\n",
    "<ul>\n",
    "    <li>In this network, the number of LSTM cells are 2. To give the model more expressive power, we can add multiple layers of LSTMs to process the data. The output of the first layer will become the input of the second and so on.\n",
    "    </li>\n",
    "    <li>The recurrence steps is 20, that is, when our RNN is \"Unfolded\", the recurrence step is 20.</li>   \n",
    "    <li>the structure is like:\n",
    "        <ul>\n",
    "            <li>200 input units -> [200x200] Weight -> 200 Hidden units (first layer) -> [200x200] Weight matrix  -> 200 Hidden units (second layer) ->  [200] weight Matrix -> 200 unit output</li>\n",
    "        </ul>\n",
    "    </li>\n",
    "</ul>\n",
    "<br>\n",
    "\n",
    "Input layer: \n",
    "<ul>\n",
    "    <li>The network has 200 input units.</li>\n",
    "    <li>Suppose each word is represented by an embedding vector of dimensionality e=200. The input layer of each cell will have 200 linear units. These e=200 linear units are connected to each of the h=200 LSTM units in the hidden layer (assuming there is only one hidden layer, though our case has 2 layers).\n",
    "    </li>\n",
    "    <li>The input shape is [batch_size, num_steps], that is [30x20]. It will turn into [30x20x200] after embedding, and then 20x[30x200]\n",
    "    </li>\n",
    "</ul>\n",
    "<br>\n",
    "\n",
    "Hidden layer:\n",
    "<ul>\n",
    "    <li>Each LSTM has 200 hidden units which is equivalent to the dimensionality of the embedding words and output.</li>\n",
    "</ul>\n",
    "<br>\n"
   ]
  },
  {
   "cell_type": "markdown",
   "metadata": {},
   "source": [
    "There is a lot to be done and a ton of information to process at the same time, so go over this code slowly. It may seem complex at first, but if you try to apply what you just learned about language modelling to the code you see, you should be able to understand it.\n",
    "\n",
    "This code is adapted from the <a href=\"https://github.com/tensorflow/models\">PTBModel</a> example bundled with the TensorFlow source code.\n",
    "\n",
    "\n",
    "<h3>Training data</h3>\n",
    "The story starts from data:\n",
    "<ul>\n",
    "    <li>Train data is a list of words, of size 929589, represented by numbers, e.g. [9971, 9972, 9974, 9975,...]</li>\n",
    "    <li>We read data as mini-batch of size b=30. Assume the size of each sentence is 20 words (num_steps = 20). Then it will take $$floor(\\frac{N}{b \\times h})+1=1548$$ iterations for the learner to go through all sentences once. Where N is the size of the list of words, b is batch size, and h is size of each sentence. So, the number of iterators is 1548\n",
    "    </li>\n",
    "    <li>Each batch data is read from train dataset of size 600, and shape of [30x20]</li>\n",
    "</ul>\n"
   ]
  },
  {
   "cell_type": "code",
   "execution_count": 12,
   "metadata": {
    "tags": []
   },
   "outputs": [],
   "source": [
    "# Reads the data and separates it into training data, validation data and testing data\n",
    "raw_data = ptb_raw_data(data_dir)\n",
    "train_data, valid_data, test_data, vocab, word_to_id = raw_data"
   ]
  },
  {
   "cell_type": "code",
   "execution_count": 13,
   "metadata": {
    "tags": []
   },
   "outputs": [
    {
     "data": {
      "text/plain": [
       "929589"
      ]
     },
     "execution_count": 13,
     "metadata": {},
     "output_type": "execute_result"
    }
   ],
   "source": [
    "len(train_data)"
   ]
  },
  {
   "cell_type": "code",
   "execution_count": 14,
   "metadata": {
    "tags": []
   },
   "outputs": [
    {
     "name": "stdout",
     "output_type": "stream",
     "text": [
      "['aer', 'banknote', 'berlitz', 'calloway', 'centrust', 'cluett', 'fromstein', 'gitano', 'guterman', 'hydro-quebec', 'ipo', 'kia', 'memotec', 'mlx', 'nahb', 'punts', 'rake', 'regatta', 'rubens', 'sim', 'snack-food', 'ssangyong', 'swapo', 'wachter', '<eos>', 'pierre', '<unk>', 'N', 'years', 'old', 'will', 'join', 'the', 'board', 'as', 'a', 'nonexecutive', 'director', 'nov.', 'N', '<eos>', 'mr.', '<unk>', 'is', 'chairman', 'of', '<unk>', 'n.v.', 'the', 'dutch', 'publishing', 'group', '<eos>', 'rudolph', '<unk>', 'N', 'years', 'old', 'and', 'former', 'chairman', 'of', 'consolidated', 'gold', 'fields', 'plc', 'was', 'named', 'a', 'nonexecutive', 'director', 'of', 'this', 'british', 'industrial', 'conglomerate', '<eos>', 'a', 'form', 'of', 'asbestos', 'once', 'used', 'to', 'make', 'kent', 'cigarette', 'filters', 'has', 'caused', 'a', 'high', 'percentage', 'of', 'cancer', 'deaths', 'among', 'a', 'group', 'of']\n"
     ]
    }
   ],
   "source": [
    "def id_to_word(id_list):\n",
    "    line = []\n",
    "    for w in id_list:\n",
    "        for word, wid in word_to_id.items():\n",
    "            if wid == w:\n",
    "                line.append(word)\n",
    "    return line            \n",
    "                \n",
    "\n",
    "print(id_to_word(train_data[0:100]))"
   ]
  },
  {
   "cell_type": "markdown",
   "metadata": {},
   "source": [
    "Lets just read one mini-batch now and feed our network:\n"
   ]
  },
  {
   "cell_type": "code",
   "execution_count": 15,
   "metadata": {
    "tags": []
   },
   "outputs": [],
   "source": [
    "itera = ptb_iterator(train_data, batch_size, num_steps)\n",
    "first_touple = itera.__next__()\n",
    "_input_data = first_touple[0]\n",
    "_targets = first_touple[1]"
   ]
  },
  {
   "cell_type": "code",
   "execution_count": 16,
   "metadata": {
    "tags": []
   },
   "outputs": [
    {
     "data": {
      "text/plain": [
       "(30, 20)"
      ]
     },
     "execution_count": 16,
     "metadata": {},
     "output_type": "execute_result"
    }
   ],
   "source": [
    "_input_data.shape"
   ]
  },
  {
   "cell_type": "code",
   "execution_count": 17,
   "metadata": {
    "tags": []
   },
   "outputs": [
    {
     "data": {
      "text/plain": [
       "(30, 20)"
      ]
     },
     "execution_count": 17,
     "metadata": {},
     "output_type": "execute_result"
    }
   ],
   "source": [
    "_targets.shape"
   ]
  },
  {
   "cell_type": "markdown",
   "metadata": {},
   "source": [
    "Lets look at 3 sentences of our input x:\n"
   ]
  },
  {
   "cell_type": "code",
   "execution_count": 18,
   "metadata": {
    "tags": []
   },
   "outputs": [
    {
     "data": {
      "text/plain": [
       "array([[9970, 9971, 9972, 9974, 9975, 9976, 9980, 9981, 9982, 9983, 9984,\n",
       "        9986, 9987, 9988, 9989, 9991, 9992, 9993, 9994, 9995],\n",
       "       [2654,    6,  334, 2886,    4,    1,  233,  711,  834,   11,  130,\n",
       "         123,    7,  514,    2,   63,   10,  514,    8,  605],\n",
       "       [   0, 1071,    4,    0,  185,   24,  368,   20,   31, 3109,  954,\n",
       "          12,    3,   21,    2, 2915,    2,   12,    3,   21]],\n",
       "      dtype=int32)"
      ]
     },
     "execution_count": 18,
     "metadata": {},
     "output_type": "execute_result"
    }
   ],
   "source": [
    "_input_data[0:3]"
   ]
  },
  {
   "cell_type": "code",
   "execution_count": 19,
   "metadata": {
    "tags": []
   },
   "outputs": [
    {
     "name": "stdout",
     "output_type": "stream",
     "text": [
      "['aer', 'banknote', 'berlitz', 'calloway', 'centrust', 'cluett', 'fromstein', 'gitano', 'guterman', 'hydro-quebec', 'ipo', 'kia', 'memotec', 'mlx', 'nahb', 'punts', 'rake', 'regatta', 'rubens', 'sim']\n"
     ]
    }
   ],
   "source": [
    "print(id_to_word(_input_data[0,:]))"
   ]
  },
  {
   "cell_type": "markdown",
   "metadata": {},
   "source": [
    "<h3>Embeddings</h3>\n",
    "We have to convert the words in our dataset to vectors of numbers. The traditional approach is to use one-hot encoding method that is usually used for converting categorical values to numerical values. However, One-hot encoded vectors are high-dimensional, sparse and in a big dataset, computationally inefficient. So, we use word2vec approach. It is, in fact, a layer in our LSTM network, where the word IDs will be represented as a dense representation before feeding to the LSTM. \n",
    "\n",
    "The embedded vectors also get updated during the training process of the deep neural network.\n",
    "We create the embeddings for our input data. <b>embedding_vocab</b> is matrix of [10000x200] for all 10000 unique words.\n"
   ]
  },
  {
   "cell_type": "markdown",
   "metadata": {},
   "source": [
    "<b>embedding_lookup()</b> finds the embedded values for our batch of 30x20 words. It  goes to each row of <code>input_data</code>, and for each word in the row/sentence, finds the correspond vector in <code>embedding_dic<code>. <br>\n",
    "It creates a [30x20x200] tensor, so, the first element of <b>inputs</b> (the first sentence), is a matrix of 20x200, which each row of it, is vector representing a word in the sentence.\n"
   ]
  },
  {
   "cell_type": "code",
   "execution_count": 20,
   "metadata": {
    "tags": []
   },
   "outputs": [],
   "source": [
    "embedding_layer = tf.keras.layers.Embedding(vocab_size, embeding_vector_size,batch_input_shape=(batch_size, num_steps),trainable=True,name=\"embedding_vocab\")  "
   ]
  },
  {
   "cell_type": "code",
   "execution_count": 21,
   "metadata": {
    "tags": []
   },
   "outputs": [
    {
     "name": "stderr",
     "output_type": "stream",
     "text": [
      "2024-02-19 13:34:50.778564: W tensorflow/stream_executor/platform/default/dso_loader.cc:64] Could not load dynamic library 'libcuda.so.1'; dlerror: libcuda.so.1: cannot open shared object file: No such file or directory\n",
      "2024-02-19 13:34:50.778645: W tensorflow/stream_executor/cuda/cuda_driver.cc:269] failed call to cuInit: UNKNOWN ERROR (303)\n",
      "2024-02-19 13:34:50.778676: I tensorflow/stream_executor/cuda/cuda_diagnostics.cc:156] kernel driver does not appear to be running on this host (jupyterlab-valeriocanna): /proc/driver/nvidia/version does not exist\n",
      "2024-02-19 13:34:50.779213: I tensorflow/core/platform/cpu_feature_guard.cc:193] This TensorFlow binary is optimized with oneAPI Deep Neural Network Library (oneDNN) to use the following CPU instructions in performance-critical operations:  AVX2 AVX512F AVX512_VNNI FMA\n",
      "To enable them in other operations, rebuild TensorFlow with the appropriate compiler flags.\n"
     ]
    },
    {
     "data": {
      "text/plain": [
       "<tf.Tensor: shape=(30, 20, 200), dtype=float32, numpy=\n",
       "array([[[-0.04821365,  0.04587454,  0.03055663, ..., -0.04629923,\n",
       "         -0.03351302,  0.00469805],\n",
       "        [ 0.02854463,  0.01953301, -0.02187989, ..., -0.04873819,\n",
       "         -0.006095  , -0.0270785 ],\n",
       "        [ 0.04570479,  0.03880216, -0.04858962, ..., -0.04151242,\n",
       "         -0.02025536,  0.04803452],\n",
       "        ...,\n",
       "        [-0.02507129, -0.01513599,  0.01007553, ..., -0.03281944,\n",
       "         -0.04850595, -0.04202417],\n",
       "        [-0.01187986, -0.0455169 , -0.03431425, ..., -0.00301862,\n",
       "          0.02375689,  0.03055969],\n",
       "        [-0.00970586, -0.01528569, -0.02289457, ...,  0.04595822,\n",
       "          0.04398242,  0.03971454]],\n",
       "\n",
       "       [[-0.01071991,  0.0354431 ,  0.02738888, ...,  0.04219038,\n",
       "          0.00374096, -0.0251492 ],\n",
       "        [-0.01912695, -0.03295268,  0.00926138, ...,  0.00298039,\n",
       "          0.0186001 ,  0.00681608],\n",
       "        [-0.03577833,  0.02584222,  0.03388579, ...,  0.01744931,\n",
       "          0.02650043, -0.02733405],\n",
       "        ...,\n",
       "        [-0.01819831,  0.01666747, -0.02173989, ..., -0.00803006,\n",
       "          0.01138308, -0.03791517],\n",
       "        [-0.03396046, -0.01830033, -0.00267262, ..., -0.02597588,\n",
       "         -0.03838714, -0.00619597],\n",
       "        [-0.03587332, -0.02855906, -0.01072997, ...,  0.03363032,\n",
       "         -0.01141378,  0.04088003]],\n",
       "\n",
       "       [[-0.01178851, -0.04588878, -0.04632925, ..., -0.00675787,\n",
       "          0.04382819,  0.04563672],\n",
       "        [ 0.00803738, -0.03209715, -0.01100351, ..., -0.03064784,\n",
       "         -0.01141089,  0.03476372],\n",
       "        [ 0.02371262, -0.01898583,  0.02613116, ...,  0.04769914,\n",
       "          0.00508266,  0.0323935 ],\n",
       "        ...,\n",
       "        [-0.03940535,  0.02254242, -0.01107545, ...,  0.01892687,\n",
       "         -0.00692508, -0.04552996],\n",
       "        [ 0.00114862,  0.01700732, -0.01526599, ..., -0.04971731,\n",
       "          0.00106401,  0.04872037],\n",
       "        [-0.03921335, -0.01704255,  0.04897122, ...,  0.04268159,\n",
       "          0.04043   , -0.03877689]],\n",
       "\n",
       "       ...,\n",
       "\n",
       "       [[-0.04388583,  0.00735535,  0.0495147 , ..., -0.00428026,\n",
       "         -0.01571162, -0.03909254],\n",
       "        [-0.01191944, -0.04358139, -0.04933432, ...,  0.04496014,\n",
       "         -0.01893121,  0.0257818 ],\n",
       "        [-0.03291732, -0.04658005,  0.03700341, ..., -0.01143627,\n",
       "         -0.01906085,  0.03061963],\n",
       "        ...,\n",
       "        [-0.03138974,  0.04707025,  0.00289614, ..., -0.00450139,\n",
       "          0.0099264 ,  0.00297957],\n",
       "        [ 0.00471828,  0.04073409, -0.04780402, ..., -0.01682596,\n",
       "          0.00191353, -0.0213913 ],\n",
       "        [ 0.00983043,  0.00472469, -0.02749244, ...,  0.04511822,\n",
       "         -0.00544216, -0.01034045]],\n",
       "\n",
       "       [[ 0.01989759, -0.02639772, -0.04563267, ...,  0.03268203,\n",
       "         -0.0457435 ,  0.03809053],\n",
       "        [ 0.04567337, -0.04927207, -0.01321864, ..., -0.04479453,\n",
       "         -0.01541369, -0.00029493],\n",
       "        [ 0.02371262, -0.01898583,  0.02613116, ...,  0.04769914,\n",
       "          0.00508266,  0.0323935 ],\n",
       "        ...,\n",
       "        [ 0.02083738,  0.00552513,  0.01064662, ...,  0.03553125,\n",
       "          0.00990101,  0.00703301],\n",
       "        [-0.01912695, -0.03295268,  0.00926138, ...,  0.00298039,\n",
       "          0.0186001 ,  0.00681608],\n",
       "        [ 0.0062529 ,  0.04631076, -0.01602177, ..., -0.04931204,\n",
       "         -0.0384832 , -0.03533753]],\n",
       "\n",
       "       [[-0.02885373, -0.0080026 , -0.02030499, ...,  0.02667901,\n",
       "         -0.01531156, -0.03608284],\n",
       "        [-0.04457306,  0.02136483,  0.03510649, ..., -0.04590979,\n",
       "         -0.01446842, -0.00411348],\n",
       "        [ 0.03462197, -0.00268869, -0.03175943, ..., -0.01804824,\n",
       "          0.0447762 ,  0.03391824],\n",
       "        ...,\n",
       "        [-0.00580167,  0.02444291,  0.04692415, ...,  0.04017016,\n",
       "          0.01465407,  0.04918632],\n",
       "        [ 0.00308908, -0.02419753, -0.00284082, ..., -0.01459632,\n",
       "         -0.02121266, -0.04531462],\n",
       "        [-0.01843872, -0.02916029,  0.03790952, ..., -0.01257141,\n",
       "          0.03173451, -0.00480051]]], dtype=float32)>"
      ]
     },
     "execution_count": 21,
     "metadata": {},
     "output_type": "execute_result"
    }
   ],
   "source": [
    "# Define where to get the data for our embeddings from\n",
    "inputs = embedding_layer(_input_data)\n",
    "inputs"
   ]
  },
  {
   "cell_type": "markdown",
   "metadata": {},
   "source": [
    "<h3>Constructing Recurrent Neural Networks</h3>\n"
   ]
  },
  {
   "cell_type": "markdown",
   "metadata": {},
   "source": [
    "In this step, we create the stacked LSTM using <b>tf.keras.layers.StackedRNNCells</b>, which is a 2 layer LSTM network:\n"
   ]
  },
  {
   "cell_type": "code",
   "execution_count": 22,
   "metadata": {
    "tags": []
   },
   "outputs": [],
   "source": [
    "lstm_cell_l1 = tf.keras.layers.LSTMCell(hidden_size_l1)\n",
    "lstm_cell_l2 = tf.keras.layers.LSTMCell(hidden_size_l2)"
   ]
  },
  {
   "cell_type": "code",
   "execution_count": 23,
   "metadata": {
    "tags": []
   },
   "outputs": [],
   "source": [
    "stacked_lstm = tf.keras.layers.StackedRNNCells([lstm_cell_l1, lstm_cell_l2])"
   ]
  },
  {
   "cell_type": "markdown",
   "metadata": {},
   "source": [
    "<b>tf.keras.layers.RNN</b> creates a recurrent neural network using <b>stacked_lstm</b>. \n",
    "\n",
    "The input should be a Tensor of shape: [batch_size, max_time, embedding_vector_size], in our case it would be (30, 20, 200)\n"
   ]
  },
  {
   "cell_type": "code",
   "execution_count": 24,
   "metadata": {
    "tags": []
   },
   "outputs": [],
   "source": [
    "layer  =  tf.keras.layers.RNN(stacked_lstm,[batch_size, num_steps],return_state=False,stateful=True,trainable=True)"
   ]
  },
  {
   "cell_type": "markdown",
   "metadata": {},
   "source": [
    "Also, we initialize the states of the nework:\n",
    "\n",
    "<h4>_initial_state</h4>\n",
    "\n",
    "For each LSTM, there are 2 state matrices, c\\_state and m\\_state.  c_state and m_state represent \"Memory State\" and \"Cell State\". Each hidden layer, has a vector of size 30, which keeps the states. so, for 200 hidden units in each LSTM, we have a matrix of size [30x200]\n"
   ]
  },
  {
   "cell_type": "code",
   "execution_count": 25,
   "metadata": {
    "tags": []
   },
   "outputs": [],
   "source": [
    "init_state = tf.Variable(tf.zeros([batch_size,embeding_vector_size]),trainable=False)"
   ]
  },
  {
   "cell_type": "code",
   "execution_count": 26,
   "metadata": {
    "tags": []
   },
   "outputs": [],
   "source": [
    "layer.inital_state = init_state"
   ]
  },
  {
   "cell_type": "code",
   "execution_count": 27,
   "metadata": {
    "tags": []
   },
   "outputs": [
    {
     "data": {
      "text/plain": [
       "<tf.Variable 'Variable:0' shape=(30, 200) dtype=float32, numpy=\n",
       "array([[0., 0., 0., ..., 0., 0., 0.],\n",
       "       [0., 0., 0., ..., 0., 0., 0.],\n",
       "       [0., 0., 0., ..., 0., 0., 0.],\n",
       "       ...,\n",
       "       [0., 0., 0., ..., 0., 0., 0.],\n",
       "       [0., 0., 0., ..., 0., 0., 0.],\n",
       "       [0., 0., 0., ..., 0., 0., 0.]], dtype=float32)>"
      ]
     },
     "execution_count": 27,
     "metadata": {},
     "output_type": "execute_result"
    }
   ],
   "source": [
    "layer.inital_state"
   ]
  },
  {
   "cell_type": "markdown",
   "metadata": {},
   "source": [
    "so, lets look at the outputs. The output of the stackedLSTM comes from 128 hidden_layer, and in each time step(=20), one of them get activated. we use the linear activation to map the 128 hidden layer to a [30X20 matrix]\n"
   ]
  },
  {
   "cell_type": "code",
   "execution_count": 28,
   "metadata": {
    "tags": []
   },
   "outputs": [],
   "source": [
    "outputs = layer(inputs)"
   ]
  },
  {
   "cell_type": "code",
   "execution_count": 29,
   "metadata": {
    "tags": []
   },
   "outputs": [
    {
     "data": {
      "text/plain": [
       "<tf.Tensor: shape=(30, 20, 128), dtype=float32, numpy=\n",
       "array([[[-6.26368390e-04, -9.08457150e-04, -2.73140991e-04, ...,\n",
       "         -4.06468869e-04,  8.79253610e-04, -7.33468099e-04],\n",
       "        [-1.69704785e-03, -2.32893904e-03,  5.15359745e-04, ...,\n",
       "         -4.61544521e-04,  2.49975128e-03,  6.69625122e-04],\n",
       "        [-1.81792828e-03, -3.62526579e-03,  2.15453142e-03, ...,\n",
       "         -1.11519080e-03,  2.85486504e-03, -3.84718587e-04],\n",
       "        ...,\n",
       "        [ 5.21083176e-03, -5.20072225e-03,  4.89341840e-03, ...,\n",
       "         -6.00346690e-03,  4.31185821e-03,  1.53907714e-03],\n",
       "        [ 9.37749818e-03, -3.91646987e-03,  5.72733209e-03, ...,\n",
       "         -7.67024839e-03,  1.98410731e-03,  1.57245575e-03],\n",
       "        [ 9.76867415e-03, -2.76345923e-03,  5.78054460e-03, ...,\n",
       "         -7.49830576e-03,  1.26591616e-03,  1.86787639e-03]],\n",
       "\n",
       "       [[-3.77314427e-04,  7.55626010e-04, -3.37007717e-04, ...,\n",
       "          5.26362506e-04,  1.30633463e-03,  2.07411809e-04],\n",
       "        [ 1.13180227e-04,  1.66823645e-03, -7.13363930e-04, ...,\n",
       "          3.89854453e-04,  2.05319491e-03,  1.46491406e-03],\n",
       "        [-6.18959079e-04,  2.84747104e-03, -9.78320953e-04, ...,\n",
       "          7.00739387e-04,  2.34482670e-03,  3.09772859e-03],\n",
       "        ...,\n",
       "        [ 2.23261886e-03,  1.45950802e-02,  5.90300886e-03, ...,\n",
       "          4.57677199e-03, -3.59872566e-03, -4.67772735e-03],\n",
       "        [ 2.43875477e-03,  1.38607509e-02,  5.59501490e-03, ...,\n",
       "          4.91029769e-03, -2.33792281e-03, -5.12499409e-03],\n",
       "        [ 2.81651202e-03,  1.09549249e-02,  5.90108149e-03, ...,\n",
       "          3.61076999e-03, -1.07481726e-03, -5.21032792e-03]],\n",
       "\n",
       "       [[ 9.30051436e-04,  7.01181241e-04, -2.42008318e-04, ...,\n",
       "          7.99567904e-04,  7.86605291e-04,  9.33765259e-04],\n",
       "        [ 1.56626862e-03,  4.45808197e-04,  1.28038228e-03, ...,\n",
       "          1.25256053e-03,  1.32855424e-03,  2.12371908e-03],\n",
       "        [ 1.59175345e-03,  4.64904733e-04,  1.92414806e-03, ...,\n",
       "          1.66184281e-03,  1.71387591e-03,  3.06900381e-03],\n",
       "        ...,\n",
       "        [ 4.29966254e-03,  1.08941415e-04,  7.32477929e-04, ...,\n",
       "          3.97728616e-03, -5.82475495e-03,  2.25849380e-03],\n",
       "        [ 3.71402502e-03,  5.92580327e-05,  7.07681465e-05, ...,\n",
       "          5.88968163e-03, -6.72079064e-03,  1.34617207e-03],\n",
       "        [ 3.89363477e-03, -6.68685185e-04,  1.22067440e-05, ...,\n",
       "          6.69200951e-03, -5.92106488e-03,  1.92480817e-04]],\n",
       "\n",
       "       ...,\n",
       "\n",
       "       [[ 4.19914111e-04,  8.24073039e-04,  7.21153454e-04, ...,\n",
       "         -4.86926874e-05, -1.52163164e-04,  1.37629558e-03],\n",
       "        [ 1.44846228e-04,  1.09102787e-03,  4.93355910e-04, ...,\n",
       "         -4.08095744e-04, -1.63332699e-03,  2.58616335e-03],\n",
       "        [-2.24901177e-03,  2.32369421e-04,  6.74131559e-04, ...,\n",
       "         -1.03592628e-03, -1.43611664e-03,  2.96141813e-03],\n",
       "        ...,\n",
       "        [ 2.27809022e-03,  8.52396304e-04, -8.81639717e-04, ...,\n",
       "          1.09861640e-03, -1.61910115e-03, -3.05414246e-03],\n",
       "        [ 2.85879429e-03,  9.56181320e-04,  1.99653092e-04, ...,\n",
       "          1.32408913e-03, -2.17860891e-03, -3.51832155e-03],\n",
       "        [ 2.55788490e-03,  9.58731631e-04,  1.44083844e-03, ...,\n",
       "          2.38117739e-03, -3.02415853e-03, -3.47786560e-03]],\n",
       "\n",
       "       [[-2.97825289e-04,  1.94434775e-04,  9.13961383e-04, ...,\n",
       "         -8.86994705e-04, -3.95134994e-04, -7.18004536e-04],\n",
       "        [-5.15518303e-04, -1.61399847e-04,  4.77984082e-04, ...,\n",
       "         -2.09358917e-03, -5.38402004e-04, -1.66549359e-03],\n",
       "        [-6.21834712e-04, -3.29636561e-04,  1.81376759e-04, ...,\n",
       "         -2.52736709e-03,  1.92541502e-05, -1.98452757e-03],\n",
       "        ...,\n",
       "        [-4.09617322e-03, -2.14243843e-03,  6.48503192e-03, ...,\n",
       "         -5.75992418e-03, -1.87082996e-03,  6.53601997e-03],\n",
       "        [-4.11017705e-03, -1.21739157e-03,  6.68619294e-03, ...,\n",
       "         -6.56709727e-03, -1.47945003e-03,  8.00505001e-03],\n",
       "        [-4.07922454e-03, -5.06110489e-04,  6.06970210e-03, ...,\n",
       "         -6.95279613e-03, -9.27190064e-04,  7.87106529e-03]],\n",
       "\n",
       "       [[ 6.78490731e-04,  3.72838258e-04,  1.42245751e-03, ...,\n",
       "         -4.98287263e-04, -3.14991514e-04, -4.05230996e-04],\n",
       "        [-2.49951193e-03,  7.80984701e-04,  3.88722681e-03, ...,\n",
       "         -1.56131468e-03,  8.66482034e-04,  5.04579104e-04],\n",
       "        [-4.67995228e-03,  1.77856477e-03,  4.86023026e-03, ...,\n",
       "         -2.46975617e-03,  1.42572739e-03, -4.38372008e-05],\n",
       "        ...,\n",
       "        [-2.42486317e-03, -4.90271393e-03,  6.00453606e-03, ...,\n",
       "         -5.41086961e-03,  5.21324063e-03, -2.66710366e-03],\n",
       "        [-2.67412094e-03, -5.97665971e-03,  6.96912361e-03, ...,\n",
       "         -5.51373372e-03,  6.45281048e-03, -5.70623379e-04],\n",
       "        [-2.46006018e-03, -5.81113948e-03,  7.44644413e-03, ...,\n",
       "         -3.87456478e-03,  5.39517915e-03, -2.44704512e-04]]],\n",
       "      dtype=float32)>"
      ]
     },
     "execution_count": 29,
     "metadata": {},
     "output_type": "execute_result"
    }
   ],
   "source": [
    "outputs"
   ]
  },
  {
   "cell_type": "markdown",
   "metadata": {},
   "source": [
    "<h2>Dense layer</h2>\n",
    "We now create densely-connected neural network layer that would reshape the outputs tensor from  [30 x 20 x 128] to [30 x 20 x 10000].\n"
   ]
  },
  {
   "cell_type": "code",
   "execution_count": 30,
   "metadata": {
    "tags": []
   },
   "outputs": [],
   "source": [
    "dense = tf.keras.layers.Dense(vocab_size)"
   ]
  },
  {
   "cell_type": "code",
   "execution_count": 31,
   "metadata": {
    "tags": []
   },
   "outputs": [],
   "source": [
    "logits_outputs  = dense(outputs)"
   ]
  },
  {
   "cell_type": "code",
   "execution_count": 32,
   "metadata": {
    "tags": []
   },
   "outputs": [
    {
     "name": "stdout",
     "output_type": "stream",
     "text": [
      "shape of the output from dense layer:  (30, 20, 10000)\n"
     ]
    }
   ],
   "source": [
    "print(\"shape of the output from dense layer: \", logits_outputs.shape) #(batch_size, sequence_length, vocab_size)"
   ]
  },
  {
   "cell_type": "markdown",
   "metadata": {},
   "source": [
    "<h2>Activation layer</h2>\n",
    "\n",
    "\n",
    "A softmax activation layers is also then applied to derive the probability of the output being in any of the multiclass(10000 in this case) possibilities. \n"
   ]
  },
  {
   "cell_type": "code",
   "execution_count": 33,
   "metadata": {
    "tags": []
   },
   "outputs": [],
   "source": [
    "activation = tf.keras.layers.Activation('softmax')"
   ]
  },
  {
   "cell_type": "code",
   "execution_count": 34,
   "metadata": {
    "tags": []
   },
   "outputs": [],
   "source": [
    "output_words_prob = activation(logits_outputs)"
   ]
  },
  {
   "cell_type": "code",
   "execution_count": 35,
   "metadata": {
    "tags": []
   },
   "outputs": [
    {
     "name": "stdout",
     "output_type": "stream",
     "text": [
      "shape of the output from the activation layer:  (30, 20, 10000)\n"
     ]
    }
   ],
   "source": [
    "print(\"shape of the output from the activation layer: \", output_words_prob.shape) #(batch_size, sequence_length, vocab_size)"
   ]
  },
  {
   "cell_type": "markdown",
   "metadata": {},
   "source": [
    "Lets look at the probability of observing words for t=0 to t=20:\n"
   ]
  },
  {
   "cell_type": "code",
   "execution_count": 36,
   "metadata": {
    "tags": []
   },
   "outputs": [
    {
     "name": "stdout",
     "output_type": "stream",
     "text": [
      "The probability of observing words in t=0 to t=20 tf.Tensor(\n",
      "[[9.99969780e-05 9.99957629e-05 9.99994954e-05 ... 1.00018864e-04\n",
      "  1.00000732e-04 1.00004232e-04]\n",
      " [1.00003417e-04 1.00000143e-04 9.99870826e-05 ... 9.99975746e-05\n",
      "  9.99793556e-05 9.99992189e-05]\n",
      " [9.99943950e-05 1.00032186e-04 9.99684271e-05 ... 1.00003184e-04\n",
      "  9.99688782e-05 9.99914992e-05]\n",
      " ...\n",
      " [1.00153586e-04 9.99808180e-05 9.99672702e-05 ... 1.00007295e-04\n",
      "  9.99801996e-05 9.99884433e-05]\n",
      " [1.00164041e-04 9.99969707e-05 9.99874756e-05 ... 9.99952754e-05\n",
      "  9.99811382e-05 1.00014731e-04]\n",
      " [1.00157573e-04 9.99977638e-05 9.99841432e-05 ... 9.99970580e-05\n",
      "  9.99973636e-05 1.00032397e-04]], shape=(20, 10000), dtype=float32)\n"
     ]
    }
   ],
   "source": [
    "print(\"The probability of observing words in t=0 to t=20\", output_words_prob[0,0:num_steps])"
   ]
  },
  {
   "cell_type": "markdown",
   "metadata": {},
   "source": [
    "<h3>Prediction</h3>\n",
    "What is the word correspond to the probability output? Lets use the maximum probability:\n"
   ]
  },
  {
   "cell_type": "code",
   "execution_count": 37,
   "metadata": {
    "tags": []
   },
   "outputs": [
    {
     "data": {
      "text/plain": [
       "array([9414, 4386, 4935, 1394, 1394, 1394, 8645, 8891, 6591, 6591, 7713,\n",
       "       7713, 7713, 1596, 8895, 5459, 6011, 6011, 6011, 6011])"
      ]
     },
     "execution_count": 37,
     "metadata": {},
     "output_type": "execute_result"
    }
   ],
   "source": [
    "np.argmax(output_words_prob[0,0:num_steps], axis=1)"
   ]
  },
  {
   "cell_type": "markdown",
   "metadata": {},
   "source": [
    "So, what is the ground truth for the first word of first sentence? You can get it from target tensor, if you want to find the embedding vector: \n"
   ]
  },
  {
   "cell_type": "code",
   "execution_count": 38,
   "metadata": {
    "tags": []
   },
   "outputs": [
    {
     "data": {
      "text/plain": [
       "array([9971, 9972, 9974, 9975, 9976, 9980, 9981, 9982, 9983, 9984, 9986,\n",
       "       9987, 9988, 9989, 9991, 9992, 9993, 9994, 9995, 9996], dtype=int32)"
      ]
     },
     "execution_count": 38,
     "metadata": {},
     "output_type": "execute_result"
    }
   ],
   "source": [
    "_targets[0]"
   ]
  },
  {
   "cell_type": "markdown",
   "metadata": {},
   "source": [
    "<h4>Objective function</h4>\n",
    "\n",
    "\n",
    "How similar the predicted words are to the target words?\n",
    "\n",
    "\n",
    "Now we have to define our objective function, to calculate the similarity of predicted values to ground truth, and then, penalize the model with the error. Our objective is to minimize loss function, that is, to minimize the average negative log probability of the target words:\n",
    "\n",
    "$$\\text{loss} = -\\frac{1}{N}\\sum_{i=1}^{N} \\ln p_{\\text{target}_i}$$\n",
    "\n",
    "This function is already implemented and available in TensorFlow through *tf.keras.losses.sparse_categorical_crossentropy*. It calculates the categorical cross-entropy loss for <b>logits</b> and the <b>target</b> sequence.  \n",
    "\n",
    "The arguments of this function are:  \n",
    "<ul>\n",
    "    <li>logits: List of 2D Tensors of shape [batch_size x num_decoder_symbols].</li>  \n",
    "    <li>targets: List of 1D batch-sized int32 Tensors of the same length as logits.</li>   \n",
    "</ul>\n"
   ]
  },
  {
   "cell_type": "code",
   "execution_count": 39,
   "metadata": {
    "tags": []
   },
   "outputs": [],
   "source": [
    "def crossentropy(y_true, y_pred):\n",
    "    return tf.keras.losses.sparse_categorical_crossentropy(y_true, y_pred)"
   ]
  },
  {
   "cell_type": "code",
   "execution_count": 40,
   "metadata": {
    "tags": []
   },
   "outputs": [],
   "source": [
    "loss  = crossentropy(_targets, output_words_prob)"
   ]
  },
  {
   "cell_type": "markdown",
   "metadata": {},
   "source": [
    "Lets look at the first 10 values of loss:\n"
   ]
  },
  {
   "cell_type": "code",
   "execution_count": 41,
   "metadata": {
    "tags": []
   },
   "outputs": [
    {
     "data": {
      "text/plain": [
       "<tf.Tensor: shape=(10,), dtype=float32, numpy=\n",
       "array([9.210411, 9.210206, 9.21016 , 9.210327, 9.210733, 9.20954 ,\n",
       "       9.210095, 9.209802, 9.211356, 9.210749], dtype=float32)>"
      ]
     },
     "execution_count": 41,
     "metadata": {},
     "output_type": "execute_result"
    }
   ],
   "source": [
    "loss[0,:10]"
   ]
  },
  {
   "cell_type": "markdown",
   "metadata": {},
   "source": [
    "Now, we define cost as average of the losses:\n"
   ]
  },
  {
   "cell_type": "code",
   "execution_count": 42,
   "metadata": {
    "tags": []
   },
   "outputs": [
    {
     "data": {
      "text/plain": [
       "<tf.Tensor: shape=(), dtype=float32, numpy=184.20644>"
      ]
     },
     "execution_count": 42,
     "metadata": {},
     "output_type": "execute_result"
    }
   ],
   "source": [
    "cost = tf.reduce_sum(loss / batch_size)\n",
    "cost"
   ]
  },
  {
   "cell_type": "markdown",
   "metadata": {},
   "source": [
    "<h3>Training</h3>\n",
    "\n",
    "To do training for our network, we have to take the following steps:\n",
    "<ol>\n",
    "    <li>Define the optimizer.</li>\n",
    "    <li>Assemble layers to build model.</li>\n",
    "    <li>Calculate the gradients based on the loss function.</li>\n",
    "    <li>Apply the optimizer to the variables/gradients tuple.</li>\n",
    "</ol>\n"
   ]
  },
  {
   "cell_type": "markdown",
   "metadata": {},
   "source": [
    "<h4>1. Define Optimizer</h4>\n",
    "\n"
   ]
  },
  {
   "cell_type": "code",
   "execution_count": 43,
   "metadata": {
    "tags": []
   },
   "outputs": [
    {
     "name": "stderr",
     "output_type": "stream",
     "text": [
      "/home/jupyterlab/conda/envs/python/lib/python3.7/site-packages/keras/optimizers/optimizer_v2/gradient_descent.py:108: UserWarning: The `lr` argument is deprecated, use `learning_rate` instead.\n",
      "  super(SGD, self).__init__(name, **kwargs)\n"
     ]
    }
   ],
   "source": [
    "# Create a variable for the learning rate\n",
    "lr = tf.Variable(0.0, trainable=False)\n",
    "optimizer = tf.keras.optimizers.SGD(lr=lr, clipnorm=max_grad_norm)"
   ]
  },
  {
   "cell_type": "markdown",
   "metadata": {},
   "source": [
    "<h4>2. Assemble layers to build model.</h4>\n"
   ]
  },
  {
   "cell_type": "code",
   "execution_count": 44,
   "metadata": {
    "tags": []
   },
   "outputs": [
    {
     "name": "stdout",
     "output_type": "stream",
     "text": [
      "Model: \"sequential\"\n",
      "_________________________________________________________________\n",
      " Layer (type)                Output Shape              Param #   \n",
      "=================================================================\n",
      " embedding_vocab (Embedding)  (30, 20, 200)            2000000   \n",
      "                                                                 \n",
      " rnn (RNN)                   (30, 20, 128)             671088    \n",
      "                                                                 \n",
      " dense (Dense)               (30, 20, 10000)           1290000   \n",
      "                                                                 \n",
      " activation (Activation)     (30, 20, 10000)           0         \n",
      "                                                                 \n",
      "=================================================================\n",
      "Total params: 3,961,088\n",
      "Trainable params: 3,955,088\n",
      "Non-trainable params: 6,000\n",
      "_________________________________________________________________\n"
     ]
    }
   ],
   "source": [
    "model = tf.keras.Sequential()\n",
    "model.add(embedding_layer)\n",
    "model.add(layer)\n",
    "model.add(dense)\n",
    "model.add(activation)\n",
    "model.compile(loss=crossentropy, optimizer=optimizer)\n",
    "model.summary()"
   ]
  },
  {
   "cell_type": "markdown",
   "metadata": {},
   "source": [
    "\n",
    "<h4>2. Trainable Variables</h4>\n"
   ]
  },
  {
   "cell_type": "markdown",
   "metadata": {},
   "source": [
    "Defining a variable, if you passed <i>trainable=True</i>, the variable constructor automatically adds new variables to the graph collection <b>GraphKeys.TRAINABLE_VARIABLES</b>. Now, using <i>tf.trainable_variables()</i> you can get all variables created with <b>trainable=True</b>.\n"
   ]
  },
  {
   "cell_type": "code",
   "execution_count": 45,
   "metadata": {
    "tags": []
   },
   "outputs": [],
   "source": [
    "# Get all TensorFlow variables marked as \"trainable\" (i.e. all of them except _lr, which we just created)\n",
    "tvars = model.trainable_variables"
   ]
  },
  {
   "cell_type": "markdown",
   "metadata": {},
   "source": [
    "Note: we can find the name and scope of all variables:\n"
   ]
  },
  {
   "cell_type": "code",
   "execution_count": 46,
   "metadata": {
    "tags": []
   },
   "outputs": [
    {
     "data": {
      "text/plain": [
       "['embedding_vocab/embeddings:0',\n",
       " 'rnn/stacked_rnn_cells/lstm_cell/kernel:0',\n",
       " 'rnn/stacked_rnn_cells/lstm_cell/recurrent_kernel:0',\n",
       " 'rnn/stacked_rnn_cells/lstm_cell/bias:0',\n",
       " 'rnn/stacked_rnn_cells/lstm_cell_1/kernel:0',\n",
       " 'rnn/stacked_rnn_cells/lstm_cell_1/recurrent_kernel:0',\n",
       " 'rnn/stacked_rnn_cells/lstm_cell_1/bias:0',\n",
       " 'dense/kernel:0',\n",
       " 'dense/bias:0']"
      ]
     },
     "execution_count": 46,
     "metadata": {},
     "output_type": "execute_result"
    }
   ],
   "source": [
    "[v.name for v in tvars] "
   ]
  },
  {
   "cell_type": "markdown",
   "metadata": {},
   "source": [
    "<h4>3. Calculate the gradients based on the loss function</h4>\n"
   ]
  },
  {
   "cell_type": "markdown",
   "metadata": {},
   "source": [
    "**Gradient**: The gradient of a function is the slope of its derivative (line), or in other words, the rate of change of a function. It's a vector (a direction to move) that points in the direction of greatest increase of the function, and calculated by the <b>derivative</b> operation.\n"
   ]
  },
  {
   "cell_type": "markdown",
   "metadata": {},
   "source": [
    "First lets recall the gradient function using an toy example:\n",
    "$$ z = \\left(2x^2 + 3xy\\right)$$\n"
   ]
  },
  {
   "cell_type": "code",
   "execution_count": 47,
   "metadata": {
    "tags": []
   },
   "outputs": [],
   "source": [
    "x = tf.constant(1.0)\n",
    "y =  tf.constant(2.0)\n",
    "with tf.GradientTape(persistent=True) as g:\n",
    "    g.watch(x)\n",
    "    g.watch(y)\n",
    "    func_test = 2 * x * x + 3 * x * y"
   ]
  },
  {
   "cell_type": "markdown",
   "metadata": {},
   "source": [
    "The <b>tf.gradients()</b> function allows you to compute the symbolic gradient of one tensor with respect to one or more other tensors—including variables. <b>tf.gradients(func, xs)</b> constructs symbolic partial derivatives of sum of <b>func</b> w.r.t. <i>x</i> in <b>xs</b>. \n",
    "\n",
    "Now, lets look at the derivitive w.r.t. <b>var_x</b>:\n",
    "$$ \\frac{\\partial \\:}{\\partial \\:x}\\left(2x^2 + 3xy\\right) = 4x + 3y $$\n"
   ]
  },
  {
   "cell_type": "code",
   "execution_count": 48,
   "metadata": {
    "tags": []
   },
   "outputs": [
    {
     "name": "stdout",
     "output_type": "stream",
     "text": [
      "tf.Tensor(10.0, shape=(), dtype=float32)\n"
     ]
    }
   ],
   "source": [
    "var_grad = g.gradient(func_test, x) # Will compute to 10.0\n",
    "print(var_grad)"
   ]
  },
  {
   "cell_type": "markdown",
   "metadata": {},
   "source": [
    "the derivative w.r.t. <b>var_y</b>:\n",
    "$$ \\frac{\\partial \\:}{\\partial \\:y}\\left(2x^2 + 3xy\\right) = 3x $$\n"
   ]
  },
  {
   "cell_type": "code",
   "execution_count": 49,
   "metadata": {
    "tags": []
   },
   "outputs": [
    {
     "name": "stdout",
     "output_type": "stream",
     "text": [
      "tf.Tensor(3.0, shape=(), dtype=float32)\n"
     ]
    }
   ],
   "source": [
    "var_grad = g.gradient(func_test, y) # Will compute to 3.0\n",
    "print(var_grad)"
   ]
  },
  {
   "cell_type": "markdown",
   "metadata": {},
   "source": [
    "Now, we can look at gradients w.r.t all variables:\n"
   ]
  },
  {
   "cell_type": "code",
   "execution_count": 50,
   "metadata": {
    "tags": []
   },
   "outputs": [],
   "source": [
    "with tf.GradientTape() as tape:\n",
    "    # Forward pass.\n",
    "    output_words_prob = model(_input_data)\n",
    "    # Loss value for this batch.\n",
    "    loss  = crossentropy(_targets, output_words_prob)\n",
    "    cost = tf.reduce_sum(loss,axis=0) / batch_size"
   ]
  },
  {
   "cell_type": "code",
   "execution_count": 51,
   "metadata": {
    "tags": []
   },
   "outputs": [],
   "source": [
    "# Get gradients of loss wrt the trainable variables.\n",
    "grad_t_list = tape.gradient(cost, tvars)"
   ]
  },
  {
   "cell_type": "code",
   "execution_count": 52,
   "metadata": {
    "tags": []
   },
   "outputs": [
    {
     "name": "stdout",
     "output_type": "stream",
     "text": [
      "[<tensorflow.python.framework.indexed_slices.IndexedSlices object at 0x7f6874c84f10>, <tf.Tensor: shape=(200, 1024), dtype=float32, numpy=\n",
      "array([[-3.46351896e-07,  5.93817958e-07,  2.28375484e-07, ...,\n",
      "        -4.83948384e-07, -6.08199798e-07,  2.73791244e-07],\n",
      "       [-1.74882942e-07,  1.18596063e-07,  1.28468014e-06, ...,\n",
      "        -7.76276039e-08,  2.00090028e-07, -2.41520013e-07],\n",
      "       [ 4.52713692e-07, -1.52973968e-07,  3.12833151e-07, ...,\n",
      "         7.00743925e-08,  3.18429073e-07, -1.76791374e-07],\n",
      "       ...,\n",
      "       [ 6.62803870e-07,  4.07692937e-07, -1.54519455e-07, ...,\n",
      "         9.90726789e-08,  6.07843674e-07,  4.13385237e-07],\n",
      "       [-1.28762304e-06, -5.49944048e-07,  7.60904868e-08, ...,\n",
      "        -2.91034496e-07, -2.15427519e-07,  4.09012912e-08],\n",
      "       [-2.95217895e-08,  2.96069061e-07, -2.54613610e-08, ...,\n",
      "        -1.14902605e-07,  9.82525208e-08,  3.10342614e-07]], dtype=float32)>, <tf.Tensor: shape=(256, 1024), dtype=float32, numpy=\n",
      "array([[-8.9257824e-08,  2.9505941e-08,  1.8098368e-07, ...,\n",
      "        -1.1931166e-07,  5.3397753e-07,  7.6090203e-08],\n",
      "       [-2.4550593e-07, -2.1137110e-07, -3.6518056e-08, ...,\n",
      "        -1.2028899e-07, -2.9894869e-07, -2.2632192e-07],\n",
      "       [ 1.2366669e-07, -1.6137557e-07,  1.0894682e-07, ...,\n",
      "         1.1573674e-07, -8.8987719e-08,  5.3528712e-08],\n",
      "       ...,\n",
      "       [ 5.3026096e-08,  4.7035179e-08,  1.1580052e-07, ...,\n",
      "        -1.6693768e-07, -3.8313694e-08, -1.4219205e-07],\n",
      "       [ 1.5050747e-07, -9.6445767e-09,  2.0225791e-08, ...,\n",
      "         1.8668786e-08,  3.5582701e-07, -1.4695487e-07],\n",
      "       [-9.7550391e-08, -3.0420597e-07,  8.7211518e-08, ...,\n",
      "         6.5859993e-08,  5.0080654e-08,  1.7949679e-07]], dtype=float32)>, <tf.Tensor: shape=(1024,), dtype=float32, numpy=\n",
      "array([-3.6408164e-05, -1.0349025e-05, -6.9238758e-06, ...,\n",
      "       -1.6804590e-05, -1.6442124e-05, -1.7693132e-05], dtype=float32)>, <tf.Tensor: shape=(256, 512), dtype=float32, numpy=\n",
      "array([[ 3.8040878e-07,  3.5996112e-07,  8.7959585e-08, ...,\n",
      "        -4.4289280e-07,  2.0645672e-07,  2.5092282e-07],\n",
      "       [-2.1771820e-07, -2.2292713e-07,  7.6529915e-08, ...,\n",
      "         2.7435658e-07,  3.6574352e-07, -8.7534119e-07],\n",
      "       [-1.3219848e-07,  1.8911332e-07, -1.1061967e-07, ...,\n",
      "        -2.5216906e-07, -9.3656052e-09,  1.8480719e-07],\n",
      "       ...,\n",
      "       [-2.7915524e-07, -1.5727905e-07, -5.5386387e-08, ...,\n",
      "         5.3671798e-08,  1.7110915e-07, -1.8176745e-07],\n",
      "       [ 2.0331551e-07,  3.3727960e-07, -1.8728254e-07, ...,\n",
      "        -2.3388095e-07, -1.4765261e-07,  4.1597605e-07],\n",
      "       [ 2.5659244e-07,  2.7527852e-07, -2.1088105e-08, ...,\n",
      "        -4.8530319e-07, -9.3838864e-08,  2.3586863e-07]], dtype=float32)>, <tf.Tensor: shape=(128, 512), dtype=float32, numpy=\n",
      "array([[-6.11273833e-07, -1.14161715e-07,  1.27172033e-08, ...,\n",
      "         9.87747342e-08,  1.89323188e-08, -2.29051636e-07],\n",
      "       [-2.43300917e-07, -1.83568218e-07,  9.75528849e-08, ...,\n",
      "         1.55844816e-07,  3.54705136e-08, -1.49767303e-07],\n",
      "       [-5.20851735e-08, -1.60362077e-07,  2.34990154e-07, ...,\n",
      "         9.72952634e-08,  7.79935903e-08,  3.66355835e-10],\n",
      "       ...,\n",
      "       [-2.37650923e-07, -7.27162828e-08,  1.86551148e-08, ...,\n",
      "         3.73446881e-07,  2.09103153e-08, -2.89723729e-08],\n",
      "       [ 2.44489144e-07,  7.11597465e-08,  1.01888782e-08, ...,\n",
      "         2.97574179e-08,  2.72565813e-07, -7.01219633e-08],\n",
      "       [-7.72393705e-08, -2.15293255e-07,  8.45546708e-08, ...,\n",
      "         1.61799363e-07,  1.13530461e-07, -3.14659474e-07]], dtype=float32)>, <tf.Tensor: shape=(512,), dtype=float32, numpy=\n",
      "array([-3.81243444e-05, -4.86496501e-05,  2.50820376e-05,  2.34132913e-05,\n",
      "       -5.48398566e-05, -1.19838314e-05, -2.62480644e-05, -3.06541406e-05,\n",
      "        2.68512886e-05, -4.25304825e-06, -4.70690111e-06,  9.88419379e-06,\n",
      "       -1.15668818e-05, -1.03118027e-05,  2.48433316e-05, -2.09950304e-05,\n",
      "       -9.78205662e-06,  3.54448093e-05, -2.61906243e-05, -5.00939423e-05,\n",
      "        9.56672520e-05,  1.25596980e-05,  2.61592722e-05,  4.70289633e-05,\n",
      "       -2.49089208e-05, -5.10751761e-07, -1.56359147e-06, -5.97213439e-05,\n",
      "       -1.17273812e-04, -8.73458703e-06, -6.63847604e-05, -9.50616322e-06,\n",
      "        5.74859496e-06,  2.46812124e-05, -6.74684497e-06, -2.97713414e-05,\n",
      "       -4.86421459e-06,  9.33992123e-06, -2.60971628e-05, -1.42028312e-05,\n",
      "       -4.73983164e-05, -1.18876796e-05,  2.19438170e-05, -2.21555511e-05,\n",
      "        1.15865787e-05,  8.42138252e-05, -1.47618794e-05,  9.95450682e-06,\n",
      "        6.15614044e-06, -4.46447411e-05, -3.45061198e-05, -2.05335309e-05,\n",
      "        1.92170264e-05,  1.99934402e-05, -2.86257819e-05,  5.37579763e-05,\n",
      "       -2.24547830e-06,  1.09075672e-05,  1.42691570e-05, -8.00395992e-06,\n",
      "       -4.39801661e-05,  1.58259445e-05,  5.05777643e-06,  1.58089388e-05,\n",
      "        7.42174307e-05, -1.91110466e-05, -1.55222551e-05, -4.80495728e-05,\n",
      "       -4.21999648e-05,  1.91894160e-05, -2.51734255e-05, -1.43856778e-05,\n",
      "        3.21858279e-05, -1.84397395e-05,  3.35668446e-05, -1.76117628e-05,\n",
      "       -3.80630263e-05,  1.54738373e-05, -1.08198792e-05, -8.25617462e-06,\n",
      "        6.13076118e-05,  1.13180840e-05, -2.86095246e-06,  2.69172670e-05,\n",
      "       -1.86678408e-05, -1.25655288e-05, -3.40063489e-05,  1.76828489e-05,\n",
      "       -9.73567221e-05,  5.54717044e-05, -2.47789758e-05, -1.13323094e-05,\n",
      "        9.18182286e-06, -7.68052269e-06,  5.45368312e-06, -4.33661480e-05,\n",
      "        1.08277236e-05,  8.60163345e-05, -4.37874260e-05, -2.01216426e-06,\n",
      "        1.63444929e-05, -3.73664734e-05,  3.66738168e-05,  7.16978320e-07,\n",
      "       -6.69594374e-05,  1.57196591e-05,  4.16922603e-06, -3.74238807e-05,\n",
      "       -1.38171754e-05,  2.61369751e-05, -4.03930972e-05,  8.08881214e-06,\n",
      "       -6.59590523e-06, -6.39000427e-06,  2.52776022e-06,  2.49169261e-06,\n",
      "        2.64932569e-05,  2.06468940e-06, -9.68165477e-06,  6.17860205e-05,\n",
      "       -3.25307919e-05,  3.23305940e-05,  3.56745586e-05, -3.22008464e-06,\n",
      "       -4.18398195e-05,  4.09301501e-05,  1.12976140e-05, -3.64314037e-05,\n",
      "       -3.29999311e-05, -6.18531267e-05,  5.81377972e-05,  1.54628651e-05,\n",
      "       -6.26264955e-05, -2.72282086e-05, -5.53598657e-05, -7.55770725e-06,\n",
      "        6.51986484e-05, -1.49826183e-05, -8.69738687e-06,  1.14031272e-05,\n",
      "        2.77878098e-06, -7.67088204e-06,  4.52959284e-05, -1.61226108e-05,\n",
      "       -2.35522639e-05,  4.15971881e-05, -4.28628773e-05, -8.41661749e-05,\n",
      "        1.17101605e-04,  8.13872884e-06,  3.45530407e-06,  6.14092714e-05,\n",
      "       -3.96706528e-05,  3.37239908e-05, -5.31715250e-06, -5.17375156e-05,\n",
      "       -1.70516607e-04, -1.52733846e-05, -8.63089153e-05, -6.43994917e-06,\n",
      "        1.91748641e-05,  2.53047165e-05,  9.57027078e-06, -3.37676356e-05,\n",
      "        1.98477428e-05,  1.66540813e-05, -1.25107408e-06, -3.50244118e-05,\n",
      "       -9.63203784e-05,  9.88886495e-06,  3.33962234e-05, -4.15552640e-05,\n",
      "        4.34147260e-05,  1.30913802e-04, -1.57177565e-05,  2.70974524e-05,\n",
      "       -1.23493519e-05, -3.81652280e-05, -2.06525674e-05, -2.44753192e-05,\n",
      "        3.06104848e-05,  5.34236133e-05, -8.37509724e-05,  5.02915063e-05,\n",
      "        6.40796043e-06,  3.16063233e-05,  1.85040044e-05, -2.19269641e-05,\n",
      "       -3.69820264e-05, -6.47082925e-06, -1.29426808e-05,  3.65262495e-05,\n",
      "        9.41696635e-05, -2.97642691e-05, -1.33350768e-05, -9.02918473e-05,\n",
      "       -7.96689346e-05,  1.51621607e-05, -2.99887124e-05, -4.65340745e-05,\n",
      "        2.90536100e-05, -1.14160994e-05,  5.30415891e-05, -4.04345592e-05,\n",
      "       -8.73204190e-05,  1.75702553e-06, -7.56708641e-06,  1.89320599e-06,\n",
      "        6.77635398e-05,  1.86951384e-05, -6.26596739e-06,  6.35354809e-05,\n",
      "       -2.48299784e-06,  2.70936653e-06, -5.47463715e-05, -1.51689801e-06,\n",
      "       -1.18127602e-04,  6.70581576e-05, -2.13552739e-05,  3.45386434e-06,\n",
      "        9.74625891e-06,  4.26885163e-06, -5.98070437e-06, -3.76395110e-05,\n",
      "        3.73421790e-05,  1.07647727e-04, -5.25936848e-05,  1.34184065e-05,\n",
      "        2.76281826e-05, -2.36605592e-05,  6.24001186e-05, -1.03216007e-06,\n",
      "       -8.20036585e-05,  5.84122859e-07, -1.66992322e-05, -3.62079372e-05,\n",
      "       -2.23569059e-05,  5.47613818e-05, -6.34864555e-05,  3.28875067e-05,\n",
      "       -1.33152535e-05, -2.11889637e-05,  1.87573805e-05,  6.11365067e-06,\n",
      "        5.08513112e-05,  3.12690390e-05, -2.49531877e-06,  8.28799893e-05,\n",
      "       -4.37046401e-06,  4.05533283e-05,  8.96262718e-05,  1.62213491e-05,\n",
      "       -4.89874437e-05,  2.28292502e-05,  8.20714558e-06, -2.44262446e-05,\n",
      "       -5.70510142e-02, -6.75939489e-04,  3.88629809e-02, -2.15275958e-02,\n",
      "       -2.47256868e-02, -9.34824347e-04, -4.43031564e-02,  2.04973351e-02,\n",
      "        1.14684841e-02,  4.18396201e-03,  4.64190450e-03, -5.71074290e-03,\n",
      "       -5.22300825e-02,  5.77138998e-02, -4.26653773e-04, -8.31897184e-03,\n",
      "        4.93617319e-02, -2.39382330e-02, -2.14889720e-02, -6.36755256e-04,\n",
      "        3.86296734e-02,  9.08383727e-03,  2.18173470e-02, -1.86399408e-02,\n",
      "       -2.00241059e-02, -1.86242163e-04,  1.10840267e-02, -8.93758959e-04,\n",
      "        5.44711538e-02, -1.99339725e-02,  3.07417586e-02,  2.13412512e-02,\n",
      "       -1.29891392e-02,  3.70354354e-02, -1.52457859e-02,  8.27348046e-03,\n",
      "        3.60585414e-02,  3.85725051e-02, -2.33708192e-02,  2.11828016e-02,\n",
      "       -4.02003005e-02, -1.55395828e-03, -1.29426029e-02, -5.05955666e-02,\n",
      "       -1.39103783e-02,  5.48471287e-02, -2.16268320e-02,  3.11300741e-03,\n",
      "       -3.84073853e-02,  1.08202593e-02, -3.72427329e-02,  2.73746438e-02,\n",
      "        1.61685087e-02,  5.42895077e-03, -2.83914246e-02, -8.85738246e-03,\n",
      "        6.45921705e-03, -1.62887499e-02, -2.42536655e-03, -7.16830976e-03,\n",
      "        5.12183160e-02,  4.17890493e-03,  1.63384480e-03, -5.74648730e-04,\n",
      "       -5.60833737e-02, -1.91463158e-03,  2.44714366e-03, -6.98893666e-02,\n",
      "        4.39498946e-02, -3.13492417e-02, -4.06750152e-03,  3.80826294e-02,\n",
      "        1.90634951e-02, -8.13375600e-03,  5.51441684e-03,  6.32406119e-03,\n",
      "       -6.18052632e-02,  2.75641829e-02,  3.23360153e-02, -1.56437885e-03,\n",
      "        1.04122898e-02, -1.13006430e-02,  7.33814621e-03,  3.57903689e-02,\n",
      "        1.52868181e-02,  2.08435729e-02,  2.24804915e-02,  1.14025855e-02,\n",
      "       -2.73934193e-02,  5.70260733e-03,  4.62661916e-03,  7.38659641e-03,\n",
      "       -2.93610967e-04,  2.55630799e-02,  4.57301736e-03,  2.41669249e-02,\n",
      "        4.12003743e-03, -4.38179001e-02, -4.11047451e-02, -8.43732525e-03,\n",
      "        1.42262150e-02,  8.16676617e-02, -2.83852294e-02,  2.75232666e-03,\n",
      "       -2.44681500e-02,  1.02686863e-02, -1.80099010e-02, -4.10294235e-02,\n",
      "        5.94491977e-03, -1.13399047e-02, -2.76014488e-02, -4.04849229e-03,\n",
      "       -2.82256380e-02,  2.91278269e-02,  2.66405344e-02,  4.10419889e-03,\n",
      "        2.49587204e-02, -5.12997657e-02, -2.54897438e-02, -1.77057497e-02,\n",
      "       -1.36265187e-02, -2.61013322e-02,  4.83381264e-02, -3.43532115e-02,\n",
      "        4.06678580e-02,  4.06984612e-02,  4.01077121e-02, -6.26703631e-03,\n",
      "       -4.81713214e-05, -4.97045330e-05,  3.98238990e-05,  3.63389554e-05,\n",
      "       -5.12553997e-05, -6.60189971e-06, -3.43172032e-05, -2.69628763e-05,\n",
      "        2.08982929e-05, -7.93915387e-06, -3.85942531e-06,  1.49743446e-05,\n",
      "       -3.03437764e-06, -7.49024730e-06,  3.00304710e-05, -2.84236194e-05,\n",
      "       -7.96021050e-06,  3.08847157e-05, -3.93353948e-05, -6.15110112e-05,\n",
      "        1.03405429e-04,  1.07943652e-05,  2.14052816e-05,  5.12432671e-05,\n",
      "       -2.92761488e-05, -8.00954967e-06,  4.90588627e-06, -5.85085763e-05,\n",
      "       -1.39287789e-04, -3.09021380e-06, -7.44502104e-05, -8.04200135e-06,\n",
      "        5.70467182e-06,  2.36322267e-05, -1.29364862e-05, -3.46061970e-05,\n",
      "        9.59487716e-06,  1.58958137e-05, -2.76815517e-05, -1.56849055e-05,\n",
      "       -6.43143940e-05, -8.62610341e-06,  2.59933913e-05, -3.43013307e-05,\n",
      "        1.75321566e-05,  9.83412465e-05, -1.24515436e-05,  7.75338958e-06,\n",
      "        3.52136158e-06, -5.63953145e-05, -3.92119910e-05, -1.53291039e-05,\n",
      "        3.10813266e-05,  2.46183372e-05, -2.84283306e-05,  5.48827666e-05,\n",
      "       -2.51181382e-06,  1.76646190e-05,  2.51488109e-05, -7.30948977e-06,\n",
      "       -3.89473571e-05,  1.16086521e-05,  1.12382349e-06,  2.00237810e-05,\n",
      "        7.78826798e-05, -2.45174779e-05, -1.93636170e-05, -6.54539908e-05,\n",
      "       -4.67414284e-05,  1.64782014e-05, -3.08662929e-05, -2.61822352e-05,\n",
      "        3.95725910e-05, -1.50128672e-05,  3.59284240e-05, -2.83545305e-05,\n",
      "       -4.75605739e-05,  1.59463525e-07, -1.88010745e-05, -1.12172256e-05,\n",
      "        6.40597500e-05,  6.70086047e-06,  3.22914912e-06,  3.69147092e-05,\n",
      "       -1.93839296e-05, -1.17692362e-05, -3.16649057e-05,  1.80831958e-05,\n",
      "       -1.03964710e-04,  5.86834503e-05, -2.97603947e-05, -1.31148099e-05,\n",
      "        1.28627598e-05, -1.03135480e-05,  6.11016731e-08, -4.35581460e-05,\n",
      "        2.59163535e-05,  9.92723726e-05, -4.99202542e-05, -6.85571376e-06,\n",
      "        2.60504858e-05, -3.61646998e-05,  4.50219522e-05, -4.44204125e-06,\n",
      "       -6.70505833e-05,  1.37793586e-05,  5.51533140e-06, -3.30201729e-05,\n",
      "       -2.08405963e-05,  2.99382609e-05, -4.24658647e-05,  9.74293562e-06,\n",
      "       -6.38291931e-06, -8.32384467e-06, -1.72120281e-06,  2.13591920e-06,\n",
      "        3.32217642e-05,  1.24926055e-05, -1.19797987e-05,  7.10991662e-05,\n",
      "       -3.05185094e-05,  4.28865387e-05,  4.78175461e-05, -1.63649929e-06,\n",
      "       -4.44906509e-05,  5.00738824e-05,  1.09107859e-05, -3.88110057e-05],\n",
      "      dtype=float32)>, <tf.Tensor: shape=(128, 10000), dtype=float32, numpy=\n",
      "array([[-2.6598159e-04, -1.8753470e-03, -2.2562880e-04, ...,\n",
      "        -3.2871390e-07, -3.2909634e-07, -3.2740479e-07],\n",
      "       [-1.1009278e-03, -3.3609504e-03, -1.1165949e-03, ...,\n",
      "         2.4460171e-06,  2.4445665e-06,  2.4442172e-06],\n",
      "       [-1.2891677e-03, -1.1241550e-03, -1.8525058e-03, ...,\n",
      "         3.9805650e-06,  3.9823244e-06,  3.9833844e-06],\n",
      "       ...,\n",
      "       [-5.9068907e-04, -1.0362465e-03, -1.6250320e-04, ...,\n",
      "         5.4793406e-07,  5.4743703e-07,  5.4773506e-07],\n",
      "       [-1.0604761e-03, -8.9236535e-04, -1.5797764e-03, ...,\n",
      "         2.6348337e-06,  2.6392945e-06,  2.6377554e-06],\n",
      "       [-3.8047056e-03, -4.8731086e-03, -4.2749224e-03, ...,\n",
      "         6.4046330e-06,  6.4122942e-06,  6.4104088e-06]], dtype=float32)>, <tf.Tensor: shape=(10000,), dtype=float32, numpy=\n",
      "array([-0.7979981 , -1.0313314 , -1.0313317 , ...,  0.00199901,\n",
      "        0.00200028,  0.00200016], dtype=float32)>]\n"
     ]
    }
   ],
   "source": [
    "print(grad_t_list)"
   ]
  },
  {
   "cell_type": "markdown",
   "metadata": {},
   "source": [
    "\n",
    "\n",
    "\n",
    "now, we have a list of tensors, t-list. We can use it to find clipped tensors. <b>clip_by_global_norm</b> clips values of multiple tensors by the ratio of the sum of their norms.\n",
    "\n",
    "<b>clip_by_global_norm</b> get <i>t-list</i> as input and returns 2 things:\n",
    "<ul>\n",
    "    <li>a list of clipped tensors, so called <i>list_clipped</i></li> \n",
    "    <li>the global norm (global_norm) of all tensors in t_list</li> \n",
    "</ul>\n"
   ]
  },
  {
   "cell_type": "code",
   "execution_count": 53,
   "metadata": {
    "tags": []
   },
   "outputs": [
    {
     "data": {
      "text/plain": [
       "[<tensorflow.python.framework.indexed_slices.IndexedSlices at 0x7f6874c9ab10>,\n",
       " <tf.Tensor: shape=(200, 1024), dtype=float32, numpy=\n",
       " array([[-3.46351896e-07,  5.93817958e-07,  2.28375484e-07, ...,\n",
       "         -4.83948384e-07, -6.08199798e-07,  2.73791244e-07],\n",
       "        [-1.74882942e-07,  1.18596063e-07,  1.28468014e-06, ...,\n",
       "         -7.76276039e-08,  2.00090028e-07, -2.41520013e-07],\n",
       "        [ 4.52713692e-07, -1.52973968e-07,  3.12833151e-07, ...,\n",
       "          7.00743925e-08,  3.18429073e-07, -1.76791374e-07],\n",
       "        ...,\n",
       "        [ 6.62803870e-07,  4.07692937e-07, -1.54519455e-07, ...,\n",
       "          9.90726789e-08,  6.07843674e-07,  4.13385237e-07],\n",
       "        [-1.28762304e-06, -5.49944048e-07,  7.60904868e-08, ...,\n",
       "         -2.91034496e-07, -2.15427519e-07,  4.09012912e-08],\n",
       "        [-2.95217895e-08,  2.96069061e-07, -2.54613610e-08, ...,\n",
       "         -1.14902605e-07,  9.82525208e-08,  3.10342614e-07]], dtype=float32)>,\n",
       " <tf.Tensor: shape=(256, 1024), dtype=float32, numpy=\n",
       " array([[-8.9257824e-08,  2.9505941e-08,  1.8098368e-07, ...,\n",
       "         -1.1931166e-07,  5.3397753e-07,  7.6090203e-08],\n",
       "        [-2.4550593e-07, -2.1137110e-07, -3.6518056e-08, ...,\n",
       "         -1.2028899e-07, -2.9894869e-07, -2.2632192e-07],\n",
       "        [ 1.2366669e-07, -1.6137557e-07,  1.0894682e-07, ...,\n",
       "          1.1573674e-07, -8.8987719e-08,  5.3528712e-08],\n",
       "        ...,\n",
       "        [ 5.3026096e-08,  4.7035179e-08,  1.1580052e-07, ...,\n",
       "         -1.6693768e-07, -3.8313694e-08, -1.4219205e-07],\n",
       "        [ 1.5050747e-07, -9.6445767e-09,  2.0225791e-08, ...,\n",
       "          1.8668786e-08,  3.5582701e-07, -1.4695487e-07],\n",
       "        [-9.7550391e-08, -3.0420597e-07,  8.7211518e-08, ...,\n",
       "          6.5859993e-08,  5.0080654e-08,  1.7949679e-07]], dtype=float32)>,\n",
       " <tf.Tensor: shape=(1024,), dtype=float32, numpy=\n",
       " array([-3.6408164e-05, -1.0349025e-05, -6.9238758e-06, ...,\n",
       "        -1.6804590e-05, -1.6442124e-05, -1.7693132e-05], dtype=float32)>,\n",
       " <tf.Tensor: shape=(256, 512), dtype=float32, numpy=\n",
       " array([[ 3.8040878e-07,  3.5996112e-07,  8.7959585e-08, ...,\n",
       "         -4.4289280e-07,  2.0645672e-07,  2.5092282e-07],\n",
       "        [-2.1771820e-07, -2.2292713e-07,  7.6529915e-08, ...,\n",
       "          2.7435658e-07,  3.6574352e-07, -8.7534119e-07],\n",
       "        [-1.3219848e-07,  1.8911332e-07, -1.1061967e-07, ...,\n",
       "         -2.5216906e-07, -9.3656052e-09,  1.8480719e-07],\n",
       "        ...,\n",
       "        [-2.7915524e-07, -1.5727905e-07, -5.5386387e-08, ...,\n",
       "          5.3671798e-08,  1.7110915e-07, -1.8176745e-07],\n",
       "        [ 2.0331551e-07,  3.3727960e-07, -1.8728254e-07, ...,\n",
       "         -2.3388095e-07, -1.4765261e-07,  4.1597605e-07],\n",
       "        [ 2.5659244e-07,  2.7527852e-07, -2.1088105e-08, ...,\n",
       "         -4.8530319e-07, -9.3838864e-08,  2.3586863e-07]], dtype=float32)>,\n",
       " <tf.Tensor: shape=(128, 512), dtype=float32, numpy=\n",
       " array([[-6.11273833e-07, -1.14161715e-07,  1.27172033e-08, ...,\n",
       "          9.87747342e-08,  1.89323188e-08, -2.29051636e-07],\n",
       "        [-2.43300917e-07, -1.83568218e-07,  9.75528849e-08, ...,\n",
       "          1.55844816e-07,  3.54705136e-08, -1.49767303e-07],\n",
       "        [-5.20851735e-08, -1.60362077e-07,  2.34990154e-07, ...,\n",
       "          9.72952634e-08,  7.79935903e-08,  3.66355835e-10],\n",
       "        ...,\n",
       "        [-2.37650923e-07, -7.27162828e-08,  1.86551148e-08, ...,\n",
       "          3.73446881e-07,  2.09103153e-08, -2.89723729e-08],\n",
       "        [ 2.44489144e-07,  7.11597465e-08,  1.01888782e-08, ...,\n",
       "          2.97574179e-08,  2.72565813e-07, -7.01219633e-08],\n",
       "        [-7.72393705e-08, -2.15293255e-07,  8.45546708e-08, ...,\n",
       "          1.61799363e-07,  1.13530461e-07, -3.14659474e-07]], dtype=float32)>,\n",
       " <tf.Tensor: shape=(512,), dtype=float32, numpy=\n",
       " array([-3.81243444e-05, -4.86496501e-05,  2.50820376e-05,  2.34132913e-05,\n",
       "        -5.48398566e-05, -1.19838314e-05, -2.62480644e-05, -3.06541406e-05,\n",
       "         2.68512886e-05, -4.25304825e-06, -4.70690111e-06,  9.88419379e-06,\n",
       "        -1.15668818e-05, -1.03118027e-05,  2.48433316e-05, -2.09950304e-05,\n",
       "        -9.78205662e-06,  3.54448093e-05, -2.61906243e-05, -5.00939423e-05,\n",
       "         9.56672520e-05,  1.25596980e-05,  2.61592722e-05,  4.70289633e-05,\n",
       "        -2.49089208e-05, -5.10751761e-07, -1.56359147e-06, -5.97213439e-05,\n",
       "        -1.17273812e-04, -8.73458703e-06, -6.63847604e-05, -9.50616322e-06,\n",
       "         5.74859496e-06,  2.46812124e-05, -6.74684497e-06, -2.97713414e-05,\n",
       "        -4.86421459e-06,  9.33992123e-06, -2.60971628e-05, -1.42028312e-05,\n",
       "        -4.73983164e-05, -1.18876796e-05,  2.19438170e-05, -2.21555511e-05,\n",
       "         1.15865787e-05,  8.42138252e-05, -1.47618794e-05,  9.95450682e-06,\n",
       "         6.15614044e-06, -4.46447411e-05, -3.45061198e-05, -2.05335309e-05,\n",
       "         1.92170264e-05,  1.99934402e-05, -2.86257819e-05,  5.37579763e-05,\n",
       "        -2.24547830e-06,  1.09075672e-05,  1.42691570e-05, -8.00395992e-06,\n",
       "        -4.39801661e-05,  1.58259445e-05,  5.05777643e-06,  1.58089388e-05,\n",
       "         7.42174307e-05, -1.91110466e-05, -1.55222551e-05, -4.80495728e-05,\n",
       "        -4.21999648e-05,  1.91894160e-05, -2.51734255e-05, -1.43856778e-05,\n",
       "         3.21858279e-05, -1.84397395e-05,  3.35668446e-05, -1.76117628e-05,\n",
       "        -3.80630263e-05,  1.54738373e-05, -1.08198792e-05, -8.25617462e-06,\n",
       "         6.13076118e-05,  1.13180840e-05, -2.86095246e-06,  2.69172670e-05,\n",
       "        -1.86678408e-05, -1.25655288e-05, -3.40063489e-05,  1.76828489e-05,\n",
       "        -9.73567221e-05,  5.54717044e-05, -2.47789758e-05, -1.13323094e-05,\n",
       "         9.18182286e-06, -7.68052269e-06,  5.45368312e-06, -4.33661480e-05,\n",
       "         1.08277236e-05,  8.60163345e-05, -4.37874260e-05, -2.01216426e-06,\n",
       "         1.63444929e-05, -3.73664734e-05,  3.66738168e-05,  7.16978320e-07,\n",
       "        -6.69594374e-05,  1.57196591e-05,  4.16922603e-06, -3.74238807e-05,\n",
       "        -1.38171754e-05,  2.61369751e-05, -4.03930972e-05,  8.08881214e-06,\n",
       "        -6.59590523e-06, -6.39000427e-06,  2.52776022e-06,  2.49169261e-06,\n",
       "         2.64932569e-05,  2.06468940e-06, -9.68165477e-06,  6.17860205e-05,\n",
       "        -3.25307919e-05,  3.23305940e-05,  3.56745586e-05, -3.22008464e-06,\n",
       "        -4.18398195e-05,  4.09301501e-05,  1.12976140e-05, -3.64314037e-05,\n",
       "        -3.29999311e-05, -6.18531267e-05,  5.81377972e-05,  1.54628651e-05,\n",
       "        -6.26264955e-05, -2.72282086e-05, -5.53598657e-05, -7.55770725e-06,\n",
       "         6.51986484e-05, -1.49826183e-05, -8.69738687e-06,  1.14031272e-05,\n",
       "         2.77878098e-06, -7.67088204e-06,  4.52959284e-05, -1.61226108e-05,\n",
       "        -2.35522639e-05,  4.15971881e-05, -4.28628773e-05, -8.41661749e-05,\n",
       "         1.17101605e-04,  8.13872884e-06,  3.45530407e-06,  6.14092714e-05,\n",
       "        -3.96706528e-05,  3.37239908e-05, -5.31715250e-06, -5.17375156e-05,\n",
       "        -1.70516607e-04, -1.52733846e-05, -8.63089153e-05, -6.43994917e-06,\n",
       "         1.91748641e-05,  2.53047165e-05,  9.57027078e-06, -3.37676356e-05,\n",
       "         1.98477428e-05,  1.66540813e-05, -1.25107408e-06, -3.50244118e-05,\n",
       "        -9.63203784e-05,  9.88886495e-06,  3.33962234e-05, -4.15552640e-05,\n",
       "         4.34147260e-05,  1.30913802e-04, -1.57177565e-05,  2.70974524e-05,\n",
       "        -1.23493519e-05, -3.81652280e-05, -2.06525674e-05, -2.44753192e-05,\n",
       "         3.06104848e-05,  5.34236133e-05, -8.37509724e-05,  5.02915063e-05,\n",
       "         6.40796043e-06,  3.16063233e-05,  1.85040044e-05, -2.19269641e-05,\n",
       "        -3.69820264e-05, -6.47082925e-06, -1.29426808e-05,  3.65262495e-05,\n",
       "         9.41696635e-05, -2.97642691e-05, -1.33350768e-05, -9.02918473e-05,\n",
       "        -7.96689346e-05,  1.51621607e-05, -2.99887124e-05, -4.65340745e-05,\n",
       "         2.90536100e-05, -1.14160994e-05,  5.30415891e-05, -4.04345592e-05,\n",
       "        -8.73204190e-05,  1.75702553e-06, -7.56708641e-06,  1.89320599e-06,\n",
       "         6.77635398e-05,  1.86951384e-05, -6.26596739e-06,  6.35354809e-05,\n",
       "        -2.48299784e-06,  2.70936653e-06, -5.47463715e-05, -1.51689801e-06,\n",
       "        -1.18127602e-04,  6.70581576e-05, -2.13552739e-05,  3.45386434e-06,\n",
       "         9.74625891e-06,  4.26885163e-06, -5.98070437e-06, -3.76395110e-05,\n",
       "         3.73421790e-05,  1.07647727e-04, -5.25936848e-05,  1.34184065e-05,\n",
       "         2.76281826e-05, -2.36605592e-05,  6.24001186e-05, -1.03216007e-06,\n",
       "        -8.20036585e-05,  5.84122859e-07, -1.66992322e-05, -3.62079372e-05,\n",
       "        -2.23569059e-05,  5.47613818e-05, -6.34864555e-05,  3.28875067e-05,\n",
       "        -1.33152535e-05, -2.11889637e-05,  1.87573805e-05,  6.11365067e-06,\n",
       "         5.08513112e-05,  3.12690390e-05, -2.49531877e-06,  8.28799893e-05,\n",
       "        -4.37046401e-06,  4.05533283e-05,  8.96262718e-05,  1.62213491e-05,\n",
       "        -4.89874437e-05,  2.28292502e-05,  8.20714558e-06, -2.44262446e-05,\n",
       "        -5.70510142e-02, -6.75939489e-04,  3.88629809e-02, -2.15275958e-02,\n",
       "        -2.47256868e-02, -9.34824347e-04, -4.43031564e-02,  2.04973351e-02,\n",
       "         1.14684841e-02,  4.18396201e-03,  4.64190450e-03, -5.71074290e-03,\n",
       "        -5.22300825e-02,  5.77138998e-02, -4.26653773e-04, -8.31897184e-03,\n",
       "         4.93617319e-02, -2.39382330e-02, -2.14889720e-02, -6.36755256e-04,\n",
       "         3.86296734e-02,  9.08383727e-03,  2.18173470e-02, -1.86399408e-02,\n",
       "        -2.00241059e-02, -1.86242163e-04,  1.10840267e-02, -8.93758959e-04,\n",
       "         5.44711538e-02, -1.99339725e-02,  3.07417586e-02,  2.13412512e-02,\n",
       "        -1.29891392e-02,  3.70354354e-02, -1.52457859e-02,  8.27348046e-03,\n",
       "         3.60585414e-02,  3.85725051e-02, -2.33708192e-02,  2.11828016e-02,\n",
       "        -4.02003005e-02, -1.55395828e-03, -1.29426029e-02, -5.05955666e-02,\n",
       "        -1.39103783e-02,  5.48471287e-02, -2.16268320e-02,  3.11300741e-03,\n",
       "        -3.84073853e-02,  1.08202593e-02, -3.72427329e-02,  2.73746438e-02,\n",
       "         1.61685087e-02,  5.42895077e-03, -2.83914246e-02, -8.85738246e-03,\n",
       "         6.45921705e-03, -1.62887499e-02, -2.42536655e-03, -7.16830976e-03,\n",
       "         5.12183160e-02,  4.17890493e-03,  1.63384480e-03, -5.74648730e-04,\n",
       "        -5.60833737e-02, -1.91463158e-03,  2.44714366e-03, -6.98893666e-02,\n",
       "         4.39498946e-02, -3.13492417e-02, -4.06750152e-03,  3.80826294e-02,\n",
       "         1.90634951e-02, -8.13375600e-03,  5.51441684e-03,  6.32406119e-03,\n",
       "        -6.18052632e-02,  2.75641829e-02,  3.23360153e-02, -1.56437885e-03,\n",
       "         1.04122898e-02, -1.13006430e-02,  7.33814621e-03,  3.57903689e-02,\n",
       "         1.52868181e-02,  2.08435729e-02,  2.24804915e-02,  1.14025855e-02,\n",
       "        -2.73934193e-02,  5.70260733e-03,  4.62661916e-03,  7.38659641e-03,\n",
       "        -2.93610967e-04,  2.55630799e-02,  4.57301736e-03,  2.41669249e-02,\n",
       "         4.12003743e-03, -4.38179001e-02, -4.11047451e-02, -8.43732525e-03,\n",
       "         1.42262150e-02,  8.16676617e-02, -2.83852294e-02,  2.75232666e-03,\n",
       "        -2.44681500e-02,  1.02686863e-02, -1.80099010e-02, -4.10294235e-02,\n",
       "         5.94491977e-03, -1.13399047e-02, -2.76014488e-02, -4.04849229e-03,\n",
       "        -2.82256380e-02,  2.91278269e-02,  2.66405344e-02,  4.10419889e-03,\n",
       "         2.49587204e-02, -5.12997657e-02, -2.54897438e-02, -1.77057497e-02,\n",
       "        -1.36265187e-02, -2.61013322e-02,  4.83381264e-02, -3.43532115e-02,\n",
       "         4.06678580e-02,  4.06984612e-02,  4.01077121e-02, -6.26703631e-03,\n",
       "        -4.81713214e-05, -4.97045330e-05,  3.98238990e-05,  3.63389554e-05,\n",
       "        -5.12553997e-05, -6.60189971e-06, -3.43172032e-05, -2.69628763e-05,\n",
       "         2.08982929e-05, -7.93915387e-06, -3.85942531e-06,  1.49743446e-05,\n",
       "        -3.03437764e-06, -7.49024730e-06,  3.00304710e-05, -2.84236194e-05,\n",
       "        -7.96021050e-06,  3.08847157e-05, -3.93353948e-05, -6.15110112e-05,\n",
       "         1.03405429e-04,  1.07943652e-05,  2.14052816e-05,  5.12432671e-05,\n",
       "        -2.92761488e-05, -8.00954967e-06,  4.90588627e-06, -5.85085763e-05,\n",
       "        -1.39287789e-04, -3.09021380e-06, -7.44502104e-05, -8.04200135e-06,\n",
       "         5.70467182e-06,  2.36322267e-05, -1.29364862e-05, -3.46061970e-05,\n",
       "         9.59487716e-06,  1.58958137e-05, -2.76815517e-05, -1.56849055e-05,\n",
       "        -6.43143940e-05, -8.62610341e-06,  2.59933913e-05, -3.43013307e-05,\n",
       "         1.75321566e-05,  9.83412465e-05, -1.24515436e-05,  7.75338958e-06,\n",
       "         3.52136158e-06, -5.63953145e-05, -3.92119910e-05, -1.53291039e-05,\n",
       "         3.10813266e-05,  2.46183372e-05, -2.84283306e-05,  5.48827666e-05,\n",
       "        -2.51181382e-06,  1.76646190e-05,  2.51488109e-05, -7.30948977e-06,\n",
       "        -3.89473571e-05,  1.16086521e-05,  1.12382349e-06,  2.00237810e-05,\n",
       "         7.78826798e-05, -2.45174779e-05, -1.93636170e-05, -6.54539908e-05,\n",
       "        -4.67414284e-05,  1.64782014e-05, -3.08662929e-05, -2.61822352e-05,\n",
       "         3.95725910e-05, -1.50128672e-05,  3.59284240e-05, -2.83545305e-05,\n",
       "        -4.75605739e-05,  1.59463525e-07, -1.88010745e-05, -1.12172256e-05,\n",
       "         6.40597500e-05,  6.70086047e-06,  3.22914912e-06,  3.69147092e-05,\n",
       "        -1.93839296e-05, -1.17692362e-05, -3.16649057e-05,  1.80831958e-05,\n",
       "        -1.03964710e-04,  5.86834503e-05, -2.97603947e-05, -1.31148099e-05,\n",
       "         1.28627598e-05, -1.03135480e-05,  6.11016731e-08, -4.35581460e-05,\n",
       "         2.59163535e-05,  9.92723726e-05, -4.99202542e-05, -6.85571376e-06,\n",
       "         2.60504858e-05, -3.61646998e-05,  4.50219522e-05, -4.44204125e-06,\n",
       "        -6.70505833e-05,  1.37793586e-05,  5.51533140e-06, -3.30201729e-05,\n",
       "        -2.08405963e-05,  2.99382609e-05, -4.24658647e-05,  9.74293562e-06,\n",
       "        -6.38291931e-06, -8.32384467e-06, -1.72120281e-06,  2.13591920e-06,\n",
       "         3.32217642e-05,  1.24926055e-05, -1.19797987e-05,  7.10991662e-05,\n",
       "        -3.05185094e-05,  4.28865387e-05,  4.78175461e-05, -1.63649929e-06,\n",
       "        -4.44906509e-05,  5.00738824e-05,  1.09107859e-05, -3.88110057e-05],\n",
       "       dtype=float32)>,\n",
       " <tf.Tensor: shape=(128, 10000), dtype=float32, numpy=\n",
       " array([[-2.6598159e-04, -1.8753470e-03, -2.2562880e-04, ...,\n",
       "         -3.2871390e-07, -3.2909634e-07, -3.2740479e-07],\n",
       "        [-1.1009278e-03, -3.3609504e-03, -1.1165949e-03, ...,\n",
       "          2.4460171e-06,  2.4445665e-06,  2.4442172e-06],\n",
       "        [-1.2891677e-03, -1.1241550e-03, -1.8525058e-03, ...,\n",
       "          3.9805650e-06,  3.9823244e-06,  3.9833844e-06],\n",
       "        ...,\n",
       "        [-5.9068907e-04, -1.0362465e-03, -1.6250320e-04, ...,\n",
       "          5.4793406e-07,  5.4743703e-07,  5.4773506e-07],\n",
       "        [-1.0604761e-03, -8.9236535e-04, -1.5797764e-03, ...,\n",
       "          2.6348337e-06,  2.6392945e-06,  2.6377554e-06],\n",
       "        [-3.8047056e-03, -4.8731086e-03, -4.2749224e-03, ...,\n",
       "          6.4046330e-06,  6.4122942e-06,  6.4104088e-06]], dtype=float32)>,\n",
       " <tf.Tensor: shape=(10000,), dtype=float32, numpy=\n",
       " array([-0.7979981 , -1.0313314 , -1.0313317 , ...,  0.00199901,\n",
       "         0.00200028,  0.00200016], dtype=float32)>]"
      ]
     },
     "execution_count": 53,
     "metadata": {},
     "output_type": "execute_result"
    }
   ],
   "source": [
    "# Define the gradient clipping threshold\n",
    "grads, _ = tf.clip_by_global_norm(grad_t_list, max_grad_norm)\n",
    "grads"
   ]
  },
  {
   "cell_type": "markdown",
   "metadata": {},
   "source": [
    "<h4> 4.Apply the optimizer to the variables/gradients tuple. </h4>\n"
   ]
  },
  {
   "cell_type": "code",
   "execution_count": 54,
   "metadata": {
    "tags": []
   },
   "outputs": [],
   "source": [
    "# Create the training TensorFlow Operation through our optimizer\n",
    "train_op = optimizer.apply_gradients(zip(grads, tvars))"
   ]
  },
  {
   "cell_type": "markdown",
   "metadata": {},
   "source": [
    "<a id=\"ltsm\"></a>\n",
    "<h2>LSTM</h2>\n"
   ]
  },
  {
   "cell_type": "markdown",
   "metadata": {},
   "source": [
    "We learned how the model is build step by step. Noe, let's then create a Class that represents our model. This class needs a few things:\n",
    "<ul>\n",
    "    <li>We have to create the model in accordance with our defined hyperparameters</li>\n",
    "    <li>We have to create the LSTM cell structure and connect them with our RNN structure</li>\n",
    "    <li>We have to create the word embeddings and point them to the input data</li>\n",
    "    <li>We have to create the input structure for our RNN</li>\n",
    "    <li>We need to create a logistic structure to return the probability of our words</li>\n",
    "    <li>We need to create the loss and cost functions for our optimizer to work, and then create the optimizer</li>\n",
    "    <li>And finally, we need to create a training operation that can be run to actually train our model</li>\n",
    "</ul>\n"
   ]
  },
  {
   "cell_type": "code",
   "execution_count": 55,
   "metadata": {
    "tags": []
   },
   "outputs": [],
   "source": [
    "class PTBModel(object):\n",
    "\n",
    "\n",
    "    def __init__(self):\n",
    "        ######################################\n",
    "        # Setting parameters for ease of use #\n",
    "        ######################################\n",
    "        self.batch_size = batch_size\n",
    "        self.num_steps = num_steps\n",
    "        self.hidden_size_l1 = hidden_size_l1\n",
    "        self.hidden_size_l2 = hidden_size_l2\n",
    "        self.vocab_size = vocab_size\n",
    "        self.embeding_vector_size = embeding_vector_size\n",
    "        # Create a variable for the learning rate\n",
    "        self._lr = 1.0\n",
    "        \n",
    "        ###############################################################################\n",
    "        # Initializing the model using keras Sequential API  #\n",
    "        ###############################################################################\n",
    "        \n",
    "        self._model = tf.keras.models.Sequential()\n",
    "        \n",
    "        ####################################################################\n",
    "        # Creating the word embeddings layer and adding it to the sequence #\n",
    "        ####################################################################\n",
    "        with tf.device(\"/cpu:0\"):\n",
    "            # Create the embeddings for our input data. Size is hidden size.\n",
    "            self._embedding_layer = tf.keras.layers.Embedding(self.vocab_size, self.embeding_vector_size,batch_input_shape=(self.batch_size, self.num_steps),trainable=True,name=\"embedding_vocab\")  #[10000x200]\n",
    "            self._model.add(self._embedding_layer)\n",
    "            \n",
    "\n",
    "        ##########################################################################\n",
    "        # Creating the LSTM cell structure and connect it with the RNN structure #\n",
    "        ##########################################################################\n",
    "        # Create the LSTM Cells. \n",
    "        # This creates only the structure for the LSTM and has to be associated with a RNN unit still.\n",
    "        # The argument  of LSTMCell is size of hidden layer, that is, the number of hidden units of the LSTM (inside A). \n",
    "        # LSTM cell processes one word at a time and computes probabilities of the possible continuations of the sentence.\n",
    "        lstm_cell_l1 = tf.keras.layers.LSTMCell(hidden_size_l1)\n",
    "        lstm_cell_l2 = tf.keras.layers.LSTMCell(hidden_size_l2)\n",
    "        \n",
    "\n",
    "        \n",
    "        # By taking in the LSTM cells as parameters, the StackedRNNCells function junctions the LSTM units to the RNN units.\n",
    "        # RNN cell composed sequentially of stacked simple cells.\n",
    "        stacked_lstm = tf.keras.layers.StackedRNNCells([lstm_cell_l1, lstm_cell_l2])\n",
    "\n",
    "\n",
    "        \n",
    "\n",
    "        ############################################\n",
    "        # Creating the input structure for our RNN #\n",
    "        ############################################\n",
    "        # Input structure is 20x[30x200]\n",
    "        # Considering each word is represended by a 200 dimentional vector, and we have 30 batchs, we create 30 word-vectors of size [30xx2000]\n",
    "        # The input structure is fed from the embeddings, which are filled in by the input data\n",
    "        # Feeding a batch of b sentences to a RNN:\n",
    "        # In step 1,  first word of each of the b sentences (in a batch) is input in parallel.  \n",
    "        # In step 2,  second word of each of the b sentences is input in parallel. \n",
    "        # The parallelism is only for efficiency.  \n",
    "        # Each sentence in a batch is handled in parallel, but the network sees one word of a sentence at a time and does the computations accordingly. \n",
    "        # All the computations involving the words of all sentences in a batch at a given time step are done in parallel. \n",
    "\n",
    "        ########################################################################################################\n",
    "        # Instantiating our RNN model and setting stateful to True to feed forward the state to the next layer #\n",
    "        ########################################################################################################\n",
    "        \n",
    "        self._RNNlayer  =  tf.keras.layers.RNN(stacked_lstm,[batch_size, num_steps],return_state=False,stateful=True,trainable=True)\n",
    "        \n",
    "        # Define the initial state, i.e., the model state for the very first data point\n",
    "        # It initialize the state of the LSTM memory. The memory state of the network is initialized with a vector of zeros and gets updated after reading each word.\n",
    "        self._initial_state = tf.Variable(tf.zeros([batch_size,embeding_vector_size]),trainable=False)\n",
    "        self._RNNlayer.inital_state = self._initial_state\n",
    "    \n",
    "        ############################################\n",
    "        # Adding RNN layer to keras sequential API #\n",
    "        ############################################        \n",
    "        self._model.add(self._RNNlayer)\n",
    "        \n",
    "        #self._model.add(tf.keras.layers.LSTM(hidden_size_l1,return_sequences=True,stateful=True))\n",
    "        #self._model.add(tf.keras.layers.LSTM(hidden_size_l2,return_sequences=True))\n",
    "        \n",
    "        \n",
    "        ####################################################################################################\n",
    "        # Instantiating a Dense layer that connects the output to the vocab_size  and adding layer to model#\n",
    "        ####################################################################################################\n",
    "        self._dense = tf.keras.layers.Dense(self.vocab_size)\n",
    "        self._model.add(self._dense)\n",
    " \n",
    "        \n",
    "        ####################################################################################################\n",
    "        # Adding softmax activation layer and deriving probability to each class and adding layer to model #\n",
    "        ####################################################################################################\n",
    "        self._activation = tf.keras.layers.Activation('softmax')\n",
    "        self._model.add(self._activation)\n",
    "\n",
    "        ##########################################################\n",
    "        # Instantiating the stochastic gradient decent optimizer #\n",
    "        ########################################################## \n",
    "        self._optimizer = tf.keras.optimizers.SGD(lr=self._lr, clipnorm=max_grad_norm)\n",
    "        \n",
    "        \n",
    "        ##############################################################################\n",
    "        # Compiling and summarizing the model stacked using the keras sequential API #\n",
    "        ##############################################################################\n",
    "        self._model.compile(loss=self.crossentropy, optimizer=self._optimizer)\n",
    "        self._model.summary()\n",
    "\n",
    "\n",
    "    def crossentropy(self,y_true, y_pred):\n",
    "        return tf.keras.losses.sparse_categorical_crossentropy(y_true, y_pred)\n",
    "\n",
    "    def train_batch(self,_input_data,_targets):\n",
    "        #################################################\n",
    "        # Creating the Training Operation for our Model #\n",
    "        #################################################\n",
    "        # Create a variable for the learning rate\n",
    "        self._lr = tf.Variable(0.0, trainable=False)\n",
    "        # Get all TensorFlow variables marked as \"trainable\" (i.e. all of them except _lr, which we just created)\n",
    "        tvars = self._model.trainable_variables\n",
    "        # Define the gradient clipping threshold\n",
    "        with tf.GradientTape() as tape:\n",
    "            # Forward pass.\n",
    "            output_words_prob = self._model(_input_data)\n",
    "            # Loss value for this batch.\n",
    "            loss  = self.crossentropy(_targets, output_words_prob)\n",
    "            # average across batch and reduce sum\n",
    "            cost = tf.reduce_sum(loss/ self.batch_size)\n",
    "        # Get gradients of loss wrt the trainable variables.\n",
    "        grad_t_list = tape.gradient(cost, tvars)\n",
    "        # Define the gradient clipping threshold\n",
    "        grads, _ = tf.clip_by_global_norm(grad_t_list, max_grad_norm)\n",
    "        # Create the training TensorFlow Operation through our optimizer\n",
    "        train_op = self._optimizer.apply_gradients(zip(grads, tvars))\n",
    "        return cost\n",
    "        \n",
    "    def test_batch(self,_input_data,_targets):\n",
    "        #################################################\n",
    "        # Creating the Testing Operation for our Model #\n",
    "        #################################################\n",
    "        output_words_prob = self._model(_input_data)\n",
    "        loss  = self.crossentropy(_targets, output_words_prob)\n",
    "        # average across batch and reduce sum\n",
    "        cost = tf.reduce_sum(loss/ self.batch_size)\n",
    "\n",
    "        return cost\n",
    "    @classmethod\n",
    "    def instance(cls) : \n",
    "        return PTBModel()"
   ]
  },
  {
   "cell_type": "markdown",
   "metadata": {},
   "source": [
    "With that, the actual structure of our Recurrent Neural Network with Long Short-Term Memory is finished. What remains for us to do is to actually create the methods to run through time -- that is, the <code>run_epoch</code> method to be run at each epoch and a <code>main</code> script which ties all of this together.\n",
    "\n",
    "What our <code>run_epoch</code> method should do is take our input data and feed it to the relevant operations. This will return at the very least the current result for the cost function.\n"
   ]
  },
  {
   "cell_type": "code",
   "execution_count": 56,
   "metadata": {
    "tags": []
   },
   "outputs": [],
   "source": [
    "\n",
    "########################################################################################################################\n",
    "# run_one_epoch takes as parameters  the model instance, the data to be fed, training or testing mode and verbose info #\n",
    "########################################################################################################################\n",
    "def run_one_epoch(m, data,is_training=True,verbose=False):\n",
    "\n",
    "    #Define the epoch size based on the length of the data, batch size and the number of steps\n",
    "    epoch_size = ((len(data) // m.batch_size) - 1) // m.num_steps\n",
    "    start_time = time.time()\n",
    "    costs = 0.\n",
    "    iters = 0\n",
    "    \n",
    "    m._model.reset_states()\n",
    "    \n",
    "    #For each step and data point\n",
    "    for step, (x, y) in enumerate(ptb_iterator(data, m.batch_size, m.num_steps)):\n",
    "        \n",
    "        #Evaluate and return cost, state by running cost, final_state and the function passed as parameter\n",
    "        #y = tf.keras.utils.to_categorical(y, num_classes=vocab_size)\n",
    "        if is_training : \n",
    "            loss=  m.train_batch(x, y)\n",
    "        else :\n",
    "            loss = m.test_batch(x, y)\n",
    "                                   \n",
    "\n",
    "        #Add returned cost to costs (which keeps track of the total costs for this epoch)\n",
    "        costs += loss\n",
    "        \n",
    "        #Add number of steps to iteration counter\n",
    "        iters += m.num_steps\n",
    "\n",
    "        if verbose and step % (epoch_size // 10) == 10:\n",
    "            print(\"Itr %d of %d, perplexity: %.3f speed: %.0f wps\" % (step , epoch_size, np.exp(costs / iters), iters * m.batch_size / (time.time() - start_time)))\n",
    "        \n",
    "\n",
    "\n",
    "    # Returns the Perplexity rating for us to keep track of how the model is evolving\n",
    "    return np.exp(costs / iters)\n"
   ]
  },
  {
   "cell_type": "markdown",
   "metadata": {},
   "source": [
    "Now, we create the <code>main</code> method to tie everything together. The code here reads the data from the directory, using the <code>reader</code> helper module, and then trains and evaluates the model on both a testing and a validating subset of data.\n"
   ]
  },
  {
   "cell_type": "code",
   "execution_count": 57,
   "metadata": {
    "tags": []
   },
   "outputs": [],
   "source": [
    "# Reads the data and separates it into training data, validation data and testing data\n",
    "raw_data = ptb_raw_data(data_dir)\n",
    "train_data, valid_data, test_data, _, _ = raw_data"
   ]
  },
  {
   "cell_type": "code",
   "execution_count": null,
   "metadata": {
    "tags": []
   },
   "outputs": [
    {
     "name": "stdout",
     "output_type": "stream",
     "text": [
      "Model: \"sequential_1\"\n",
      "_________________________________________________________________\n",
      " Layer (type)                Output Shape              Param #   \n",
      "=================================================================\n",
      " embedding_vocab (Embedding)  (30, 20, 200)            2000000   \n",
      "                                                                 \n",
      " rnn_1 (RNN)                 (30, 20, 128)             671088    \n",
      "                                                                 \n",
      " dense_1 (Dense)             (30, 20, 10000)           1290000   \n",
      "                                                                 \n",
      " activation_1 (Activation)   (30, 20, 10000)           0         \n",
      "                                                                 \n",
      "=================================================================\n",
      "Total params: 3,961,088\n",
      "Trainable params: 3,955,088\n",
      "Non-trainable params: 6,000\n",
      "_________________________________________________________________\n",
      "Epoch 1 : Learning rate: 1.000\n",
      "Itr 10 of 1549, perplexity: 4390.605 speed: 1108 wps\n"
     ]
    }
   ],
   "source": [
    "# Instantiates the PTBModel class\n",
    "m=PTBModel.instance()   \n",
    "K = tf.keras.backend \n",
    "for i in range(max_epoch):\n",
    "    # Define the decay for this epoch\n",
    "    lr_decay = decay ** max(i - max_epoch_decay_lr, 0.0)\n",
    "    dcr = learning_rate * lr_decay\n",
    "    m._lr = dcr\n",
    "    K.set_value(m._model.optimizer.learning_rate,m._lr)\n",
    "    print(\"Epoch %d : Learning rate: %.3f\" % (i + 1, m._model.optimizer.learning_rate))\n",
    "    # Run the loop for this epoch in the training mode\n",
    "    train_perplexity = run_one_epoch(m, train_data,is_training=True,verbose=True)\n",
    "    print(\"Epoch %d : Train Perplexity: %.3f\" % (i + 1, train_perplexity))\n",
    "        \n",
    "    # Run the loop for this epoch in the validation mode\n",
    "    valid_perplexity = run_one_epoch(m, valid_data,is_training=False,verbose=False)\n",
    "    print(\"Epoch %d : Valid Perplexity: %.3f\" % (i + 1, valid_perplexity))\n",
    "    \n",
    "# Run the loop in the testing mode to see how effective was our training\n",
    "test_perplexity = run_one_epoch(m, test_data,is_training=False,verbose=False)\n",
    "print(\"Test Perplexity: %.3f\" % test_perplexity)\n",
    "\n"
   ]
  },
  {
   "cell_type": "markdown",
   "metadata": {},
   "source": [
    "As you can see, the model's perplexity rating drops very quickly after a few iterations. As was elaborated before, <b>lower Perplexity means that the model is more certain about its prediction</b>. As such, we can be sure that this model is performing well!\n"
   ]
  },
  {
   "cell_type": "markdown",
   "metadata": {},
   "source": [
    "-------\n"
   ]
  },
  {
   "cell_type": "markdown",
   "metadata": {},
   "source": [
    "This is the end of the <b>Applying Recurrent Neural Networks to Text Processing</b> notebook. Hopefully you now have a better understanding of Recurrent Neural Networks and how to implement one utilizing TensorFlow. Thank you for reading this notebook, and good luck on your studies.\n"
   ]
  },
  {
   "cell_type": "markdown",
   "metadata": {},
   "source": [
    "## Want to learn more?\n",
    "\n",
    "Also, you can use __Watson Studio__ to run these notebooks faster with bigger datasets.__Watson Studio__ is IBM’s leading cloud solution for data scientists, built by data scientists. With Jupyter notebooks, RStudio, Apache Spark and popular libraries pre-packaged in the cloud, __Watson Studio__ enables data scientists to collaborate on their projects without having to install anything. Join the fast-growing community of __Watson Studio__ users today with a free account at [Watson Studio](https://cocl.us/ML0120EN_DSX).This is the end of this lesson. Thank you for reading this notebook, and good luck on your studies.\n"
   ]
  },
  {
   "cell_type": "markdown",
   "metadata": {},
   "source": [
    "### Thanks for completing this lesson!\n",
    "\n",
    "Notebook created by <a href=\"https://br.linkedin.com/in/walter-gomes-de-amorim-junior-624726121?utm_medium=Exinfluencer&utm_source=Exinfluencer&utm_content=000026UJ&utm_term=10006555&utm_id=NA-SkillsNetwork-Channel-SkillsNetworkCoursesIBMDeveloperSkillsNetworkDL0120ENSkillsNetwork954-2023-01-01\">Walter Gomes de Amorim Junior</a>, <a href = \"https://linkedin.com/in/saeedaghabozorgi\"> Saeed Aghabozorgi </a></h4>\n",
    "\n",
    "\n",
    "Updated to TF 2.X by  <a href=\"https://www.linkedin.com/in/samaya-madhavan?utm_medium=Exinfluencer&utm_source=Exinfluencer&utm_content=000026UJ&utm_term=10006555&utm_id=NA-SkillsNetwork-Channel-SkillsNetworkCoursesIBMDeveloperSkillsNetworkDL0120ENSkillsNetwork954-2023-01-01\"> Samaya Madhavan </a>\n"
   ]
  },
  {
   "cell_type": "markdown",
   "metadata": {},
   "source": [
    "<hr>\n",
    "\n",
    "Copyright &copy; 2018 [Cognitive Class](https://cocl.us/DX0108EN_CC). This notebook and its source code are released under the terms of the [MIT License](https://bigdatauniversity.com/mit-license/?utm_medium=Exinfluencer&utm_source=Exinfluencer&utm_content=000026UJ&utm_term=10006555&utm_id=NA-SkillsNetwork-Channel-SkillsNetworkCoursesIBMDeveloperSkillsNetworkDL0120ENSkillsNetwork954-2023-01-01).\n"
   ]
  }
 ],
 "metadata": {
  "kernelspec": {
   "display_name": "Python",
   "language": "python",
   "name": "conda-env-python-py"
  },
  "language_info": {
   "codemirror_mode": {
    "name": "ipython",
    "version": 3
   },
   "file_extension": ".py",
   "mimetype": "text/x-python",
   "name": "python",
   "nbconvert_exporter": "python",
   "pygments_lexer": "ipython3",
   "version": "3.7.12"
  }
 },
 "nbformat": 4,
 "nbformat_minor": 4
}
