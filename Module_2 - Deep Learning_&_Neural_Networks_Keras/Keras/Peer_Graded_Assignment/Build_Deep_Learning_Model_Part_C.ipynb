{
 "cells": [
  {
   "cell_type": "markdown",
   "id": "0885cdb6",
   "metadata": {},
   "source": [
    "# Part A - Built a Baseline Model"
   ]
  },
  {
   "cell_type": "markdown",
   "id": "ea8329a7",
   "metadata": {},
   "source": [
    "## Imports"
   ]
  },
  {
   "cell_type": "code",
   "execution_count": 81,
   "id": "6ada661c",
   "metadata": {},
   "outputs": [],
   "source": [
    "import pandas as pd\n",
    "import numpy as np\n",
    "\n",
    "import keras\n",
    "\n",
    "from keras.models import Sequential\n",
    "from keras.layers import Dense\n",
    "from keras.utils import to_categorical\n",
    "\n",
    "from keras.layers.convolutional import Conv2D\n",
    "from keras.layers.convolutional import MaxPooling2D \n",
    "from keras.layers import Flatten\n",
    "\n",
    "from sklearn.model_selection import train_test_split\n",
    "from sklearn.metrics import mean_squared_error"
   ]
  },
  {
   "cell_type": "markdown",
   "id": "00f64c0e",
   "metadata": {},
   "source": [
    "## Retrieve the data"
   ]
  },
  {
   "cell_type": "code",
   "execution_count": 82,
   "id": "53bac5ea",
   "metadata": {},
   "outputs": [
    {
     "data": {
      "text/html": [
       "<div>\n",
       "<style scoped>\n",
       "    .dataframe tbody tr th:only-of-type {\n",
       "        vertical-align: middle;\n",
       "    }\n",
       "\n",
       "    .dataframe tbody tr th {\n",
       "        vertical-align: top;\n",
       "    }\n",
       "\n",
       "    .dataframe thead th {\n",
       "        text-align: right;\n",
       "    }\n",
       "</style>\n",
       "<table border=\"1\" class=\"dataframe\">\n",
       "  <thead>\n",
       "    <tr style=\"text-align: right;\">\n",
       "      <th></th>\n",
       "      <th>Cement</th>\n",
       "      <th>Blast Furnace Slag</th>\n",
       "      <th>Fly Ash</th>\n",
       "      <th>Water</th>\n",
       "      <th>Superplasticizer</th>\n",
       "      <th>Coarse Aggregate</th>\n",
       "      <th>Fine Aggregate</th>\n",
       "      <th>Age</th>\n",
       "      <th>Strength</th>\n",
       "    </tr>\n",
       "  </thead>\n",
       "  <tbody>\n",
       "    <tr>\n",
       "      <th>0</th>\n",
       "      <td>540.0</td>\n",
       "      <td>0.0</td>\n",
       "      <td>0.0</td>\n",
       "      <td>162.0</td>\n",
       "      <td>2.5</td>\n",
       "      <td>1040.0</td>\n",
       "      <td>676.0</td>\n",
       "      <td>28</td>\n",
       "      <td>79.99</td>\n",
       "    </tr>\n",
       "    <tr>\n",
       "      <th>1</th>\n",
       "      <td>540.0</td>\n",
       "      <td>0.0</td>\n",
       "      <td>0.0</td>\n",
       "      <td>162.0</td>\n",
       "      <td>2.5</td>\n",
       "      <td>1055.0</td>\n",
       "      <td>676.0</td>\n",
       "      <td>28</td>\n",
       "      <td>61.89</td>\n",
       "    </tr>\n",
       "    <tr>\n",
       "      <th>2</th>\n",
       "      <td>332.5</td>\n",
       "      <td>142.5</td>\n",
       "      <td>0.0</td>\n",
       "      <td>228.0</td>\n",
       "      <td>0.0</td>\n",
       "      <td>932.0</td>\n",
       "      <td>594.0</td>\n",
       "      <td>270</td>\n",
       "      <td>40.27</td>\n",
       "    </tr>\n",
       "    <tr>\n",
       "      <th>3</th>\n",
       "      <td>332.5</td>\n",
       "      <td>142.5</td>\n",
       "      <td>0.0</td>\n",
       "      <td>228.0</td>\n",
       "      <td>0.0</td>\n",
       "      <td>932.0</td>\n",
       "      <td>594.0</td>\n",
       "      <td>365</td>\n",
       "      <td>41.05</td>\n",
       "    </tr>\n",
       "    <tr>\n",
       "      <th>4</th>\n",
       "      <td>198.6</td>\n",
       "      <td>132.4</td>\n",
       "      <td>0.0</td>\n",
       "      <td>192.0</td>\n",
       "      <td>0.0</td>\n",
       "      <td>978.4</td>\n",
       "      <td>825.5</td>\n",
       "      <td>360</td>\n",
       "      <td>44.30</td>\n",
       "    </tr>\n",
       "  </tbody>\n",
       "</table>\n",
       "</div>"
      ],
      "text/plain": [
       "   Cement  Blast Furnace Slag  Fly Ash  Water  Superplasticizer  \\\n",
       "0   540.0                 0.0      0.0  162.0               2.5   \n",
       "1   540.0                 0.0      0.0  162.0               2.5   \n",
       "2   332.5               142.5      0.0  228.0               0.0   \n",
       "3   332.5               142.5      0.0  228.0               0.0   \n",
       "4   198.6               132.4      0.0  192.0               0.0   \n",
       "\n",
       "   Coarse Aggregate  Fine Aggregate  Age  Strength  \n",
       "0            1040.0           676.0   28     79.99  \n",
       "1            1055.0           676.0   28     61.89  \n",
       "2             932.0           594.0  270     40.27  \n",
       "3             932.0           594.0  365     41.05  \n",
       "4             978.4           825.5  360     44.30  "
      ]
     },
     "execution_count": 82,
     "metadata": {},
     "output_type": "execute_result"
    }
   ],
   "source": [
    "concrete_data = pd.read_csv('https://s3-api.us-geo.objectstorage.softlayer.net/cf-courses-data/CognitiveClass/DL0101EN/labs/data/concrete_data.csv')\n",
    "concrete_data.head()"
   ]
  },
  {
   "cell_type": "code",
   "execution_count": 83,
   "id": "41b459c4",
   "metadata": {},
   "outputs": [
    {
     "data": {
      "text/plain": [
       "(1030, 9)"
      ]
     },
     "execution_count": 83,
     "metadata": {},
     "output_type": "execute_result"
    }
   ],
   "source": [
    "concrete_data.shape"
   ]
  },
  {
   "cell_type": "code",
   "execution_count": 84,
   "id": "28e34d51",
   "metadata": {},
   "outputs": [
    {
     "data": {
      "text/html": [
       "<div>\n",
       "<style scoped>\n",
       "    .dataframe tbody tr th:only-of-type {\n",
       "        vertical-align: middle;\n",
       "    }\n",
       "\n",
       "    .dataframe tbody tr th {\n",
       "        vertical-align: top;\n",
       "    }\n",
       "\n",
       "    .dataframe thead th {\n",
       "        text-align: right;\n",
       "    }\n",
       "</style>\n",
       "<table border=\"1\" class=\"dataframe\">\n",
       "  <thead>\n",
       "    <tr style=\"text-align: right;\">\n",
       "      <th></th>\n",
       "      <th>Cement</th>\n",
       "      <th>Blast Furnace Slag</th>\n",
       "      <th>Fly Ash</th>\n",
       "      <th>Water</th>\n",
       "      <th>Superplasticizer</th>\n",
       "      <th>Coarse Aggregate</th>\n",
       "      <th>Fine Aggregate</th>\n",
       "      <th>Age</th>\n",
       "      <th>Strength</th>\n",
       "    </tr>\n",
       "  </thead>\n",
       "  <tbody>\n",
       "    <tr>\n",
       "      <th>count</th>\n",
       "      <td>1030.000000</td>\n",
       "      <td>1030.000000</td>\n",
       "      <td>1030.000000</td>\n",
       "      <td>1030.000000</td>\n",
       "      <td>1030.000000</td>\n",
       "      <td>1030.000000</td>\n",
       "      <td>1030.000000</td>\n",
       "      <td>1030.000000</td>\n",
       "      <td>1030.000000</td>\n",
       "    </tr>\n",
       "    <tr>\n",
       "      <th>mean</th>\n",
       "      <td>281.167864</td>\n",
       "      <td>73.895825</td>\n",
       "      <td>54.188350</td>\n",
       "      <td>181.567282</td>\n",
       "      <td>6.204660</td>\n",
       "      <td>972.918932</td>\n",
       "      <td>773.580485</td>\n",
       "      <td>45.662136</td>\n",
       "      <td>35.817961</td>\n",
       "    </tr>\n",
       "    <tr>\n",
       "      <th>std</th>\n",
       "      <td>104.506364</td>\n",
       "      <td>86.279342</td>\n",
       "      <td>63.997004</td>\n",
       "      <td>21.354219</td>\n",
       "      <td>5.973841</td>\n",
       "      <td>77.753954</td>\n",
       "      <td>80.175980</td>\n",
       "      <td>63.169912</td>\n",
       "      <td>16.705742</td>\n",
       "    </tr>\n",
       "    <tr>\n",
       "      <th>min</th>\n",
       "      <td>102.000000</td>\n",
       "      <td>0.000000</td>\n",
       "      <td>0.000000</td>\n",
       "      <td>121.800000</td>\n",
       "      <td>0.000000</td>\n",
       "      <td>801.000000</td>\n",
       "      <td>594.000000</td>\n",
       "      <td>1.000000</td>\n",
       "      <td>2.330000</td>\n",
       "    </tr>\n",
       "    <tr>\n",
       "      <th>25%</th>\n",
       "      <td>192.375000</td>\n",
       "      <td>0.000000</td>\n",
       "      <td>0.000000</td>\n",
       "      <td>164.900000</td>\n",
       "      <td>0.000000</td>\n",
       "      <td>932.000000</td>\n",
       "      <td>730.950000</td>\n",
       "      <td>7.000000</td>\n",
       "      <td>23.710000</td>\n",
       "    </tr>\n",
       "    <tr>\n",
       "      <th>50%</th>\n",
       "      <td>272.900000</td>\n",
       "      <td>22.000000</td>\n",
       "      <td>0.000000</td>\n",
       "      <td>185.000000</td>\n",
       "      <td>6.400000</td>\n",
       "      <td>968.000000</td>\n",
       "      <td>779.500000</td>\n",
       "      <td>28.000000</td>\n",
       "      <td>34.445000</td>\n",
       "    </tr>\n",
       "    <tr>\n",
       "      <th>75%</th>\n",
       "      <td>350.000000</td>\n",
       "      <td>142.950000</td>\n",
       "      <td>118.300000</td>\n",
       "      <td>192.000000</td>\n",
       "      <td>10.200000</td>\n",
       "      <td>1029.400000</td>\n",
       "      <td>824.000000</td>\n",
       "      <td>56.000000</td>\n",
       "      <td>46.135000</td>\n",
       "    </tr>\n",
       "    <tr>\n",
       "      <th>max</th>\n",
       "      <td>540.000000</td>\n",
       "      <td>359.400000</td>\n",
       "      <td>200.100000</td>\n",
       "      <td>247.000000</td>\n",
       "      <td>32.200000</td>\n",
       "      <td>1145.000000</td>\n",
       "      <td>992.600000</td>\n",
       "      <td>365.000000</td>\n",
       "      <td>82.600000</td>\n",
       "    </tr>\n",
       "  </tbody>\n",
       "</table>\n",
       "</div>"
      ],
      "text/plain": [
       "            Cement  Blast Furnace Slag      Fly Ash        Water  \\\n",
       "count  1030.000000         1030.000000  1030.000000  1030.000000   \n",
       "mean    281.167864           73.895825    54.188350   181.567282   \n",
       "std     104.506364           86.279342    63.997004    21.354219   \n",
       "min     102.000000            0.000000     0.000000   121.800000   \n",
       "25%     192.375000            0.000000     0.000000   164.900000   \n",
       "50%     272.900000           22.000000     0.000000   185.000000   \n",
       "75%     350.000000          142.950000   118.300000   192.000000   \n",
       "max     540.000000          359.400000   200.100000   247.000000   \n",
       "\n",
       "       Superplasticizer  Coarse Aggregate  Fine Aggregate          Age  \\\n",
       "count       1030.000000       1030.000000     1030.000000  1030.000000   \n",
       "mean           6.204660        972.918932      773.580485    45.662136   \n",
       "std            5.973841         77.753954       80.175980    63.169912   \n",
       "min            0.000000        801.000000      594.000000     1.000000   \n",
       "25%            0.000000        932.000000      730.950000     7.000000   \n",
       "50%            6.400000        968.000000      779.500000    28.000000   \n",
       "75%           10.200000       1029.400000      824.000000    56.000000   \n",
       "max           32.200000       1145.000000      992.600000   365.000000   \n",
       "\n",
       "          Strength  \n",
       "count  1030.000000  \n",
       "mean     35.817961  \n",
       "std      16.705742  \n",
       "min       2.330000  \n",
       "25%      23.710000  \n",
       "50%      34.445000  \n",
       "75%      46.135000  \n",
       "max      82.600000  "
      ]
     },
     "execution_count": 84,
     "metadata": {},
     "output_type": "execute_result"
    }
   ],
   "source": [
    "concrete_data.describe()"
   ]
  },
  {
   "cell_type": "code",
   "execution_count": 85,
   "id": "926aaa2e",
   "metadata": {},
   "outputs": [
    {
     "data": {
      "text/plain": [
       "Cement                0\n",
       "Blast Furnace Slag    0\n",
       "Fly Ash               0\n",
       "Water                 0\n",
       "Superplasticizer      0\n",
       "Coarse Aggregate      0\n",
       "Fine Aggregate        0\n",
       "Age                   0\n",
       "Strength              0\n",
       "dtype: int64"
      ]
     },
     "execution_count": 85,
     "metadata": {},
     "output_type": "execute_result"
    }
   ],
   "source": [
    "concrete_data.isnull().sum()"
   ]
  },
  {
   "cell_type": "markdown",
   "id": "61df7fbd",
   "metadata": {},
   "source": [
    "## Define Predictors & Target"
   ]
  },
  {
   "cell_type": "code",
   "execution_count": 86,
   "id": "a56af368",
   "metadata": {},
   "outputs": [],
   "source": [
    "concrete_data_columns = concrete_data.columns\n",
    "\n",
    "predictors = concrete_data[concrete_data_columns[concrete_data_columns != 'Strength']]\n",
    "target = concrete_data['Strength']"
   ]
  },
  {
   "cell_type": "code",
   "execution_count": 87,
   "id": "f2f4e2f3",
   "metadata": {},
   "outputs": [
    {
     "data": {
      "text/html": [
       "<div>\n",
       "<style scoped>\n",
       "    .dataframe tbody tr th:only-of-type {\n",
       "        vertical-align: middle;\n",
       "    }\n",
       "\n",
       "    .dataframe tbody tr th {\n",
       "        vertical-align: top;\n",
       "    }\n",
       "\n",
       "    .dataframe thead th {\n",
       "        text-align: right;\n",
       "    }\n",
       "</style>\n",
       "<table border=\"1\" class=\"dataframe\">\n",
       "  <thead>\n",
       "    <tr style=\"text-align: right;\">\n",
       "      <th></th>\n",
       "      <th>Cement</th>\n",
       "      <th>Blast Furnace Slag</th>\n",
       "      <th>Fly Ash</th>\n",
       "      <th>Water</th>\n",
       "      <th>Superplasticizer</th>\n",
       "      <th>Coarse Aggregate</th>\n",
       "      <th>Fine Aggregate</th>\n",
       "      <th>Age</th>\n",
       "    </tr>\n",
       "  </thead>\n",
       "  <tbody>\n",
       "    <tr>\n",
       "      <th>0</th>\n",
       "      <td>540.0</td>\n",
       "      <td>0.0</td>\n",
       "      <td>0.0</td>\n",
       "      <td>162.0</td>\n",
       "      <td>2.5</td>\n",
       "      <td>1040.0</td>\n",
       "      <td>676.0</td>\n",
       "      <td>28</td>\n",
       "    </tr>\n",
       "    <tr>\n",
       "      <th>1</th>\n",
       "      <td>540.0</td>\n",
       "      <td>0.0</td>\n",
       "      <td>0.0</td>\n",
       "      <td>162.0</td>\n",
       "      <td>2.5</td>\n",
       "      <td>1055.0</td>\n",
       "      <td>676.0</td>\n",
       "      <td>28</td>\n",
       "    </tr>\n",
       "    <tr>\n",
       "      <th>2</th>\n",
       "      <td>332.5</td>\n",
       "      <td>142.5</td>\n",
       "      <td>0.0</td>\n",
       "      <td>228.0</td>\n",
       "      <td>0.0</td>\n",
       "      <td>932.0</td>\n",
       "      <td>594.0</td>\n",
       "      <td>270</td>\n",
       "    </tr>\n",
       "    <tr>\n",
       "      <th>3</th>\n",
       "      <td>332.5</td>\n",
       "      <td>142.5</td>\n",
       "      <td>0.0</td>\n",
       "      <td>228.0</td>\n",
       "      <td>0.0</td>\n",
       "      <td>932.0</td>\n",
       "      <td>594.0</td>\n",
       "      <td>365</td>\n",
       "    </tr>\n",
       "    <tr>\n",
       "      <th>4</th>\n",
       "      <td>198.6</td>\n",
       "      <td>132.4</td>\n",
       "      <td>0.0</td>\n",
       "      <td>192.0</td>\n",
       "      <td>0.0</td>\n",
       "      <td>978.4</td>\n",
       "      <td>825.5</td>\n",
       "      <td>360</td>\n",
       "    </tr>\n",
       "  </tbody>\n",
       "</table>\n",
       "</div>"
      ],
      "text/plain": [
       "   Cement  Blast Furnace Slag  Fly Ash  Water  Superplasticizer  \\\n",
       "0   540.0                 0.0      0.0  162.0               2.5   \n",
       "1   540.0                 0.0      0.0  162.0               2.5   \n",
       "2   332.5               142.5      0.0  228.0               0.0   \n",
       "3   332.5               142.5      0.0  228.0               0.0   \n",
       "4   198.6               132.4      0.0  192.0               0.0   \n",
       "\n",
       "   Coarse Aggregate  Fine Aggregate  Age  \n",
       "0            1040.0           676.0   28  \n",
       "1            1055.0           676.0   28  \n",
       "2             932.0           594.0  270  \n",
       "3             932.0           594.0  365  \n",
       "4             978.4           825.5  360  "
      ]
     },
     "execution_count": 87,
     "metadata": {},
     "output_type": "execute_result"
    }
   ],
   "source": [
    "predictors.head()"
   ]
  },
  {
   "cell_type": "code",
   "execution_count": 88,
   "id": "e592b7dc",
   "metadata": {},
   "outputs": [
    {
     "data": {
      "text/plain": [
       "0    79.99\n",
       "1    61.89\n",
       "2    40.27\n",
       "3    41.05\n",
       "4    44.30\n",
       "Name: Strength, dtype: float64"
      ]
     },
     "execution_count": 88,
     "metadata": {},
     "output_type": "execute_result"
    }
   ],
   "source": [
    "target.head()"
   ]
  },
  {
   "cell_type": "code",
   "execution_count": 89,
   "id": "22e170bc",
   "metadata": {},
   "outputs": [
    {
     "data": {
      "text/plain": [
       "8"
      ]
     },
     "execution_count": 89,
     "metadata": {},
     "output_type": "execute_result"
    }
   ],
   "source": [
    "# number of predictors\n",
    "n_predictors = predictors.shape[1] \n",
    "n_predictors"
   ]
  },
  {
   "cell_type": "markdown",
   "id": "70c2d814",
   "metadata": {},
   "source": [
    "## Train & Evaluate the model"
   ]
  },
  {
   "cell_type": "code",
   "execution_count": 90,
   "id": "9b6a8cf6",
   "metadata": {},
   "outputs": [],
   "source": [
    "def create_model():\n",
    "    # create model\n",
    "    model = Sequential()\n",
    "    model.add(Dense(10, activation='relu', input_shape=(n_predictors,)))  \n",
    "    model.add(Dense(1)) \n",
    "    \n",
    "    #compile model\n",
    "    model.compile(optimizer='adam', loss='mean_squared_error') \n",
    "    return model"
   ]
  },
  {
   "cell_type": "markdown",
   "id": "5c902bc8",
   "metadata": {},
   "source": [
    "Split the data"
   ]
  },
  {
   "cell_type": "code",
   "execution_count": 91,
   "id": "10ecf2f5",
   "metadata": {},
   "outputs": [],
   "source": [
    "X_train, X_test, y_train, y_test = train_test_split(predictors, target, test_size=0.3, random_state=42)"
   ]
  },
  {
   "cell_type": "markdown",
   "id": "ae01cbab",
   "metadata": {},
   "source": [
    "Initialize the model with the function created before"
   ]
  },
  {
   "cell_type": "code",
   "execution_count": 15,
   "id": "90219fc8",
   "metadata": {},
   "outputs": [
    {
     "name": "stderr",
     "output_type": "stream",
     "text": [
      "2024-02-07 16:51:20.781114: W tensorflow/stream_executor/platform/default/dso_loader.cc:64] Could not load dynamic library 'libcuda.so.1'; dlerror: libcuda.so.1: cannot open shared object file: No such file or directory\n",
      "2024-02-07 16:51:20.781207: W tensorflow/stream_executor/cuda/cuda_driver.cc:263] failed call to cuInit: UNKNOWN ERROR (303)\n",
      "2024-02-07 16:51:20.781258: I tensorflow/stream_executor/cuda/cuda_diagnostics.cc:156] kernel driver does not appear to be running on this host (asus): /proc/driver/nvidia/version does not exist\n",
      "2024-02-07 16:51:20.781744: I tensorflow/core/platform/cpu_feature_guard.cc:193] This TensorFlow binary is optimized with oneAPI Deep Neural Network Library (oneDNN) to use the following CPU instructions in performance-critical operations:  AVX2 AVX512F AVX512_VNNI FMA\n",
      "To enable them in other operations, rebuild TensorFlow with the appropriate compiler flags.\n"
     ]
    }
   ],
   "source": [
    "# Initialize the model\n",
    "model = create_model()"
   ]
  },
  {
   "cell_type": "markdown",
   "id": "a939b7be",
   "metadata": {},
   "source": [
    "Train the model on 50 epochs"
   ]
  },
  {
   "cell_type": "code",
   "execution_count": 21,
   "id": "f7d55748",
   "metadata": {},
   "outputs": [
    {
     "name": "stdout",
     "output_type": "stream",
     "text": [
      "Epoch 1/50\n",
      "22/22 [==============================] - 0s 2ms/step - loss: 40.3838\n",
      "Epoch 2/50\n",
      "22/22 [==============================] - 0s 2ms/step - loss: 41.5668\n",
      "Epoch 3/50\n",
      "22/22 [==============================] - 0s 2ms/step - loss: 40.6739\n",
      "Epoch 4/50\n",
      "22/22 [==============================] - 0s 2ms/step - loss: 42.3392\n",
      "Epoch 5/50\n",
      "22/22 [==============================] - 0s 1ms/step - loss: 41.6418\n",
      "Epoch 6/50\n",
      "22/22 [==============================] - 0s 1ms/step - loss: 43.0005\n",
      "Epoch 7/50\n",
      "22/22 [==============================] - 0s 1ms/step - loss: 42.3479\n",
      "Epoch 8/50\n",
      "22/22 [==============================] - 0s 1ms/step - loss: 42.3984\n",
      "Epoch 9/50\n",
      "22/22 [==============================] - 0s 1ms/step - loss: 41.6388\n",
      "Epoch 10/50\n",
      "22/22 [==============================] - 0s 1ms/step - loss: 42.1527\n",
      "Epoch 11/50\n",
      "22/22 [==============================] - 0s 1ms/step - loss: 43.8548\n",
      "Epoch 12/50\n",
      "22/22 [==============================] - 0s 1ms/step - loss: 43.4157\n",
      "Epoch 13/50\n",
      "22/22 [==============================] - 0s 1ms/step - loss: 40.8277\n",
      "Epoch 14/50\n",
      "22/22 [==============================] - 0s 2ms/step - loss: 42.0315\n",
      "Epoch 15/50\n",
      "22/22 [==============================] - 0s 3ms/step - loss: 41.3438\n",
      "Epoch 16/50\n",
      "22/22 [==============================] - 0s 2ms/step - loss: 40.3608\n",
      "Epoch 17/50\n",
      "22/22 [==============================] - 0s 2ms/step - loss: 42.1459\n",
      "Epoch 18/50\n",
      "22/22 [==============================] - 0s 1ms/step - loss: 43.3663\n",
      "Epoch 19/50\n",
      "22/22 [==============================] - 0s 2ms/step - loss: 42.6846\n",
      "Epoch 20/50\n",
      "22/22 [==============================] - 0s 2ms/step - loss: 40.6374\n",
      "Epoch 21/50\n",
      "22/22 [==============================] - 0s 2ms/step - loss: 41.2374\n",
      "Epoch 22/50\n",
      "22/22 [==============================] - 0s 1ms/step - loss: 41.5540\n",
      "Epoch 23/50\n",
      "22/22 [==============================] - 0s 1ms/step - loss: 40.6946\n",
      "Epoch 24/50\n",
      "22/22 [==============================] - 0s 1ms/step - loss: 41.5602\n",
      "Epoch 25/50\n",
      "22/22 [==============================] - 0s 1ms/step - loss: 42.9834\n",
      "Epoch 26/50\n",
      "22/22 [==============================] - 0s 1ms/step - loss: 41.9862\n",
      "Epoch 27/50\n",
      "22/22 [==============================] - 0s 1ms/step - loss: 42.2613\n",
      "Epoch 28/50\n",
      "22/22 [==============================] - 0s 1ms/step - loss: 41.9082\n",
      "Epoch 29/50\n",
      "22/22 [==============================] - 0s 1ms/step - loss: 42.4504\n",
      "Epoch 30/50\n",
      "22/22 [==============================] - 0s 1ms/step - loss: 47.3019\n",
      "Epoch 31/50\n",
      "22/22 [==============================] - 0s 1ms/step - loss: 41.0222\n",
      "Epoch 32/50\n",
      "22/22 [==============================] - 0s 1ms/step - loss: 46.0621\n",
      "Epoch 33/50\n",
      "22/22 [==============================] - 0s 1ms/step - loss: 42.9800\n",
      "Epoch 34/50\n",
      "22/22 [==============================] - 0s 1ms/step - loss: 47.6408\n",
      "Epoch 35/50\n",
      "22/22 [==============================] - 0s 3ms/step - loss: 41.4825\n",
      "Epoch 36/50\n",
      "22/22 [==============================] - 0s 2ms/step - loss: 43.1640\n",
      "Epoch 37/50\n",
      "22/22 [==============================] - 0s 2ms/step - loss: 40.6331\n",
      "Epoch 38/50\n",
      "22/22 [==============================] - 0s 1ms/step - loss: 45.2432\n",
      "Epoch 39/50\n",
      "22/22 [==============================] - 0s 2ms/step - loss: 42.8376\n",
      "Epoch 40/50\n",
      "22/22 [==============================] - 0s 3ms/step - loss: 40.9252\n",
      "Epoch 41/50\n",
      "22/22 [==============================] - 0s 2ms/step - loss: 42.7420\n",
      "Epoch 42/50\n",
      "22/22 [==============================] - 0s 1ms/step - loss: 41.0911\n",
      "Epoch 43/50\n",
      "22/22 [==============================] - 0s 1ms/step - loss: 39.7697\n",
      "Epoch 44/50\n",
      "22/22 [==============================] - 0s 2ms/step - loss: 45.6589\n",
      "Epoch 45/50\n",
      "22/22 [==============================] - 0s 1ms/step - loss: 45.0112\n",
      "Epoch 46/50\n",
      "22/22 [==============================] - 0s 1ms/step - loss: 41.5559\n",
      "Epoch 47/50\n",
      "22/22 [==============================] - 0s 2ms/step - loss: 42.9165\n",
      "Epoch 48/50\n",
      "22/22 [==============================] - 0s 2ms/step - loss: 43.8319\n",
      "Epoch 49/50\n",
      "22/22 [==============================] - 0s 1ms/step - loss: 43.0727\n",
      "Epoch 50/50\n",
      "22/22 [==============================] - 0s 1ms/step - loss: 41.2840\n"
     ]
    },
    {
     "data": {
      "text/plain": [
       "<keras.callbacks.History at 0x7f50801df9a0>"
      ]
     },
     "execution_count": 21,
     "metadata": {},
     "output_type": "execute_result"
    }
   ],
   "source": [
    "# fit the model\n",
    "epochs = 50\n",
    "model.fit(X_train, y_train, epochs=epochs, verbose=1)"
   ]
  },
  {
   "cell_type": "markdown",
   "id": "54bf0b83",
   "metadata": {},
   "source": [
    "Evaluate the model on the test dataset"
   ]
  },
  {
   "cell_type": "code",
   "execution_count": 22,
   "id": "cc7e0845",
   "metadata": {},
   "outputs": [
    {
     "name": "stdout",
     "output_type": "stream",
     "text": [
      "11/11 [==============================] - 0s 2ms/step - loss: 46.5531\n"
     ]
    },
    {
     "data": {
      "text/plain": [
       "46.5530891418457"
      ]
     },
     "execution_count": 22,
     "metadata": {},
     "output_type": "execute_result"
    }
   ],
   "source": [
    "loss_val = model.evaluate(X_test, y_test)\n",
    "loss_val"
   ]
  },
  {
   "cell_type": "markdown",
   "id": "8950f989",
   "metadata": {},
   "source": [
    "Make a prediction"
   ]
  },
  {
   "cell_type": "code",
   "execution_count": 23,
   "id": "19cc33df",
   "metadata": {},
   "outputs": [
    {
     "name": "stdout",
     "output_type": "stream",
     "text": [
      "11/11 [==============================] - 0s 2ms/step\n"
     ]
    }
   ],
   "source": [
    "y_pred = model.predict(X_test)"
   ]
  },
  {
   "cell_type": "markdown",
   "id": "a72d917c",
   "metadata": {},
   "source": [
    "Compute the Mean Squared Error & Standard Deviation"
   ]
  },
  {
   "cell_type": "code",
   "execution_count": 24,
   "id": "2818e991",
   "metadata": {},
   "outputs": [
    {
     "name": "stdout",
     "output_type": "stream",
     "text": [
      "46.55308698434392 0.0\n"
     ]
    }
   ],
   "source": [
    "mse = mean_squared_error(y_test, y_pred)\n",
    "mean_mse = np.mean(mse)\n",
    "standard_deviation = np.std(mse)\n",
    "print(mean_mse, standard_deviation)"
   ]
  },
  {
   "cell_type": "markdown",
   "id": "ca026c12",
   "metadata": {},
   "source": [
    "Create a list of 50 Mean squared errors & standard deviation"
   ]
  },
  {
   "cell_type": "code",
   "execution_count": 25,
   "id": "bed3e8ac",
   "metadata": {},
   "outputs": [
    {
     "name": "stdout",
     "output_type": "stream",
     "text": [
      "MSE 1: 48.75705337524414\n",
      "11/11 [==============================] - 0s 1ms/step\n",
      "MSE 2: 46.92841339111328\n",
      "11/11 [==============================] - 0s 1ms/step\n",
      "MSE 3: 62.50506591796875\n",
      "11/11 [==============================] - 0s 2ms/step\n",
      "MSE 4: 46.316810607910156\n",
      "11/11 [==============================] - 0s 2ms/step\n",
      "MSE 5: 41.953285217285156\n",
      "11/11 [==============================] - 0s 2ms/step\n",
      "MSE 6: 48.49091720581055\n",
      "11/11 [==============================] - 0s 2ms/step\n",
      "MSE 7: 50.8042106628418\n",
      "11/11 [==============================] - 0s 1ms/step\n",
      "MSE 8: 39.374446868896484\n",
      "11/11 [==============================] - 0s 1ms/step\n",
      "MSE 9: 44.2526741027832\n",
      "11/11 [==============================] - 0s 1ms/step\n",
      "MSE 10: 43.82412338256836\n",
      "11/11 [==============================] - 0s 2ms/step\n",
      "MSE 11: 41.267269134521484\n",
      "11/11 [==============================] - 0s 1ms/step\n",
      "MSE 12: 42.63924026489258\n",
      "11/11 [==============================] - 0s 2ms/step\n",
      "MSE 13: 50.12614822387695\n",
      "11/11 [==============================] - 0s 1ms/step\n",
      "MSE 14: 45.6815071105957\n",
      "11/11 [==============================] - 0s 1ms/step\n",
      "MSE 15: 45.336280822753906\n",
      "11/11 [==============================] - 0s 1ms/step\n",
      "MSE 16: 36.58869934082031\n",
      "11/11 [==============================] - 0s 1ms/step\n",
      "MSE 17: 49.91041946411133\n",
      "11/11 [==============================] - 0s 1ms/step\n",
      "MSE 18: 48.02261734008789\n",
      "11/11 [==============================] - 0s 1ms/step\n",
      "MSE 19: 39.2397575378418\n",
      "11/11 [==============================] - 0s 1ms/step\n",
      "MSE 20: 41.58934020996094\n",
      "11/11 [==============================] - 0s 1ms/step\n",
      "MSE 21: 47.058475494384766\n",
      "11/11 [==============================] - 0s 1ms/step\n",
      "MSE 22: 42.539276123046875\n",
      "11/11 [==============================] - 0s 1ms/step\n",
      "MSE 23: 39.05759048461914\n",
      "11/11 [==============================] - 0s 1ms/step\n",
      "MSE 24: 45.12504959106445\n",
      "11/11 [==============================] - 0s 1ms/step\n",
      "MSE 25: 42.72552490234375\n",
      "11/11 [==============================] - 0s 1ms/step\n",
      "MSE 26: 52.07964324951172\n",
      "11/11 [==============================] - 0s 1ms/step\n",
      "MSE 27: 42.91600036621094\n",
      "11/11 [==============================] - 0s 1ms/step\n",
      "MSE 28: 41.19646072387695\n",
      "11/11 [==============================] - 0s 2ms/step\n",
      "MSE 29: 47.29335403442383\n",
      "11/11 [==============================] - 0s 2ms/step\n",
      "MSE 30: 40.94799041748047\n",
      "11/11 [==============================] - 0s 1ms/step\n",
      "MSE 31: 51.47583770751953\n",
      "11/11 [==============================] - 0s 1ms/step\n",
      "MSE 32: 38.9764518737793\n",
      "11/11 [==============================] - 0s 2ms/step\n",
      "MSE 33: 46.49760437011719\n",
      "11/11 [==============================] - 0s 1ms/step\n",
      "MSE 34: 43.477874755859375\n",
      "11/11 [==============================] - 0s 1ms/step\n",
      "MSE 35: 43.090919494628906\n",
      "11/11 [==============================] - 0s 1ms/step\n",
      "MSE 36: 47.31465530395508\n",
      "11/11 [==============================] - 0s 1ms/step\n",
      "MSE 37: 45.39828109741211\n",
      "11/11 [==============================] - 0s 1ms/step\n",
      "MSE 38: 46.0902099609375\n",
      "11/11 [==============================] - 0s 1ms/step\n",
      "MSE 39: 41.65610122680664\n",
      "11/11 [==============================] - 0s 1ms/step\n",
      "MSE 40: 49.994728088378906\n",
      "11/11 [==============================] - 0s 2ms/step\n",
      "MSE 41: 46.74650955200195\n",
      "11/11 [==============================] - 0s 1ms/step\n",
      "MSE 42: 43.19002151489258\n",
      "11/11 [==============================] - 0s 1ms/step\n",
      "MSE 43: 46.51218032836914\n",
      "11/11 [==============================] - 0s 2ms/step\n",
      "MSE 44: 45.90679168701172\n",
      "11/11 [==============================] - 0s 1ms/step\n",
      "MSE 45: 47.51087951660156\n",
      "11/11 [==============================] - 0s 1ms/step\n",
      "MSE 46: 48.50432586669922\n",
      "11/11 [==============================] - 0s 1ms/step\n",
      "MSE 47: 43.24184036254883\n",
      "11/11 [==============================] - 0s 1ms/step\n",
      "MSE 48: 42.94293212890625\n",
      "11/11 [==============================] - 0s 1ms/step\n",
      "MSE 49: 53.76702117919922\n",
      "11/11 [==============================] - 0s 2ms/step\n",
      "MSE 50: 44.62984085083008\n",
      "11/11 [==============================] - 0s 1ms/step\n",
      "Mean of Mean Squared Errors: 45.42945311987108\n",
      "Standard Deviation of Mean Squared Errors: 4.435524814174539\n"
     ]
    }
   ],
   "source": [
    "num_iterations = 50\n",
    "mse_scores = []\n",
    "epochs=50\n",
    "\n",
    "for i in range(0, num_iterations):\n",
    "    # Train test split\n",
    "    X_train, X_test, y_train, y_test = train_test_split(predictors, target, test_size=0.33, random_state=i)\n",
    "\n",
    "    # train the model\n",
    "    model.fit(X_train, y_train, epochs=epochs, verbose=0)\n",
    "    \n",
    "    # Evaluation\n",
    "    MSE = model.evaluate(X_test, y_test, verbose=0)\n",
    "    print(\"MSE \"+str(i+1)+\": \"+str(MSE))\n",
    "    \n",
    "    # Prediction\n",
    "    y_pred = model.predict(X_test)\n",
    "    \n",
    "    # Compute MSE\n",
    "    mse = mean_squared_error(y_test, y_pred)\n",
    "    \n",
    "    # Add MSE to the list\n",
    "    mse_scores.append(mse)\n",
    "\n",
    "# Compute MSE & STD\n",
    "mean_mse = np.mean(mse_scores)\n",
    "std_dev_mse = np.std(mse_scores)\n",
    "\n",
    "# Print the results\n",
    "print(\"Mean of Mean Squared Errors:\", mean_mse)\n",
    "print(\"Standard Deviation of Mean Squared Errors:\", std_dev_mse)"
   ]
  },
  {
   "cell_type": "markdown",
   "id": "ca896f29",
   "metadata": {},
   "source": [
    "# Part B - Normalized data"
   ]
  },
  {
   "cell_type": "code",
   "execution_count": 92,
   "id": "b8d08b9e",
   "metadata": {},
   "outputs": [
    {
     "data": {
      "text/html": [
       "<div>\n",
       "<style scoped>\n",
       "    .dataframe tbody tr th:only-of-type {\n",
       "        vertical-align: middle;\n",
       "    }\n",
       "\n",
       "    .dataframe tbody tr th {\n",
       "        vertical-align: top;\n",
       "    }\n",
       "\n",
       "    .dataframe thead th {\n",
       "        text-align: right;\n",
       "    }\n",
       "</style>\n",
       "<table border=\"1\" class=\"dataframe\">\n",
       "  <thead>\n",
       "    <tr style=\"text-align: right;\">\n",
       "      <th></th>\n",
       "      <th>Cement</th>\n",
       "      <th>Blast Furnace Slag</th>\n",
       "      <th>Fly Ash</th>\n",
       "      <th>Water</th>\n",
       "      <th>Superplasticizer</th>\n",
       "      <th>Coarse Aggregate</th>\n",
       "      <th>Fine Aggregate</th>\n",
       "      <th>Age</th>\n",
       "    </tr>\n",
       "  </thead>\n",
       "  <tbody>\n",
       "    <tr>\n",
       "      <th>0</th>\n",
       "      <td>2.476712</td>\n",
       "      <td>-0.856472</td>\n",
       "      <td>-0.846733</td>\n",
       "      <td>-0.916319</td>\n",
       "      <td>-0.620147</td>\n",
       "      <td>0.862735</td>\n",
       "      <td>-1.217079</td>\n",
       "      <td>-0.279597</td>\n",
       "    </tr>\n",
       "    <tr>\n",
       "      <th>1</th>\n",
       "      <td>2.476712</td>\n",
       "      <td>-0.856472</td>\n",
       "      <td>-0.846733</td>\n",
       "      <td>-0.916319</td>\n",
       "      <td>-0.620147</td>\n",
       "      <td>1.055651</td>\n",
       "      <td>-1.217079</td>\n",
       "      <td>-0.279597</td>\n",
       "    </tr>\n",
       "    <tr>\n",
       "      <th>2</th>\n",
       "      <td>0.491187</td>\n",
       "      <td>0.795140</td>\n",
       "      <td>-0.846733</td>\n",
       "      <td>2.174405</td>\n",
       "      <td>-1.038638</td>\n",
       "      <td>-0.526262</td>\n",
       "      <td>-2.239829</td>\n",
       "      <td>3.551340</td>\n",
       "    </tr>\n",
       "    <tr>\n",
       "      <th>3</th>\n",
       "      <td>0.491187</td>\n",
       "      <td>0.795140</td>\n",
       "      <td>-0.846733</td>\n",
       "      <td>2.174405</td>\n",
       "      <td>-1.038638</td>\n",
       "      <td>-0.526262</td>\n",
       "      <td>-2.239829</td>\n",
       "      <td>5.055221</td>\n",
       "    </tr>\n",
       "    <tr>\n",
       "      <th>4</th>\n",
       "      <td>-0.790075</td>\n",
       "      <td>0.678079</td>\n",
       "      <td>-0.846733</td>\n",
       "      <td>0.488555</td>\n",
       "      <td>-1.038638</td>\n",
       "      <td>0.070492</td>\n",
       "      <td>0.647569</td>\n",
       "      <td>4.976069</td>\n",
       "    </tr>\n",
       "  </tbody>\n",
       "</table>\n",
       "</div>"
      ],
      "text/plain": [
       "     Cement  Blast Furnace Slag   Fly Ash     Water  Superplasticizer  \\\n",
       "0  2.476712           -0.856472 -0.846733 -0.916319         -0.620147   \n",
       "1  2.476712           -0.856472 -0.846733 -0.916319         -0.620147   \n",
       "2  0.491187            0.795140 -0.846733  2.174405         -1.038638   \n",
       "3  0.491187            0.795140 -0.846733  2.174405         -1.038638   \n",
       "4 -0.790075            0.678079 -0.846733  0.488555         -1.038638   \n",
       "\n",
       "   Coarse Aggregate  Fine Aggregate       Age  \n",
       "0          0.862735       -1.217079 -0.279597  \n",
       "1          1.055651       -1.217079 -0.279597  \n",
       "2         -0.526262       -2.239829  3.551340  \n",
       "3         -0.526262       -2.239829  5.055221  \n",
       "4          0.070492        0.647569  4.976069  "
      ]
     },
     "execution_count": 92,
     "metadata": {},
     "output_type": "execute_result"
    }
   ],
   "source": [
    "# Normalize the data\n",
    "predictors_norm = (predictors - predictors.mean()) / predictors.std()\n",
    "predictors_norm.head()"
   ]
  },
  {
   "cell_type": "markdown",
   "id": "f95435e3",
   "metadata": {},
   "source": [
    "Split the data"
   ]
  },
  {
   "cell_type": "code",
   "execution_count": 97,
   "id": "683d7738",
   "metadata": {},
   "outputs": [],
   "source": [
    "X_train_norm, X_test_norm, y_train_norm, y_test_norm = train_test_split(predictors_norm, target, test_size=0.3, random_state=42)"
   ]
  },
  {
   "cell_type": "markdown",
   "id": "658e9f6d",
   "metadata": {},
   "source": [
    "Initialize the model with the function created before"
   ]
  },
  {
   "cell_type": "code",
   "execution_count": 98,
   "id": "afb9b6d2",
   "metadata": {},
   "outputs": [],
   "source": [
    "# Initialize the model\n",
    "model_norm = create_model()"
   ]
  },
  {
   "cell_type": "markdown",
   "id": "584d7f2d",
   "metadata": {},
   "source": [
    "Train the model on 50 epochs"
   ]
  },
  {
   "cell_type": "code",
   "execution_count": 101,
   "id": "923b1994",
   "metadata": {},
   "outputs": [
    {
     "name": "stdout",
     "output_type": "stream",
     "text": [
      "Epoch 1/50\n",
      "23/23 [==============================] - 0s 1ms/step - loss: 147.3911\n",
      "Epoch 2/50\n",
      "23/23 [==============================] - 0s 1ms/step - loss: 146.4980\n",
      "Epoch 3/50\n",
      "23/23 [==============================] - 0s 1ms/step - loss: 145.5682\n",
      "Epoch 4/50\n",
      "23/23 [==============================] - 0s 1ms/step - loss: 144.6887\n",
      "Epoch 5/50\n",
      "23/23 [==============================] - 0s 1ms/step - loss: 143.7065\n",
      "Epoch 6/50\n",
      "23/23 [==============================] - 0s 1ms/step - loss: 142.8766\n",
      "Epoch 7/50\n",
      "23/23 [==============================] - 0s 869us/step - loss: 141.9023\n",
      "Epoch 8/50\n",
      "23/23 [==============================] - 0s 1ms/step - loss: 141.0731\n",
      "Epoch 9/50\n",
      "23/23 [==============================] - 0s 880us/step - loss: 140.1466\n",
      "Epoch 10/50\n",
      "23/23 [==============================] - 0s 1ms/step - loss: 139.2679\n",
      "Epoch 11/50\n",
      "23/23 [==============================] - 0s 1ms/step - loss: 138.4884\n",
      "Epoch 12/50\n",
      "23/23 [==============================] - 0s 1ms/step - loss: 137.5470\n",
      "Epoch 13/50\n",
      "23/23 [==============================] - 0s 988us/step - loss: 136.7892\n",
      "Epoch 14/50\n",
      "23/23 [==============================] - 0s 1ms/step - loss: 135.8829\n",
      "Epoch 15/50\n",
      "23/23 [==============================] - 0s 1ms/step - loss: 135.0205\n",
      "Epoch 16/50\n",
      "23/23 [==============================] - 0s 1ms/step - loss: 134.1202\n",
      "Epoch 17/50\n",
      "23/23 [==============================] - 0s 1ms/step - loss: 133.2951\n",
      "Epoch 18/50\n",
      "23/23 [==============================] - 0s 1ms/step - loss: 132.5089\n",
      "Epoch 19/50\n",
      "23/23 [==============================] - 0s 1ms/step - loss: 131.6364\n",
      "Epoch 20/50\n",
      "23/23 [==============================] - 0s 1ms/step - loss: 130.8672\n",
      "Epoch 21/50\n",
      "23/23 [==============================] - 0s 1ms/step - loss: 130.0390\n",
      "Epoch 22/50\n",
      "23/23 [==============================] - 0s 1ms/step - loss: 129.3321\n",
      "Epoch 23/50\n",
      "23/23 [==============================] - 0s 1ms/step - loss: 128.5199\n",
      "Epoch 24/50\n",
      "23/23 [==============================] - 0s 988us/step - loss: 127.7848\n",
      "Epoch 25/50\n",
      "23/23 [==============================] - 0s 1ms/step - loss: 126.8326\n",
      "Epoch 26/50\n",
      "23/23 [==============================] - 0s 1ms/step - loss: 126.1152\n",
      "Epoch 27/50\n",
      "23/23 [==============================] - 0s 1ms/step - loss: 125.3041\n",
      "Epoch 28/50\n",
      "23/23 [==============================] - 0s 1ms/step - loss: 124.6017\n",
      "Epoch 29/50\n",
      "23/23 [==============================] - 0s 1ms/step - loss: 123.8562\n",
      "Epoch 30/50\n",
      "23/23 [==============================] - 0s 1ms/step - loss: 123.0666\n",
      "Epoch 31/50\n",
      "23/23 [==============================] - 0s 1ms/step - loss: 122.4011\n",
      "Epoch 32/50\n",
      "23/23 [==============================] - 0s 1ms/step - loss: 121.6225\n",
      "Epoch 33/50\n",
      "23/23 [==============================] - 0s 1ms/step - loss: 120.8772\n",
      "Epoch 34/50\n",
      "23/23 [==============================] - 0s 1ms/step - loss: 120.2259\n",
      "Epoch 35/50\n",
      "23/23 [==============================] - 0s 1ms/step - loss: 119.4649\n",
      "Epoch 36/50\n",
      "23/23 [==============================] - 0s 1ms/step - loss: 118.7843\n",
      "Epoch 37/50\n",
      "23/23 [==============================] - 0s 1ms/step - loss: 118.0407\n",
      "Epoch 38/50\n",
      "23/23 [==============================] - 0s 1ms/step - loss: 117.4642\n",
      "Epoch 39/50\n",
      "23/23 [==============================] - 0s 1ms/step - loss: 116.6903\n",
      "Epoch 40/50\n",
      "23/23 [==============================] - 0s 1ms/step - loss: 116.0159\n",
      "Epoch 41/50\n",
      "23/23 [==============================] - 0s 1ms/step - loss: 115.4079\n",
      "Epoch 42/50\n",
      "23/23 [==============================] - 0s 1ms/step - loss: 114.6979\n",
      "Epoch 43/50\n",
      "23/23 [==============================] - 0s 1ms/step - loss: 114.1422\n",
      "Epoch 44/50\n",
      "23/23 [==============================] - 0s 1ms/step - loss: 113.4590\n",
      "Epoch 45/50\n",
      "23/23 [==============================] - 0s 1ms/step - loss: 112.8984\n",
      "Epoch 46/50\n",
      "23/23 [==============================] - 0s 1ms/step - loss: 112.2743\n",
      "Epoch 47/50\n",
      "23/23 [==============================] - 0s 1ms/step - loss: 111.5890\n",
      "Epoch 48/50\n",
      "23/23 [==============================] - 0s 1ms/step - loss: 111.0193\n",
      "Epoch 49/50\n",
      "23/23 [==============================] - 0s 1ms/step - loss: 110.4396\n",
      "Epoch 50/50\n",
      "23/23 [==============================] - 0s 1ms/step - loss: 109.8204\n"
     ]
    },
    {
     "data": {
      "text/plain": [
       "<keras.callbacks.History at 0x7f21790a2fb0>"
      ]
     },
     "execution_count": 101,
     "metadata": {},
     "output_type": "execute_result"
    }
   ],
   "source": [
    "# fit the model\n",
    "epochs = 50\n",
    "model_norm.fit(X_train_norm, y_train_norm, epochs=epochs, verbose=1)"
   ]
  },
  {
   "cell_type": "markdown",
   "id": "51b58786",
   "metadata": {},
   "source": [
    "Evaluate"
   ]
  },
  {
   "cell_type": "code",
   "execution_count": 102,
   "id": "199597ff",
   "metadata": {},
   "outputs": [
    {
     "name": "stdout",
     "output_type": "stream",
     "text": [
      "10/10 [==============================] - 0s 2ms/step - loss: 112.7778\n"
     ]
    },
    {
     "data": {
      "text/plain": [
       "112.77784729003906"
      ]
     },
     "execution_count": 102,
     "metadata": {},
     "output_type": "execute_result"
    }
   ],
   "source": [
    "loss_val_norm = model_norm.evaluate(X_test_norm, y_test_norm)\n",
    "loss_val_norm"
   ]
  },
  {
   "cell_type": "markdown",
   "id": "719449be",
   "metadata": {},
   "source": [
    "Make a prediction"
   ]
  },
  {
   "cell_type": "code",
   "execution_count": 103,
   "id": "6080531b",
   "metadata": {},
   "outputs": [
    {
     "name": "stdout",
     "output_type": "stream",
     "text": [
      "10/10 [==============================] - 0s 2ms/step\n"
     ]
    }
   ],
   "source": [
    "y_pred_norm = model_norm.predict(X_test_norm)"
   ]
  },
  {
   "cell_type": "markdown",
   "id": "e781b928",
   "metadata": {},
   "source": [
    "Compute the Mean Squared Error & Standard Deviation"
   ]
  },
  {
   "cell_type": "code",
   "execution_count": 105,
   "id": "0ff1f541",
   "metadata": {},
   "outputs": [
    {
     "name": "stdout",
     "output_type": "stream",
     "text": [
      "67.41266684916235 0.0\n"
     ]
    }
   ],
   "source": [
    "mse_norm = mean_squared_error(y_test_norm, y_pred_norm)\n",
    "mean_mse_norm = np.mean(mse_norm)\n",
    "standard_deviation_norm = np.std(mse_norm)\n",
    "print(mean_mse, standard_deviation_norm)"
   ]
  },
  {
   "cell_type": "markdown",
   "id": "31f16c8e",
   "metadata": {},
   "source": [
    "Create a list of 50 Mean squared errors & standard deviation"
   ]
  },
  {
   "cell_type": "code",
   "execution_count": 107,
   "id": "3227ba46",
   "metadata": {},
   "outputs": [
    {
     "name": "stdout",
     "output_type": "stream",
     "text": [
      "MSE 1: 35.58706283569336\n",
      "11/11 [==============================] - 0s 1ms/step\n",
      "MSE 2: 41.04273223876953\n",
      "11/11 [==============================] - 0s 1ms/step\n",
      "MSE 3: 30.130773544311523\n",
      "11/11 [==============================] - 0s 1ms/step\n",
      "MSE 4: 33.92168426513672\n",
      "11/11 [==============================] - 0s 1ms/step\n",
      "MSE 5: 35.9868278503418\n",
      "11/11 [==============================] - 0s 1ms/step\n",
      "MSE 6: 39.7955322265625\n",
      "11/11 [==============================] - 0s 1ms/step\n",
      "MSE 7: 40.70010757446289\n",
      "11/11 [==============================] - 0s 1ms/step\n",
      "MSE 8: 32.31037521362305\n",
      "11/11 [==============================] - 0s 1ms/step\n",
      "MSE 9: 37.4583740234375\n",
      "11/11 [==============================] - 0s 1ms/step\n",
      "MSE 10: 35.669002532958984\n",
      "11/11 [==============================] - 0s 1ms/step\n",
      "MSE 11: 35.85686111450195\n",
      "11/11 [==============================] - 0s 1ms/step\n",
      "MSE 12: 31.308399200439453\n",
      "11/11 [==============================] - 0s 1ms/step\n",
      "MSE 13: 41.51934814453125\n",
      "11/11 [==============================] - 0s 1ms/step\n",
      "MSE 14: 39.31616973876953\n",
      "11/11 [==============================] - 0s 1ms/step\n",
      "MSE 15: 32.75218200683594\n",
      "11/11 [==============================] - 0s 1ms/step\n",
      "MSE 16: 30.526241302490234\n",
      "11/11 [==============================] - 0s 1ms/step\n",
      "MSE 17: 36.58448028564453\n",
      "11/11 [==============================] - 0s 1ms/step\n",
      "MSE 18: 37.28378677368164\n",
      "11/11 [==============================] - 0s 1ms/step\n",
      "MSE 19: 34.61320495605469\n",
      "11/11 [==============================] - 0s 1ms/step\n",
      "MSE 20: 34.778743743896484\n",
      "11/11 [==============================] - 0s 1ms/step\n",
      "MSE 21: 33.66675567626953\n",
      "11/11 [==============================] - 0s 1ms/step\n",
      "MSE 22: 37.420066833496094\n",
      "11/11 [==============================] - 0s 1ms/step\n",
      "MSE 23: 29.582780838012695\n",
      "11/11 [==============================] - 0s 1ms/step\n",
      "MSE 24: 34.59921646118164\n",
      "11/11 [==============================] - 0s 1ms/step\n",
      "MSE 25: 33.35675811767578\n",
      "11/11 [==============================] - 0s 1ms/step\n",
      "MSE 26: 34.330047607421875\n",
      "11/11 [==============================] - 0s 1ms/step\n",
      "MSE 27: 31.14287757873535\n",
      "11/11 [==============================] - 0s 1ms/step\n",
      "MSE 28: 31.271451950073242\n",
      "11/11 [==============================] - 0s 1ms/step\n",
      "MSE 29: 37.999610900878906\n",
      "11/11 [==============================] - 0s 1ms/step\n",
      "MSE 30: 37.232940673828125\n",
      "11/11 [==============================] - 0s 1ms/step\n",
      "MSE 31: 33.15715789794922\n",
      "11/11 [==============================] - 0s 1ms/step\n",
      "MSE 32: 33.246543884277344\n",
      "11/11 [==============================] - 0s 1ms/step\n",
      "MSE 33: 32.235931396484375\n",
      "11/11 [==============================] - 0s 1ms/step\n",
      "MSE 34: 35.58063507080078\n",
      "11/11 [==============================] - 0s 1ms/step\n",
      "MSE 35: 35.22871780395508\n",
      "11/11 [==============================] - 0s 1ms/step\n",
      "MSE 36: 41.3377685546875\n",
      "11/11 [==============================] - 0s 911us/step\n",
      "MSE 37: 31.25238609313965\n",
      "11/11 [==============================] - 0s 1ms/step\n",
      "MSE 38: 35.934478759765625\n",
      "11/11 [==============================] - 0s 1ms/step\n",
      "MSE 39: 34.61058807373047\n",
      "11/11 [==============================] - 0s 1ms/step\n",
      "MSE 40: 29.521886825561523\n",
      "11/11 [==============================] - 0s 1ms/step\n",
      "MSE 41: 38.23648452758789\n",
      "11/11 [==============================] - 0s 1ms/step\n",
      "MSE 42: 31.275959014892578\n",
      "11/11 [==============================] - 0s 1ms/step\n",
      "MSE 43: 34.68501663208008\n",
      "11/11 [==============================] - 0s 1ms/step\n",
      "MSE 44: 37.27531433105469\n",
      "11/11 [==============================] - 0s 1ms/step\n",
      "MSE 45: 36.04758834838867\n",
      "11/11 [==============================] - 0s 1ms/step\n",
      "MSE 46: 36.04483413696289\n",
      "11/11 [==============================] - 0s 1ms/step\n",
      "MSE 47: 35.4764518737793\n",
      "11/11 [==============================] - 0s 1ms/step\n",
      "MSE 48: 34.44910430908203\n",
      "11/11 [==============================] - 0s 1ms/step\n",
      "MSE 49: 35.622833251953125\n",
      "11/11 [==============================] - 0s 1ms/step\n",
      "MSE 50: 39.16204833984375\n",
      "11/11 [==============================] - 0s 1ms/step\n",
      "Mean of Mean Squared Errors: 35.16252211427806\n",
      "Standard Deviation of Mean Squared Errors: 3.0722415334173228\n"
     ]
    }
   ],
   "source": [
    "num_iterations = 50\n",
    "mse_scores_norm = []\n",
    "epochs=50\n",
    "\n",
    "for i in range(0, num_iterations):\n",
    "    # Train test split\n",
    "    X_train_norm, X_test_norm, y_train_norm, y_test_norm = train_test_split(predictors_norm, target, test_size=0.33, random_state=i)\n",
    "\n",
    "    # train the model\n",
    "    model_norm.fit(X_train_norm, y_train_norm, epochs=epochs, verbose=0)\n",
    "    \n",
    "    # Evaluation\n",
    "    MSE = model_norm.evaluate(X_test_norm, y_test_norm, verbose=0)\n",
    "    print(\"MSE \"+str(i+1)+\": \"+str(MSE))\n",
    "    \n",
    "    # Prediction\n",
    "    y_pred_norm = model_norm.predict(X_test_norm)\n",
    "    \n",
    "    # Compute MSE\n",
    "    mse_norm = mean_squared_error(y_test_norm, y_pred_norm)\n",
    "    \n",
    "    # Add MSE to the list\n",
    "    mse_scores_norm.append(mse_norm)\n",
    "\n",
    "# Compute MSE & STD\n",
    "mean_mse_norm = np.mean(mse_scores_norm)\n",
    "std_dev_mse_norm = np.std(mse_scores_norm)\n",
    "\n",
    "# Print the results\n",
    "print(\"Mean of Mean Squared Errors:\", mean_mse_norm)\n",
    "print(\"Standard Deviation of Mean Squared Errors:\", std_dev_mse_norm)"
   ]
  },
  {
   "cell_type": "markdown",
   "id": "931be2b8",
   "metadata": {},
   "source": [
    "The Mean of Mean Squared Errors is lower with normalized data"
   ]
  },
  {
   "cell_type": "markdown",
   "id": "e712fda0",
   "metadata": {},
   "source": [
    "# Part C - Train on 100 epochs"
   ]
  },
  {
   "cell_type": "markdown",
   "id": "d26d5961",
   "metadata": {},
   "source": [
    "Initialize the model"
   ]
  },
  {
   "cell_type": "code",
   "execution_count": 108,
   "id": "16a74d94",
   "metadata": {},
   "outputs": [],
   "source": [
    "# Initialize the model\n",
    "model_100 = create_model()"
   ]
  },
  {
   "cell_type": "markdown",
   "id": "de5a3a61",
   "metadata": {},
   "source": [
    "Train on 100 epochs"
   ]
  },
  {
   "cell_type": "code",
   "execution_count": 110,
   "id": "557a6a30",
   "metadata": {},
   "outputs": [
    {
     "name": "stdout",
     "output_type": "stream",
     "text": [
      "Epoch 1/100\n",
      "22/22 [==============================] - 0s 1ms/step - loss: 168.2099\n",
      "Epoch 2/100\n",
      "22/22 [==============================] - 0s 1ms/step - loss: 166.9905\n",
      "Epoch 3/100\n",
      "22/22 [==============================] - 0s 1ms/step - loss: 165.6901\n",
      "Epoch 4/100\n",
      "22/22 [==============================] - 0s 1ms/step - loss: 164.4658\n",
      "Epoch 5/100\n",
      "22/22 [==============================] - 0s 1ms/step - loss: 163.3472\n",
      "Epoch 6/100\n",
      "22/22 [==============================] - 0s 1ms/step - loss: 162.1200\n",
      "Epoch 7/100\n",
      "22/22 [==============================] - 0s 900us/step - loss: 161.0580\n",
      "Epoch 8/100\n",
      "22/22 [==============================] - 0s 1ms/step - loss: 159.9584\n",
      "Epoch 9/100\n",
      "22/22 [==============================] - 0s 899us/step - loss: 158.9181\n",
      "Epoch 10/100\n",
      "22/22 [==============================] - 0s 1ms/step - loss: 157.7443\n",
      "Epoch 11/100\n",
      "22/22 [==============================] - 0s 921us/step - loss: 156.7258\n",
      "Epoch 12/100\n",
      "22/22 [==============================] - 0s 1ms/step - loss: 155.7080\n",
      "Epoch 13/100\n",
      "22/22 [==============================] - 0s 931us/step - loss: 154.6739\n",
      "Epoch 14/100\n",
      "22/22 [==============================] - 0s 988us/step - loss: 153.7598\n",
      "Epoch 15/100\n",
      "22/22 [==============================] - 0s 1ms/step - loss: 152.6670\n",
      "Epoch 16/100\n",
      "22/22 [==============================] - 0s 1ms/step - loss: 151.7003\n",
      "Epoch 17/100\n",
      "22/22 [==============================] - 0s 1ms/step - loss: 150.8107\n",
      "Epoch 18/100\n",
      "22/22 [==============================] - 0s 1ms/step - loss: 149.8837\n",
      "Epoch 19/100\n",
      "22/22 [==============================] - 0s 1ms/step - loss: 148.9862\n",
      "Epoch 20/100\n",
      "22/22 [==============================] - 0s 1ms/step - loss: 148.0137\n",
      "Epoch 21/100\n",
      "22/22 [==============================] - 0s 1ms/step - loss: 147.1300\n",
      "Epoch 22/100\n",
      "22/22 [==============================] - 0s 1ms/step - loss: 146.2850\n",
      "Epoch 23/100\n",
      "22/22 [==============================] - 0s 1ms/step - loss: 145.4183\n",
      "Epoch 24/100\n",
      "22/22 [==============================] - 0s 1ms/step - loss: 144.5801\n",
      "Epoch 25/100\n",
      "22/22 [==============================] - 0s 1ms/step - loss: 143.6344\n",
      "Epoch 26/100\n",
      "22/22 [==============================] - 0s 1ms/step - loss: 142.8368\n",
      "Epoch 27/100\n",
      "22/22 [==============================] - 0s 1ms/step - loss: 141.9848\n",
      "Epoch 28/100\n",
      "22/22 [==============================] - 0s 1ms/step - loss: 141.1883\n",
      "Epoch 29/100\n",
      "22/22 [==============================] - 0s 1ms/step - loss: 140.3124\n",
      "Epoch 30/100\n",
      "22/22 [==============================] - 0s 1ms/step - loss: 139.5108\n",
      "Epoch 31/100\n",
      "22/22 [==============================] - 0s 1ms/step - loss: 138.7182\n",
      "Epoch 32/100\n",
      "22/22 [==============================] - 0s 1ms/step - loss: 137.9215\n",
      "Epoch 33/100\n",
      "22/22 [==============================] - 0s 1ms/step - loss: 137.1616\n",
      "Epoch 34/100\n",
      "22/22 [==============================] - 0s 1ms/step - loss: 136.4885\n",
      "Epoch 35/100\n",
      "22/22 [==============================] - 0s 1ms/step - loss: 135.7169\n",
      "Epoch 36/100\n",
      "22/22 [==============================] - 0s 1ms/step - loss: 135.0311\n",
      "Epoch 37/100\n",
      "22/22 [==============================] - 0s 1ms/step - loss: 134.3932\n",
      "Epoch 38/100\n",
      "22/22 [==============================] - 0s 1ms/step - loss: 133.6709\n",
      "Epoch 39/100\n",
      "22/22 [==============================] - 0s 1ms/step - loss: 133.0283\n",
      "Epoch 40/100\n",
      "22/22 [==============================] - 0s 1ms/step - loss: 132.3219\n",
      "Epoch 41/100\n",
      "22/22 [==============================] - 0s 1ms/step - loss: 131.6378\n",
      "Epoch 42/100\n",
      "22/22 [==============================] - 0s 1ms/step - loss: 131.0081\n",
      "Epoch 43/100\n",
      "22/22 [==============================] - 0s 1ms/step - loss: 130.3427\n",
      "Epoch 44/100\n",
      "22/22 [==============================] - 0s 1ms/step - loss: 129.7455\n",
      "Epoch 45/100\n",
      "22/22 [==============================] - 0s 1ms/step - loss: 129.0580\n",
      "Epoch 46/100\n",
      "22/22 [==============================] - 0s 1ms/step - loss: 128.4610\n",
      "Epoch 47/100\n",
      "22/22 [==============================] - 0s 1ms/step - loss: 127.7936\n",
      "Epoch 48/100\n",
      "22/22 [==============================] - 0s 1ms/step - loss: 127.1885\n",
      "Epoch 49/100\n",
      "22/22 [==============================] - 0s 1ms/step - loss: 126.5384\n",
      "Epoch 50/100\n",
      "22/22 [==============================] - 0s 1ms/step - loss: 125.8947\n",
      "Epoch 51/100\n",
      "22/22 [==============================] - 0s 1ms/step - loss: 125.3813\n",
      "Epoch 52/100\n",
      "22/22 [==============================] - 0s 1ms/step - loss: 124.7331\n",
      "Epoch 53/100\n",
      "22/22 [==============================] - 0s 1ms/step - loss: 124.1019\n",
      "Epoch 54/100\n",
      "22/22 [==============================] - 0s 1ms/step - loss: 123.4979\n",
      "Epoch 55/100\n",
      "22/22 [==============================] - 0s 1ms/step - loss: 122.8475\n",
      "Epoch 56/100\n",
      "22/22 [==============================] - 0s 1ms/step - loss: 122.2657\n",
      "Epoch 57/100\n",
      "22/22 [==============================] - 0s 1ms/step - loss: 121.6306\n",
      "Epoch 58/100\n",
      "22/22 [==============================] - 0s 1ms/step - loss: 121.0629\n",
      "Epoch 59/100\n",
      "22/22 [==============================] - 0s 1ms/step - loss: 120.4503\n",
      "Epoch 60/100\n",
      "22/22 [==============================] - 0s 1ms/step - loss: 119.9898\n",
      "Epoch 61/100\n",
      "22/22 [==============================] - 0s 1ms/step - loss: 119.3283\n",
      "Epoch 62/100\n",
      "22/22 [==============================] - 0s 1ms/step - loss: 118.6935\n",
      "Epoch 63/100\n",
      "22/22 [==============================] - 0s 1ms/step - loss: 118.1416\n",
      "Epoch 64/100\n",
      "22/22 [==============================] - 0s 1ms/step - loss: 117.6100\n",
      "Epoch 65/100\n",
      "22/22 [==============================] - 0s 1ms/step - loss: 117.0345\n",
      "Epoch 66/100\n",
      "22/22 [==============================] - 0s 1ms/step - loss: 116.4863\n",
      "Epoch 67/100\n",
      "22/22 [==============================] - 0s 996us/step - loss: 115.9261\n",
      "Epoch 68/100\n",
      "22/22 [==============================] - 0s 1ms/step - loss: 115.3495\n",
      "Epoch 69/100\n",
      "22/22 [==============================] - 0s 1ms/step - loss: 114.8247\n",
      "Epoch 70/100\n",
      "22/22 [==============================] - 0s 936us/step - loss: 114.3028\n",
      "Epoch 71/100\n",
      "22/22 [==============================] - 0s 1ms/step - loss: 113.7188\n",
      "Epoch 72/100\n",
      "22/22 [==============================] - 0s 956us/step - loss: 113.2081\n",
      "Epoch 73/100\n",
      "22/22 [==============================] - 0s 1ms/step - loss: 112.6907\n",
      "Epoch 74/100\n",
      "22/22 [==============================] - 0s 923us/step - loss: 112.1825\n",
      "Epoch 75/100\n",
      "22/22 [==============================] - 0s 1ms/step - loss: 111.5846\n",
      "Epoch 76/100\n",
      "22/22 [==============================] - 0s 994us/step - loss: 111.1317\n",
      "Epoch 77/100\n",
      "22/22 [==============================] - 0s 971us/step - loss: 110.5420\n",
      "Epoch 78/100\n",
      "22/22 [==============================] - 0s 943us/step - loss: 110.0841\n",
      "Epoch 79/100\n",
      "22/22 [==============================] - 0s 1ms/step - loss: 109.5911\n",
      "Epoch 80/100\n",
      "22/22 [==============================] - 0s 999us/step - loss: 109.0830\n",
      "Epoch 81/100\n",
      "22/22 [==============================] - 0s 1ms/step - loss: 108.5570\n",
      "Epoch 82/100\n",
      "22/22 [==============================] - 0s 1ms/step - loss: 108.1199\n",
      "Epoch 83/100\n",
      "22/22 [==============================] - 0s 1ms/step - loss: 107.5131\n",
      "Epoch 84/100\n",
      "22/22 [==============================] - 0s 1ms/step - loss: 107.0645\n",
      "Epoch 85/100\n",
      "22/22 [==============================] - 0s 1ms/step - loss: 106.6013\n",
      "Epoch 86/100\n",
      "22/22 [==============================] - 0s 1ms/step - loss: 106.1660\n",
      "Epoch 87/100\n",
      "22/22 [==============================] - 0s 1ms/step - loss: 105.5867\n",
      "Epoch 88/100\n",
      "22/22 [==============================] - 0s 1ms/step - loss: 105.0971\n",
      "Epoch 89/100\n",
      "22/22 [==============================] - 0s 986us/step - loss: 104.6111\n",
      "Epoch 90/100\n",
      "22/22 [==============================] - 0s 1ms/step - loss: 104.1368\n",
      "Epoch 91/100\n",
      "22/22 [==============================] - 0s 1ms/step - loss: 103.6785\n",
      "Epoch 92/100\n",
      "22/22 [==============================] - 0s 1ms/step - loss: 103.2604\n",
      "Epoch 93/100\n",
      "22/22 [==============================] - 0s 1ms/step - loss: 102.7715\n",
      "Epoch 94/100\n",
      "22/22 [==============================] - 0s 945us/step - loss: 102.3237\n",
      "Epoch 95/100\n",
      "22/22 [==============================] - 0s 1ms/step - loss: 101.8104\n",
      "Epoch 96/100\n",
      "22/22 [==============================] - 0s 957us/step - loss: 101.3460\n",
      "Epoch 97/100\n",
      "22/22 [==============================] - 0s 1ms/step - loss: 101.0152\n",
      "Epoch 98/100\n",
      "22/22 [==============================] - 0s 1ms/step - loss: 100.4144\n",
      "Epoch 99/100\n"
     ]
    },
    {
     "name": "stdout",
     "output_type": "stream",
     "text": [
      "22/22 [==============================] - 0s 1ms/step - loss: 100.0428\n",
      "Epoch 100/100\n",
      "22/22 [==============================] - 0s 1ms/step - loss: 99.4959\n"
     ]
    },
    {
     "data": {
      "text/plain": [
       "<keras.callbacks.History at 0x7f217a1f6e60>"
      ]
     },
     "execution_count": 110,
     "metadata": {},
     "output_type": "execute_result"
    }
   ],
   "source": [
    "# fit the model\n",
    "epochs = 100\n",
    "model_100.fit(X_train_norm, y_train_norm, epochs=epochs, verbose=1)"
   ]
  },
  {
   "cell_type": "markdown",
   "id": "60ae4d68",
   "metadata": {},
   "source": [
    "Evaluate the model"
   ]
  },
  {
   "cell_type": "code",
   "execution_count": 111,
   "id": "6a919960",
   "metadata": {},
   "outputs": [
    {
     "name": "stdout",
     "output_type": "stream",
     "text": [
      "11/11 [==============================] - 0s 1ms/step - loss: 104.7111\n"
     ]
    },
    {
     "data": {
      "text/plain": [
       "104.71109008789062"
      ]
     },
     "execution_count": 111,
     "metadata": {},
     "output_type": "execute_result"
    }
   ],
   "source": [
    "loss_val_100 = model_100.evaluate(X_test_norm, y_test_norm)\n",
    "loss_val_100"
   ]
  },
  {
   "cell_type": "markdown",
   "id": "519fb2d1",
   "metadata": {},
   "source": [
    "Make a prediction"
   ]
  },
  {
   "cell_type": "code",
   "execution_count": 112,
   "id": "fc89e960",
   "metadata": {},
   "outputs": [
    {
     "name": "stdout",
     "output_type": "stream",
     "text": [
      "11/11 [==============================] - 0s 1ms/step\n"
     ]
    }
   ],
   "source": [
    "y_pred_100 = model_100.predict(X_test_norm)"
   ]
  },
  {
   "cell_type": "markdown",
   "id": "14fb7e59",
   "metadata": {},
   "source": [
    "Compute the Mean Squared Error & Standard Deviation"
   ]
  },
  {
   "cell_type": "code",
   "execution_count": 113,
   "id": "45ed122b",
   "metadata": {},
   "outputs": [
    {
     "name": "stdout",
     "output_type": "stream",
     "text": [
      "104.71108324209523 0.0\n"
     ]
    }
   ],
   "source": [
    "mse_100 = mean_squared_error(y_test_norm, y_pred_100)\n",
    "mean_mse_100 = np.mean(mse_100)\n",
    "standard_deviation_100 = np.std(mse_100)\n",
    "print(mean_mse_100, standard_deviation_100)"
   ]
  },
  {
   "cell_type": "markdown",
   "id": "2d18f689",
   "metadata": {},
   "source": [
    "Create a list of 50 Mean squared errors & standard deviation with 100 epochs"
   ]
  },
  {
   "cell_type": "code",
   "execution_count": 114,
   "id": "6a090b34",
   "metadata": {},
   "outputs": [
    {
     "name": "stdout",
     "output_type": "stream",
     "text": [
      "MSE 1: 34.057315826416016\n",
      "11/11 [==============================] - 0s 1ms/step\n",
      "MSE 2: 38.04983139038086\n",
      "11/11 [==============================] - 0s 1ms/step\n",
      "MSE 3: 28.342945098876953\n",
      "11/11 [==============================] - 0s 1ms/step\n",
      "MSE 4: 32.8265380859375\n",
      "11/11 [==============================] - 0s 1ms/step\n",
      "MSE 5: 34.810455322265625\n",
      "11/11 [==============================] - 0s 1ms/step\n",
      "MSE 6: 38.796695709228516\n",
      "11/11 [==============================] - 0s 1ms/step\n",
      "MSE 7: 39.33518981933594\n",
      "11/11 [==============================] - 0s 1ms/step\n",
      "MSE 8: 31.247526168823242\n",
      "11/11 [==============================] - 0s 865us/step\n",
      "MSE 9: 36.99393844604492\n",
      "11/11 [==============================] - 0s 965us/step\n",
      "MSE 10: 34.39037322998047\n",
      "11/11 [==============================] - 0s 1ms/step\n",
      "MSE 11: 34.17864990234375\n",
      "11/11 [==============================] - 0s 1ms/step\n",
      "MSE 12: 28.558677673339844\n",
      "11/11 [==============================] - 0s 1ms/step\n",
      "MSE 13: 40.332008361816406\n",
      "11/11 [==============================] - 0s 1ms/step\n",
      "MSE 14: 38.496116638183594\n",
      "11/11 [==============================] - 0s 1ms/step\n",
      "MSE 15: 31.424848556518555\n",
      "11/11 [==============================] - 0s 1ms/step\n",
      "MSE 16: 29.711267471313477\n",
      "11/11 [==============================] - 0s 981us/step\n",
      "MSE 17: 35.72012710571289\n",
      "11/11 [==============================] - 0s 1ms/step\n",
      "MSE 18: 36.07088851928711\n",
      "11/11 [==============================] - 0s 1ms/step\n",
      "MSE 19: 32.47344207763672\n",
      "11/11 [==============================] - 0s 1ms/step\n",
      "MSE 20: 34.40504837036133\n",
      "11/11 [==============================] - 0s 1ms/step\n",
      "MSE 21: 33.74821472167969\n",
      "11/11 [==============================] - 0s 1ms/step\n",
      "MSE 22: 36.689552307128906\n",
      "11/11 [==============================] - 0s 1ms/step\n",
      "MSE 23: 28.835073471069336\n",
      "11/11 [==============================] - 0s 1ms/step\n",
      "MSE 24: 34.494564056396484\n",
      "11/11 [==============================] - 0s 1ms/step\n",
      "MSE 25: 32.72309112548828\n",
      "11/11 [==============================] - 0s 1ms/step\n",
      "MSE 26: 33.464351654052734\n",
      "11/11 [==============================] - 0s 1ms/step\n",
      "MSE 27: 30.46379280090332\n",
      "11/11 [==============================] - 0s 1ms/step\n",
      "MSE 28: 29.928762435913086\n",
      "11/11 [==============================] - 0s 1ms/step\n",
      "MSE 29: 36.82783508300781\n",
      "11/11 [==============================] - 0s 951us/step\n",
      "MSE 30: 36.755374908447266\n",
      "11/11 [==============================] - 0s 1ms/step\n",
      "MSE 31: 31.825838088989258\n",
      "11/11 [==============================] - 0s 997us/step\n",
      "MSE 32: 31.716508865356445\n",
      "11/11 [==============================] - 0s 1ms/step\n",
      "MSE 33: 31.072343826293945\n",
      "11/11 [==============================] - 0s 1ms/step\n",
      "MSE 34: 35.405521392822266\n",
      "11/11 [==============================] - 0s 1ms/step\n",
      "MSE 35: 33.5777473449707\n",
      "11/11 [==============================] - 0s 1ms/step\n",
      "MSE 36: 40.66577911376953\n",
      "11/11 [==============================] - 0s 1ms/step\n",
      "MSE 37: 29.889949798583984\n",
      "11/11 [==============================] - 0s 1ms/step\n",
      "MSE 38: 35.564109802246094\n",
      "11/11 [==============================] - 0s 1ms/step\n",
      "MSE 39: 34.051353454589844\n",
      "11/11 [==============================] - 0s 1ms/step\n",
      "MSE 40: 28.476760864257812\n",
      "11/11 [==============================] - 0s 942us/step\n",
      "MSE 41: 37.665897369384766\n",
      "11/11 [==============================] - 0s 1ms/step\n",
      "MSE 42: 29.870601654052734\n",
      "11/11 [==============================] - 0s 1ms/step\n",
      "MSE 43: 34.103153228759766\n",
      "11/11 [==============================] - 0s 1ms/step\n",
      "MSE 44: 36.11222457885742\n",
      "11/11 [==============================] - 0s 1ms/step\n",
      "MSE 45: 35.1528205871582\n",
      "11/11 [==============================] - 0s 1ms/step\n",
      "MSE 46: 35.13481903076172\n",
      "11/11 [==============================] - 0s 1ms/step\n",
      "MSE 47: 34.65708541870117\n",
      "11/11 [==============================] - 0s 998us/step\n",
      "MSE 48: 33.657569885253906\n",
      "11/11 [==============================] - 0s 1ms/step\n",
      "MSE 49: 33.99044418334961\n",
      "11/11 [==============================] - 0s 1ms/step\n",
      "MSE 50: 36.85435104370117\n",
      "11/11 [==============================] - 0s 976us/step\n",
      "Mean of Mean Squared Errors: 34.071946912398346\n",
      "Standard Deviation of Mean Squared Errors: 3.1147679435441793\n"
     ]
    }
   ],
   "source": [
    "num_iterations = 50\n",
    "mse_scores_norm = []\n",
    "epochs = 100\n",
    "\n",
    "for i in range(0, num_iterations):\n",
    "    # Train test split\n",
    "    X_train_norm, X_test_norm, y_train_norm, y_test_norm = train_test_split(predictors_norm, target, test_size=0.33, random_state=i)\n",
    "\n",
    "    # train the model\n",
    "    model_norm.fit(X_train_norm, y_train_norm, epochs=epochs, verbose=0)\n",
    "    \n",
    "    # Evaluation\n",
    "    MSE = model_norm.evaluate(X_test_norm, y_test_norm, verbose=0)\n",
    "    print(\"MSE \"+str(i+1)+\": \"+str(MSE))\n",
    "    \n",
    "    # Prediction\n",
    "    y_pred_norm = model_norm.predict(X_test_norm)\n",
    "    \n",
    "    # Compute MSE\n",
    "    mse_norm = mean_squared_error(y_test_norm, y_pred_norm)\n",
    "    \n",
    "    # Add MSE to the list\n",
    "    mse_scores_norm.append(mse_norm)\n",
    "\n",
    "# Compute MSE & STD\n",
    "mean_mse_norm = np.mean(mse_scores_norm)\n",
    "std_dev_mse_norm = np.std(mse_scores_norm)\n",
    "\n",
    "# Print the results\n",
    "print(\"Mean of Mean Squared Errors:\", mean_mse_norm)\n",
    "print(\"Standard Deviation of Mean Squared Errors:\", std_dev_mse_norm)"
   ]
  },
  {
   "cell_type": "markdown",
   "id": "725afdc2",
   "metadata": {},
   "source": [
    "The Mean of Mean Squared Error is near the result of step B"
   ]
  },
  {
   "cell_type": "code",
   "execution_count": null,
   "id": "ffcf8038",
   "metadata": {},
   "outputs": [],
   "source": []
  }
 ],
 "metadata": {
  "kernelspec": {
   "display_name": "Python 3 (ipykernel)",
   "language": "python",
   "name": "python3"
  },
  "language_info": {
   "codemirror_mode": {
    "name": "ipython",
    "version": 3
   },
   "file_extension": ".py",
   "mimetype": "text/x-python",
   "name": "python",
   "nbconvert_exporter": "python",
   "pygments_lexer": "ipython3",
   "version": "3.10.6"
  },
  "toc": {
   "base_numbering": 1,
   "nav_menu": {},
   "number_sections": true,
   "sideBar": true,
   "skip_h1_title": false,
   "title_cell": "Table of Contents",
   "title_sidebar": "Contents",
   "toc_cell": false,
   "toc_position": {},
   "toc_section_display": true,
   "toc_window_display": false
  }
 },
 "nbformat": 4,
 "nbformat_minor": 5
}
